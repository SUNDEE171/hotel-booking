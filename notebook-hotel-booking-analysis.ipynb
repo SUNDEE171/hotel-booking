{
 "cells": [
  {
   "cell_type": "code",
   "execution_count": 1,
   "id": "8a777b4d",
   "metadata": {
    "execution": {
     "iopub.execute_input": "2023-03-19T10:01:15.072796Z",
     "iopub.status.busy": "2023-03-19T10:01:15.071839Z",
     "iopub.status.idle": "2023-03-19T10:01:17.967676Z",
     "shell.execute_reply": "2023-03-19T10:01:17.966457Z"
    },
    "papermill": {
     "duration": 2.913003,
     "end_time": "2023-03-19T10:01:17.970477",
     "exception": false,
     "start_time": "2023-03-19T10:01:15.057474",
     "status": "completed"
    },
    "tags": []
   },
   "outputs": [],
   "source": [
    "#importing required libraries\n",
    "import numpy as np\n",
    "import pandas as pd\n",
    "import plotly.express as px\n",
    "from pandas.api.types import CategoricalDtype\n",
    "pd.set_option('display.max_columns', None)\n",
    "from datetime import datetime\n",
    "import seaborn as sns\n",
    "import matplotlib.pyplot as plt\n",
    "%matplotlib inline"
   ]
  },
  {
   "cell_type": "markdown",
   "id": "bd07828b",
   "metadata": {
    "papermill": {
     "duration": 0.010968,
     "end_time": "2023-03-19T10:01:17.992943",
     "exception": false,
     "start_time": "2023-03-19T10:01:17.981975",
     "status": "completed"
    },
    "tags": []
   },
   "source": [
    "link to dataset summary-\n",
    "https://www.sciencedirect.com/science/article/pii/S2352340918315191"
   ]
  },
  {
   "cell_type": "code",
   "execution_count": 2,
   "id": "e64bf010",
   "metadata": {
    "execution": {
     "iopub.execute_input": "2023-03-19T10:01:18.017466Z",
     "iopub.status.busy": "2023-03-19T10:01:18.017025Z",
     "iopub.status.idle": "2023-03-19T10:01:18.998822Z",
     "shell.execute_reply": "2023-03-19T10:01:18.997526Z"
    },
    "papermill": {
     "duration": 0.997872,
     "end_time": "2023-03-19T10:01:19.002086",
     "exception": false,
     "start_time": "2023-03-19T10:01:18.004214",
     "status": "completed"
    },
    "tags": []
   },
   "outputs": [
    {
     "data": {
      "text/html": [
       "<div>\n",
       "<style scoped>\n",
       "    .dataframe tbody tr th:only-of-type {\n",
       "        vertical-align: middle;\n",
       "    }\n",
       "\n",
       "    .dataframe tbody tr th {\n",
       "        vertical-align: top;\n",
       "    }\n",
       "\n",
       "    .dataframe thead th {\n",
       "        text-align: right;\n",
       "    }\n",
       "</style>\n",
       "<table border=\"1\" class=\"dataframe\">\n",
       "  <thead>\n",
       "    <tr style=\"text-align: right;\">\n",
       "      <th></th>\n",
       "      <th>hotel</th>\n",
       "      <th>is_canceled</th>\n",
       "      <th>lead_time</th>\n",
       "      <th>arrival_date_year</th>\n",
       "      <th>arrival_date_month</th>\n",
       "      <th>arrival_date_week_number</th>\n",
       "      <th>arrival_date_day_of_month</th>\n",
       "      <th>stays_in_weekend_nights</th>\n",
       "      <th>stays_in_week_nights</th>\n",
       "      <th>adults</th>\n",
       "      <th>children</th>\n",
       "      <th>babies</th>\n",
       "      <th>meal</th>\n",
       "      <th>country</th>\n",
       "      <th>market_segment</th>\n",
       "      <th>distribution_channel</th>\n",
       "      <th>is_repeated_guest</th>\n",
       "      <th>previous_cancellations</th>\n",
       "      <th>previous_bookings_not_canceled</th>\n",
       "      <th>reserved_room_type</th>\n",
       "      <th>assigned_room_type</th>\n",
       "      <th>booking_changes</th>\n",
       "      <th>deposit_type</th>\n",
       "      <th>agent</th>\n",
       "      <th>company</th>\n",
       "      <th>days_in_waiting_list</th>\n",
       "      <th>customer_type</th>\n",
       "      <th>adr</th>\n",
       "      <th>required_car_parking_spaces</th>\n",
       "      <th>total_of_special_requests</th>\n",
       "      <th>reservation_status</th>\n",
       "      <th>reservation_status_date</th>\n",
       "      <th>name</th>\n",
       "      <th>email</th>\n",
       "      <th>phone-number</th>\n",
       "      <th>credit_card</th>\n",
       "    </tr>\n",
       "  </thead>\n",
       "  <tbody>\n",
       "    <tr>\n",
       "      <th>0</th>\n",
       "      <td>Resort Hotel</td>\n",
       "      <td>0</td>\n",
       "      <td>342</td>\n",
       "      <td>2015</td>\n",
       "      <td>July</td>\n",
       "      <td>27</td>\n",
       "      <td>1</td>\n",
       "      <td>0</td>\n",
       "      <td>0</td>\n",
       "      <td>2</td>\n",
       "      <td>0.0</td>\n",
       "      <td>0</td>\n",
       "      <td>BB</td>\n",
       "      <td>PRT</td>\n",
       "      <td>Direct</td>\n",
       "      <td>Direct</td>\n",
       "      <td>0</td>\n",
       "      <td>0</td>\n",
       "      <td>0</td>\n",
       "      <td>C</td>\n",
       "      <td>C</td>\n",
       "      <td>3</td>\n",
       "      <td>No Deposit</td>\n",
       "      <td>NaN</td>\n",
       "      <td>NaN</td>\n",
       "      <td>0</td>\n",
       "      <td>Transient</td>\n",
       "      <td>0.0</td>\n",
       "      <td>0</td>\n",
       "      <td>0</td>\n",
       "      <td>Check-Out</td>\n",
       "      <td>2015-07-01</td>\n",
       "      <td>Ernest Barnes</td>\n",
       "      <td>Ernest.Barnes31@outlook.com</td>\n",
       "      <td>669-792-1661</td>\n",
       "      <td>************4322</td>\n",
       "    </tr>\n",
       "    <tr>\n",
       "      <th>1</th>\n",
       "      <td>Resort Hotel</td>\n",
       "      <td>0</td>\n",
       "      <td>737</td>\n",
       "      <td>2015</td>\n",
       "      <td>July</td>\n",
       "      <td>27</td>\n",
       "      <td>1</td>\n",
       "      <td>0</td>\n",
       "      <td>0</td>\n",
       "      <td>2</td>\n",
       "      <td>0.0</td>\n",
       "      <td>0</td>\n",
       "      <td>BB</td>\n",
       "      <td>PRT</td>\n",
       "      <td>Direct</td>\n",
       "      <td>Direct</td>\n",
       "      <td>0</td>\n",
       "      <td>0</td>\n",
       "      <td>0</td>\n",
       "      <td>C</td>\n",
       "      <td>C</td>\n",
       "      <td>4</td>\n",
       "      <td>No Deposit</td>\n",
       "      <td>NaN</td>\n",
       "      <td>NaN</td>\n",
       "      <td>0</td>\n",
       "      <td>Transient</td>\n",
       "      <td>0.0</td>\n",
       "      <td>0</td>\n",
       "      <td>0</td>\n",
       "      <td>Check-Out</td>\n",
       "      <td>2015-07-01</td>\n",
       "      <td>Andrea Baker</td>\n",
       "      <td>Andrea_Baker94@aol.com</td>\n",
       "      <td>858-637-6955</td>\n",
       "      <td>************9157</td>\n",
       "    </tr>\n",
       "    <tr>\n",
       "      <th>2</th>\n",
       "      <td>Resort Hotel</td>\n",
       "      <td>0</td>\n",
       "      <td>7</td>\n",
       "      <td>2015</td>\n",
       "      <td>July</td>\n",
       "      <td>27</td>\n",
       "      <td>1</td>\n",
       "      <td>0</td>\n",
       "      <td>1</td>\n",
       "      <td>1</td>\n",
       "      <td>0.0</td>\n",
       "      <td>0</td>\n",
       "      <td>BB</td>\n",
       "      <td>GBR</td>\n",
       "      <td>Direct</td>\n",
       "      <td>Direct</td>\n",
       "      <td>0</td>\n",
       "      <td>0</td>\n",
       "      <td>0</td>\n",
       "      <td>A</td>\n",
       "      <td>C</td>\n",
       "      <td>0</td>\n",
       "      <td>No Deposit</td>\n",
       "      <td>NaN</td>\n",
       "      <td>NaN</td>\n",
       "      <td>0</td>\n",
       "      <td>Transient</td>\n",
       "      <td>75.0</td>\n",
       "      <td>0</td>\n",
       "      <td>0</td>\n",
       "      <td>Check-Out</td>\n",
       "      <td>2015-07-02</td>\n",
       "      <td>Rebecca Parker</td>\n",
       "      <td>Rebecca_Parker@comcast.net</td>\n",
       "      <td>652-885-2745</td>\n",
       "      <td>************3734</td>\n",
       "    </tr>\n",
       "    <tr>\n",
       "      <th>3</th>\n",
       "      <td>Resort Hotel</td>\n",
       "      <td>0</td>\n",
       "      <td>13</td>\n",
       "      <td>2015</td>\n",
       "      <td>July</td>\n",
       "      <td>27</td>\n",
       "      <td>1</td>\n",
       "      <td>0</td>\n",
       "      <td>1</td>\n",
       "      <td>1</td>\n",
       "      <td>0.0</td>\n",
       "      <td>0</td>\n",
       "      <td>BB</td>\n",
       "      <td>GBR</td>\n",
       "      <td>Corporate</td>\n",
       "      <td>Corporate</td>\n",
       "      <td>0</td>\n",
       "      <td>0</td>\n",
       "      <td>0</td>\n",
       "      <td>A</td>\n",
       "      <td>A</td>\n",
       "      <td>0</td>\n",
       "      <td>No Deposit</td>\n",
       "      <td>304.0</td>\n",
       "      <td>NaN</td>\n",
       "      <td>0</td>\n",
       "      <td>Transient</td>\n",
       "      <td>75.0</td>\n",
       "      <td>0</td>\n",
       "      <td>0</td>\n",
       "      <td>Check-Out</td>\n",
       "      <td>2015-07-02</td>\n",
       "      <td>Laura Murray</td>\n",
       "      <td>Laura_M@gmail.com</td>\n",
       "      <td>364-656-8427</td>\n",
       "      <td>************5677</td>\n",
       "    </tr>\n",
       "    <tr>\n",
       "      <th>4</th>\n",
       "      <td>Resort Hotel</td>\n",
       "      <td>0</td>\n",
       "      <td>14</td>\n",
       "      <td>2015</td>\n",
       "      <td>July</td>\n",
       "      <td>27</td>\n",
       "      <td>1</td>\n",
       "      <td>0</td>\n",
       "      <td>2</td>\n",
       "      <td>2</td>\n",
       "      <td>0.0</td>\n",
       "      <td>0</td>\n",
       "      <td>BB</td>\n",
       "      <td>GBR</td>\n",
       "      <td>Online TA</td>\n",
       "      <td>TA/TO</td>\n",
       "      <td>0</td>\n",
       "      <td>0</td>\n",
       "      <td>0</td>\n",
       "      <td>A</td>\n",
       "      <td>A</td>\n",
       "      <td>0</td>\n",
       "      <td>No Deposit</td>\n",
       "      <td>240.0</td>\n",
       "      <td>NaN</td>\n",
       "      <td>0</td>\n",
       "      <td>Transient</td>\n",
       "      <td>98.0</td>\n",
       "      <td>0</td>\n",
       "      <td>1</td>\n",
       "      <td>Check-Out</td>\n",
       "      <td>2015-07-03</td>\n",
       "      <td>Linda Hines</td>\n",
       "      <td>LHines@verizon.com</td>\n",
       "      <td>713-226-5883</td>\n",
       "      <td>************5498</td>\n",
       "    </tr>\n",
       "  </tbody>\n",
       "</table>\n",
       "</div>"
      ],
      "text/plain": [
       "          hotel  is_canceled  lead_time  arrival_date_year arrival_date_month  \\\n",
       "0  Resort Hotel            0        342               2015               July   \n",
       "1  Resort Hotel            0        737               2015               July   \n",
       "2  Resort Hotel            0          7               2015               July   \n",
       "3  Resort Hotel            0         13               2015               July   \n",
       "4  Resort Hotel            0         14               2015               July   \n",
       "\n",
       "   arrival_date_week_number  arrival_date_day_of_month  \\\n",
       "0                        27                          1   \n",
       "1                        27                          1   \n",
       "2                        27                          1   \n",
       "3                        27                          1   \n",
       "4                        27                          1   \n",
       "\n",
       "   stays_in_weekend_nights  stays_in_week_nights  adults  children  babies  \\\n",
       "0                        0                     0       2       0.0       0   \n",
       "1                        0                     0       2       0.0       0   \n",
       "2                        0                     1       1       0.0       0   \n",
       "3                        0                     1       1       0.0       0   \n",
       "4                        0                     2       2       0.0       0   \n",
       "\n",
       "  meal country market_segment distribution_channel  is_repeated_guest  \\\n",
       "0   BB     PRT         Direct               Direct                  0   \n",
       "1   BB     PRT         Direct               Direct                  0   \n",
       "2   BB     GBR         Direct               Direct                  0   \n",
       "3   BB     GBR      Corporate            Corporate                  0   \n",
       "4   BB     GBR      Online TA                TA/TO                  0   \n",
       "\n",
       "   previous_cancellations  previous_bookings_not_canceled reserved_room_type  \\\n",
       "0                       0                               0                  C   \n",
       "1                       0                               0                  C   \n",
       "2                       0                               0                  A   \n",
       "3                       0                               0                  A   \n",
       "4                       0                               0                  A   \n",
       "\n",
       "  assigned_room_type  booking_changes deposit_type  agent  company  \\\n",
       "0                  C                3   No Deposit    NaN      NaN   \n",
       "1                  C                4   No Deposit    NaN      NaN   \n",
       "2                  C                0   No Deposit    NaN      NaN   \n",
       "3                  A                0   No Deposit  304.0      NaN   \n",
       "4                  A                0   No Deposit  240.0      NaN   \n",
       "\n",
       "   days_in_waiting_list customer_type   adr  required_car_parking_spaces  \\\n",
       "0                     0     Transient   0.0                            0   \n",
       "1                     0     Transient   0.0                            0   \n",
       "2                     0     Transient  75.0                            0   \n",
       "3                     0     Transient  75.0                            0   \n",
       "4                     0     Transient  98.0                            0   \n",
       "\n",
       "   total_of_special_requests reservation_status reservation_status_date  \\\n",
       "0                          0          Check-Out              2015-07-01   \n",
       "1                          0          Check-Out              2015-07-01   \n",
       "2                          0          Check-Out              2015-07-02   \n",
       "3                          0          Check-Out              2015-07-02   \n",
       "4                          1          Check-Out              2015-07-03   \n",
       "\n",
       "             name                        email  phone-number       credit_card  \n",
       "0   Ernest Barnes  Ernest.Barnes31@outlook.com  669-792-1661  ************4322  \n",
       "1    Andrea Baker       Andrea_Baker94@aol.com  858-637-6955  ************9157  \n",
       "2  Rebecca Parker   Rebecca_Parker@comcast.net  652-885-2745  ************3734  \n",
       "3    Laura Murray            Laura_M@gmail.com  364-656-8427  ************5677  \n",
       "4     Linda Hines           LHines@verizon.com  713-226-5883  ************5498  "
      ]
     },
     "execution_count": 2,
     "metadata": {},
     "output_type": "execute_result"
    }
   ],
   "source": [
    "#loading dataset\n",
    "hotels_df= pd.read_csv(\"/kaggle/input/hotel-booking/hotel_booking.csv\")\n",
    "hotels_df.head()"
   ]
  },
  {
   "cell_type": "code",
   "execution_count": 3,
   "id": "6819dd4c",
   "metadata": {
    "execution": {
     "iopub.execute_input": "2023-03-19T10:01:19.028892Z",
     "iopub.status.busy": "2023-03-19T10:01:19.028508Z",
     "iopub.status.idle": "2023-03-19T10:01:19.152886Z",
     "shell.execute_reply": "2023-03-19T10:01:19.151749Z"
    },
    "papermill": {
     "duration": 0.14072,
     "end_time": "2023-03-19T10:01:19.155957",
     "exception": false,
     "start_time": "2023-03-19T10:01:19.015237",
     "status": "completed"
    },
    "tags": []
   },
   "outputs": [
    {
     "name": "stdout",
     "output_type": "stream",
     "text": [
      "<class 'pandas.core.frame.DataFrame'>\n",
      "RangeIndex: 119390 entries, 0 to 119389\n",
      "Data columns (total 36 columns):\n",
      " #   Column                          Non-Null Count   Dtype  \n",
      "---  ------                          --------------   -----  \n",
      " 0   hotel                           119390 non-null  object \n",
      " 1   is_canceled                     119390 non-null  int64  \n",
      " 2   lead_time                       119390 non-null  int64  \n",
      " 3   arrival_date_year               119390 non-null  int64  \n",
      " 4   arrival_date_month              119390 non-null  object \n",
      " 5   arrival_date_week_number        119390 non-null  int64  \n",
      " 6   arrival_date_day_of_month       119390 non-null  int64  \n",
      " 7   stays_in_weekend_nights         119390 non-null  int64  \n",
      " 8   stays_in_week_nights            119390 non-null  int64  \n",
      " 9   adults                          119390 non-null  int64  \n",
      " 10  children                        119386 non-null  float64\n",
      " 11  babies                          119390 non-null  int64  \n",
      " 12  meal                            119390 non-null  object \n",
      " 13  country                         118902 non-null  object \n",
      " 14  market_segment                  119390 non-null  object \n",
      " 15  distribution_channel            119390 non-null  object \n",
      " 16  is_repeated_guest               119390 non-null  int64  \n",
      " 17  previous_cancellations          119390 non-null  int64  \n",
      " 18  previous_bookings_not_canceled  119390 non-null  int64  \n",
      " 19  reserved_room_type              119390 non-null  object \n",
      " 20  assigned_room_type              119390 non-null  object \n",
      " 21  booking_changes                 119390 non-null  int64  \n",
      " 22  deposit_type                    119390 non-null  object \n",
      " 23  agent                           103050 non-null  float64\n",
      " 24  company                         6797 non-null    float64\n",
      " 25  days_in_waiting_list            119390 non-null  int64  \n",
      " 26  customer_type                   119390 non-null  object \n",
      " 27  adr                             119390 non-null  float64\n",
      " 28  required_car_parking_spaces     119390 non-null  int64  \n",
      " 29  total_of_special_requests       119390 non-null  int64  \n",
      " 30  reservation_status              119390 non-null  object \n",
      " 31  reservation_status_date         119390 non-null  object \n",
      " 32  name                            119390 non-null  object \n",
      " 33  email                           119390 non-null  object \n",
      " 34  phone-number                    119390 non-null  object \n",
      " 35  credit_card                     119390 non-null  object \n",
      "dtypes: float64(4), int64(16), object(16)\n",
      "memory usage: 32.8+ MB\n"
     ]
    }
   ],
   "source": [
    "#overview\n",
    "hotels_df.info()"
   ]
  },
  {
   "cell_type": "markdown",
   "id": "639c2a9b",
   "metadata": {
    "papermill": {
     "duration": 0.011644,
     "end_time": "2023-03-19T10:01:19.179793",
     "exception": false,
     "start_time": "2023-03-19T10:01:19.168149",
     "status": "completed"
    },
    "tags": []
   },
   "source": [
    "# Cleaning the dataset"
   ]
  },
  {
   "cell_type": "code",
   "execution_count": 4,
   "id": "9202996b",
   "metadata": {
    "execution": {
     "iopub.execute_input": "2023-03-19T10:01:19.205478Z",
     "iopub.status.busy": "2023-03-19T10:01:19.205000Z",
     "iopub.status.idle": "2023-03-19T10:01:19.312071Z",
     "shell.execute_reply": "2023-03-19T10:01:19.309358Z"
    },
    "papermill": {
     "duration": 0.123571,
     "end_time": "2023-03-19T10:01:19.315367",
     "exception": false,
     "start_time": "2023-03-19T10:01:19.191796",
     "status": "completed"
    },
    "tags": []
   },
   "outputs": [
    {
     "data": {
      "text/plain": [
       "hotel                                  0\n",
       "is_canceled                            0\n",
       "lead_time                              0\n",
       "arrival_date_year                      0\n",
       "arrival_date_month                     0\n",
       "arrival_date_week_number               0\n",
       "arrival_date_day_of_month              0\n",
       "stays_in_weekend_nights                0\n",
       "stays_in_week_nights                   0\n",
       "adults                                 0\n",
       "children                               4\n",
       "babies                                 0\n",
       "meal                                   0\n",
       "country                              488\n",
       "market_segment                         0\n",
       "distribution_channel                   0\n",
       "is_repeated_guest                      0\n",
       "previous_cancellations                 0\n",
       "previous_bookings_not_canceled         0\n",
       "reserved_room_type                     0\n",
       "assigned_room_type                     0\n",
       "booking_changes                        0\n",
       "deposit_type                           0\n",
       "agent                              16340\n",
       "company                           112593\n",
       "days_in_waiting_list                   0\n",
       "customer_type                          0\n",
       "adr                                    0\n",
       "required_car_parking_spaces            0\n",
       "total_of_special_requests              0\n",
       "reservation_status                     0\n",
       "reservation_status_date                0\n",
       "name                                   0\n",
       "email                                  0\n",
       "phone-number                           0\n",
       "credit_card                            0\n",
       "dtype: int64"
      ]
     },
     "execution_count": 4,
     "metadata": {},
     "output_type": "execute_result"
    }
   ],
   "source": [
    "#checking the number of null values in the dataset\n",
    "hotels_df.isna().sum()"
   ]
  },
  {
   "cell_type": "code",
   "execution_count": 5,
   "id": "d9e95bb9",
   "metadata": {
    "execution": {
     "iopub.execute_input": "2023-03-19T10:01:19.345300Z",
     "iopub.status.busy": "2023-03-19T10:01:19.343718Z",
     "iopub.status.idle": "2023-03-19T10:01:19.377296Z",
     "shell.execute_reply": "2023-03-19T10:01:19.375966Z"
    },
    "papermill": {
     "duration": 0.052006,
     "end_time": "2023-03-19T10:01:19.379958",
     "exception": false,
     "start_time": "2023-03-19T10:01:19.327952",
     "status": "completed"
    },
    "tags": []
   },
   "outputs": [],
   "source": [
    "#dropping unnecessary columns(email, phone-number, credit_card)\n",
    "hotels_df.drop([\"email\", \"phone-number\", \"credit_card\"], axis= 1, inplace= True)"
   ]
  },
  {
   "cell_type": "code",
   "execution_count": 6,
   "id": "1b3de180",
   "metadata": {
    "execution": {
     "iopub.execute_input": "2023-03-19T10:01:19.406013Z",
     "iopub.status.busy": "2023-03-19T10:01:19.405566Z",
     "iopub.status.idle": "2023-03-19T10:01:19.413297Z",
     "shell.execute_reply": "2023-03-19T10:01:19.412115Z"
    },
    "papermill": {
     "duration": 0.023866,
     "end_time": "2023-03-19T10:01:19.415977",
     "exception": false,
     "start_time": "2023-03-19T10:01:19.392111",
     "status": "completed"
    },
    "tags": []
   },
   "outputs": [],
   "source": [
    "#filling all null values in children column with the mean value\n",
    "hotels_df[\"children\"].fillna(round(hotels_df[\"children\"].mean(), 0), inplace= True)"
   ]
  },
  {
   "cell_type": "code",
   "execution_count": 7,
   "id": "7deba47f",
   "metadata": {
    "execution": {
     "iopub.execute_input": "2023-03-19T10:01:19.442910Z",
     "iopub.status.busy": "2023-03-19T10:01:19.442190Z",
     "iopub.status.idle": "2023-03-19T10:01:19.448721Z",
     "shell.execute_reply": "2023-03-19T10:01:19.447541Z"
    },
    "papermill": {
     "duration": 0.023019,
     "end_time": "2023-03-19T10:01:19.451167",
     "exception": false,
     "start_time": "2023-03-19T10:01:19.428148",
     "status": "completed"
    },
    "tags": []
   },
   "outputs": [],
   "source": [
    "#replacing null values in agent column with 0, representing the client himself/herself made the booking\n",
    "hotels_df[\"agent\"].fillna(0, inplace= True)"
   ]
  },
  {
   "cell_type": "code",
   "execution_count": 8,
   "id": "57ca2eab",
   "metadata": {
    "execution": {
     "iopub.execute_input": "2023-03-19T10:01:19.478158Z",
     "iopub.status.busy": "2023-03-19T10:01:19.477468Z",
     "iopub.status.idle": "2023-03-19T10:01:19.484047Z",
     "shell.execute_reply": "2023-03-19T10:01:19.482887Z"
    },
    "papermill": {
     "duration": 0.022783,
     "end_time": "2023-03-19T10:01:19.486364",
     "exception": false,
     "start_time": "2023-03-19T10:01:19.463581",
     "status": "completed"
    },
    "tags": []
   },
   "outputs": [],
   "source": [
    "#replacing null values in company column with 0, representing the client is not affiliated to any particular company, but rather visiting on personal capacity\n",
    "hotels_df[\"company\"].fillna(0, inplace= True)"
   ]
  },
  {
   "cell_type": "code",
   "execution_count": 9,
   "id": "75794b0d",
   "metadata": {
    "execution": {
     "iopub.execute_input": "2023-03-19T10:01:19.513005Z",
     "iopub.status.busy": "2023-03-19T10:01:19.512618Z",
     "iopub.status.idle": "2023-03-19T10:01:19.534857Z",
     "shell.execute_reply": "2023-03-19T10:01:19.533644Z"
    },
    "papermill": {
     "duration": 0.038776,
     "end_time": "2023-03-19T10:01:19.537324",
     "exception": false,
     "start_time": "2023-03-19T10:01:19.498548",
     "status": "completed"
    },
    "tags": []
   },
   "outputs": [],
   "source": [
    "#replacing null values in country column with the mode value, as country is categorical variable\n",
    "hotels_df[\"country\"].fillna(hotels_df[\"country\"].mode()[0], inplace= True)"
   ]
  },
  {
   "cell_type": "code",
   "execution_count": 10,
   "id": "83189211",
   "metadata": {
    "execution": {
     "iopub.execute_input": "2023-03-19T10:01:19.563687Z",
     "iopub.status.busy": "2023-03-19T10:01:19.563205Z",
     "iopub.status.idle": "2023-03-19T10:01:19.583476Z",
     "shell.execute_reply": "2023-03-19T10:01:19.582075Z"
    },
    "papermill": {
     "duration": 0.036765,
     "end_time": "2023-03-19T10:01:19.586231",
     "exception": false,
     "start_time": "2023-03-19T10:01:19.549466",
     "status": "completed"
    },
    "tags": []
   },
   "outputs": [],
   "source": [
    "#converting children, agent, company to appropriate number format(int64)\n",
    "hotels_df.loc[:, [\"children\", \"agent\", \"company\"]]= hotels_df.loc[:, [\"children\", \"agent\", \"company\"]].astype(\"int64\")"
   ]
  },
  {
   "cell_type": "code",
   "execution_count": 11,
   "id": "bdbf9937",
   "metadata": {
    "execution": {
     "iopub.execute_input": "2023-03-19T10:01:19.613384Z",
     "iopub.status.busy": "2023-03-19T10:01:19.612923Z",
     "iopub.status.idle": "2023-03-19T10:01:19.842759Z",
     "shell.execute_reply": "2023-03-19T10:01:19.841428Z"
    },
    "papermill": {
     "duration": 0.246776,
     "end_time": "2023-03-19T10:01:19.845549",
     "exception": false,
     "start_time": "2023-03-19T10:01:19.598773",
     "status": "completed"
    },
    "tags": []
   },
   "outputs": [],
   "source": [
    "#converting categorical variables from object type to category type\n",
    "categorical_variables= [\"is_canceled\", \"meal\", \"country\", \"market_segment\", \"distribution_channel\", \"is_repeated_guest\", \"reserved_room_type\", \"assigned_room_type\", \"deposit_type\", \"agent\", \"company\", \"customer_type\", \"reservation_status\"]\n",
    "\n",
    "hotels_df.loc[:, categorical_variables]= hotels_df.loc[:, categorical_variables].astype(\"category\")"
   ]
  },
  {
   "cell_type": "code",
   "execution_count": 12,
   "id": "12515a26",
   "metadata": {
    "execution": {
     "iopub.execute_input": "2023-03-19T10:01:19.871690Z",
     "iopub.status.busy": "2023-03-19T10:01:19.871251Z",
     "iopub.status.idle": "2023-03-19T10:01:19.886564Z",
     "shell.execute_reply": "2023-03-19T10:01:19.885402Z"
    },
    "papermill": {
     "duration": 0.031217,
     "end_time": "2023-03-19T10:01:19.888935",
     "exception": false,
     "start_time": "2023-03-19T10:01:19.857718",
     "status": "completed"
    },
    "tags": []
   },
   "outputs": [
    {
     "data": {
      "text/plain": [
       "array(['July', 'August', 'September', 'October', 'November', 'December',\n",
       "       'January', 'February', 'March', 'April', 'May', 'June'],\n",
       "      dtype=object)"
      ]
     },
     "execution_count": 12,
     "metadata": {},
     "output_type": "execute_result"
    }
   ],
   "source": [
    "hotels_df.arrival_date_month.unique()"
   ]
  },
  {
   "cell_type": "code",
   "execution_count": 13,
   "id": "f5375eb2",
   "metadata": {
    "execution": {
     "iopub.execute_input": "2023-03-19T10:01:19.916404Z",
     "iopub.status.busy": "2023-03-19T10:01:19.915541Z",
     "iopub.status.idle": "2023-03-19T10:01:19.937485Z",
     "shell.execute_reply": "2023-03-19T10:01:19.936496Z"
    },
    "papermill": {
     "duration": 0.038615,
     "end_time": "2023-03-19T10:01:19.940208",
     "exception": false,
     "start_time": "2023-03-19T10:01:19.901593",
     "status": "completed"
    },
    "tags": []
   },
   "outputs": [],
   "source": [
    "cat_type = CategoricalDtype(categories=[\"January\", \"February\", \"March\", \"April\", \"May\", \"June\", \"July\", \"August\", \"September\", \"October\", \"November\", \"December\"], ordered=True)\n",
    "\n",
    "hotels_df.loc[:, \"arrival_date_month\"]= hotels_df.loc[:, \"arrival_date_month\"].astype(cat_type)"
   ]
  },
  {
   "cell_type": "code",
   "execution_count": 14,
   "id": "307fd5f4",
   "metadata": {
    "execution": {
     "iopub.execute_input": "2023-03-19T10:01:19.967864Z",
     "iopub.status.busy": "2023-03-19T10:01:19.967010Z",
     "iopub.status.idle": "2023-03-19T10:01:19.972392Z",
     "shell.execute_reply": "2023-03-19T10:01:19.971511Z"
    },
    "papermill": {
     "duration": 0.021484,
     "end_time": "2023-03-19T10:01:19.974654",
     "exception": false,
     "start_time": "2023-03-19T10:01:19.953170",
     "status": "completed"
    },
    "tags": []
   },
   "outputs": [],
   "source": [
    "def date(row):\n",
    "    '''\n",
    "    Input- row\n",
    "    Output- datetime object\n",
    "    '''\n",
    "    \n",
    "    date_str= f'{row[\"arrival_date_year\"]}/{row[\"arrival_date_month\"]}/{row[\"arrival_date_day_of_month\"]}'\n",
    "    return datetime.strptime(date_str, \"%Y/%B/%d\")"
   ]
  },
  {
   "cell_type": "code",
   "execution_count": 15,
   "id": "2188739a",
   "metadata": {
    "execution": {
     "iopub.execute_input": "2023-03-19T10:01:20.001815Z",
     "iopub.status.busy": "2023-03-19T10:01:20.000672Z",
     "iopub.status.idle": "2023-03-19T10:01:24.055161Z",
     "shell.execute_reply": "2023-03-19T10:01:24.053820Z"
    },
    "papermill": {
     "duration": 4.071092,
     "end_time": "2023-03-19T10:01:24.058012",
     "exception": false,
     "start_time": "2023-03-19T10:01:19.986920",
     "status": "completed"
    },
    "tags": []
   },
   "outputs": [],
   "source": [
    "#adding date column to df\n",
    "hotels_df[\"arrival_date\"]= hotels_df.apply(lambda row: date(row), axis= 1)"
   ]
  },
  {
   "cell_type": "code",
   "execution_count": 16,
   "id": "46df4857",
   "metadata": {
    "execution": {
     "iopub.execute_input": "2023-03-19T10:01:24.084238Z",
     "iopub.status.busy": "2023-03-19T10:01:24.083801Z",
     "iopub.status.idle": "2023-03-19T10:01:24.089768Z",
     "shell.execute_reply": "2023-03-19T10:01:24.088561Z"
    },
    "papermill": {
     "duration": 0.021942,
     "end_time": "2023-03-19T10:01:24.092181",
     "exception": false,
     "start_time": "2023-03-19T10:01:24.070239",
     "status": "completed"
    },
    "tags": []
   },
   "outputs": [],
   "source": [
    "def days_spent(row):\n",
    "    '''\n",
    "    Input- row\n",
    "    Output- int object specifying the total number of days the guest stayed at the hotel\n",
    "    '''\n",
    "    return sum((row[\"stays_in_weekend_nights\"], row[\"stays_in_week_nights\"]))"
   ]
  },
  {
   "cell_type": "code",
   "execution_count": 17,
   "id": "c2c64185",
   "metadata": {
    "execution": {
     "iopub.execute_input": "2023-03-19T10:01:24.119535Z",
     "iopub.status.busy": "2023-03-19T10:01:24.118517Z",
     "iopub.status.idle": "2023-03-19T10:01:24.128247Z",
     "shell.execute_reply": "2023-03-19T10:01:24.127093Z"
    },
    "papermill": {
     "duration": 0.026021,
     "end_time": "2023-03-19T10:01:24.130645",
     "exception": false,
     "start_time": "2023-03-19T10:01:24.104624",
     "status": "completed"
    },
    "tags": []
   },
   "outputs": [
    {
     "data": {
      "text/plain": [
       "hotel                                    Resort Hotel\n",
       "is_canceled                                         0\n",
       "lead_time                                          14\n",
       "arrival_date_year                                2015\n",
       "arrival_date_month                               July\n",
       "arrival_date_week_number                           27\n",
       "arrival_date_day_of_month                           1\n",
       "stays_in_weekend_nights                             0\n",
       "stays_in_week_nights                                2\n",
       "adults                                              2\n",
       "children                                            0\n",
       "babies                                              0\n",
       "meal                                               BB\n",
       "country                                           GBR\n",
       "market_segment                              Online TA\n",
       "distribution_channel                            TA/TO\n",
       "is_repeated_guest                                   0\n",
       "previous_cancellations                              0\n",
       "previous_bookings_not_canceled                      0\n",
       "reserved_room_type                                  A\n",
       "assigned_room_type                                  A\n",
       "booking_changes                                     0\n",
       "deposit_type                               No Deposit\n",
       "agent                                             240\n",
       "company                                             0\n",
       "days_in_waiting_list                                0\n",
       "customer_type                               Transient\n",
       "adr                                              98.0\n",
       "required_car_parking_spaces                         0\n",
       "total_of_special_requests                           1\n",
       "reservation_status                          Check-Out\n",
       "reservation_status_date                    2015-07-03\n",
       "name                                 Jasmine Fletcher\n",
       "arrival_date                      2015-07-01 00:00:00\n",
       "Name: 5, dtype: object"
      ]
     },
     "execution_count": 17,
     "metadata": {},
     "output_type": "execute_result"
    }
   ],
   "source": [
    "hotels_df.loc[5]"
   ]
  },
  {
   "cell_type": "code",
   "execution_count": 18,
   "id": "4f871930",
   "metadata": {
    "execution": {
     "iopub.execute_input": "2023-03-19T10:01:24.157302Z",
     "iopub.status.busy": "2023-03-19T10:01:24.156869Z",
     "iopub.status.idle": "2023-03-19T10:01:24.165433Z",
     "shell.execute_reply": "2023-03-19T10:01:24.164016Z"
    },
    "papermill": {
     "duration": 0.024776,
     "end_time": "2023-03-19T10:01:24.167904",
     "exception": false,
     "start_time": "2023-03-19T10:01:24.143128",
     "status": "completed"
    },
    "tags": []
   },
   "outputs": [
    {
     "data": {
      "text/plain": [
       "2"
      ]
     },
     "execution_count": 18,
     "metadata": {},
     "output_type": "execute_result"
    }
   ],
   "source": [
    "days_spent(hotels_df.loc[5])"
   ]
  },
  {
   "cell_type": "code",
   "execution_count": 19,
   "id": "1e1ef0f4",
   "metadata": {
    "execution": {
     "iopub.execute_input": "2023-03-19T10:01:24.195588Z",
     "iopub.status.busy": "2023-03-19T10:01:24.194400Z",
     "iopub.status.idle": "2023-03-19T10:01:24.199750Z",
     "shell.execute_reply": "2023-03-19T10:01:24.198898Z"
    },
    "papermill": {
     "duration": 0.021455,
     "end_time": "2023-03-19T10:01:24.201867",
     "exception": false,
     "start_time": "2023-03-19T10:01:24.180412",
     "status": "completed"
    },
    "tags": []
   },
   "outputs": [],
   "source": [
    "def total_spending(row):\n",
    "    '''\n",
    "    Input- row\n",
    "    Output- float object representing the total spending the guest made\n",
    "    '''\n",
    "    return row[\"adr\"]* days_spent(row)"
   ]
  },
  {
   "cell_type": "code",
   "execution_count": 20,
   "id": "e83c7ac5",
   "metadata": {
    "execution": {
     "iopub.execute_input": "2023-03-19T10:01:24.228570Z",
     "iopub.status.busy": "2023-03-19T10:01:24.228185Z",
     "iopub.status.idle": "2023-03-19T10:01:26.757131Z",
     "shell.execute_reply": "2023-03-19T10:01:26.755458Z"
    },
    "papermill": {
     "duration": 2.545547,
     "end_time": "2023-03-19T10:01:26.759902",
     "exception": false,
     "start_time": "2023-03-19T10:01:24.214355",
     "status": "completed"
    },
    "tags": []
   },
   "outputs": [],
   "source": [
    "#adding days_spent column to df\n",
    "hotels_df[\"days_spent\"]= hotels_df.apply(lambda row: days_spent(row), axis= 1)"
   ]
  },
  {
   "cell_type": "code",
   "execution_count": null,
   "id": "739add09",
   "metadata": {
    "papermill": {
     "duration": 0.012405,
     "end_time": "2023-03-19T10:01:26.784973",
     "exception": false,
     "start_time": "2023-03-19T10:01:26.772568",
     "status": "completed"
    },
    "tags": []
   },
   "outputs": [],
   "source": []
  },
  {
   "cell_type": "code",
   "execution_count": 21,
   "id": "73a37564",
   "metadata": {
    "execution": {
     "iopub.execute_input": "2023-03-19T10:01:26.812899Z",
     "iopub.status.busy": "2023-03-19T10:01:26.812471Z",
     "iopub.status.idle": "2023-03-19T10:01:29.733571Z",
     "shell.execute_reply": "2023-03-19T10:01:29.732209Z"
    },
    "papermill": {
     "duration": 2.938527,
     "end_time": "2023-03-19T10:01:29.736554",
     "exception": false,
     "start_time": "2023-03-19T10:01:26.798027",
     "status": "completed"
    },
    "tags": []
   },
   "outputs": [],
   "source": [
    "#adding total spending column to df\n",
    "hotels_df[\"total_spending\"]= hotels_df.apply(lambda row: total_spending(row), axis= 1)"
   ]
  },
  {
   "cell_type": "code",
   "execution_count": 22,
   "id": "d967abdc",
   "metadata": {
    "execution": {
     "iopub.execute_input": "2023-03-19T10:01:29.763581Z",
     "iopub.status.busy": "2023-03-19T10:01:29.763138Z",
     "iopub.status.idle": "2023-03-19T10:01:29.769926Z",
     "shell.execute_reply": "2023-03-19T10:01:29.768639Z"
    },
    "papermill": {
     "duration": 0.023374,
     "end_time": "2023-03-19T10:01:29.772379",
     "exception": false,
     "start_time": "2023-03-19T10:01:29.749005",
     "status": "completed"
    },
    "tags": []
   },
   "outputs": [
    {
     "data": {
      "text/plain": [
       "Index(['hotel', 'is_canceled', 'lead_time', 'arrival_date_year',\n",
       "       'arrival_date_month', 'arrival_date_week_number',\n",
       "       'arrival_date_day_of_month', 'stays_in_weekend_nights',\n",
       "       'stays_in_week_nights', 'adults', 'children', 'babies', 'meal',\n",
       "       'country', 'market_segment', 'distribution_channel',\n",
       "       'is_repeated_guest', 'previous_cancellations',\n",
       "       'previous_bookings_not_canceled', 'reserved_room_type',\n",
       "       'assigned_room_type', 'booking_changes', 'deposit_type', 'agent',\n",
       "       'company', 'days_in_waiting_list', 'customer_type', 'adr',\n",
       "       'required_car_parking_spaces', 'total_of_special_requests',\n",
       "       'reservation_status', 'reservation_status_date', 'name', 'arrival_date',\n",
       "       'days_spent', 'total_spending'],\n",
       "      dtype='object')"
      ]
     },
     "execution_count": 22,
     "metadata": {},
     "output_type": "execute_result"
    }
   ],
   "source": [
    "hotels_df.columns"
   ]
  },
  {
   "cell_type": "code",
   "execution_count": 23,
   "id": "8ecd2b75",
   "metadata": {
    "execution": {
     "iopub.execute_input": "2023-03-19T10:01:29.799822Z",
     "iopub.status.busy": "2023-03-19T10:01:29.799430Z",
     "iopub.status.idle": "2023-03-19T10:01:29.805041Z",
     "shell.execute_reply": "2023-03-19T10:01:29.803702Z"
    },
    "papermill": {
     "duration": 0.022438,
     "end_time": "2023-03-19T10:01:29.807533",
     "exception": false,
     "start_time": "2023-03-19T10:01:29.785095",
     "status": "completed"
    },
    "tags": []
   },
   "outputs": [],
   "source": [
    "def total_guests(row):\n",
    "    '''\n",
    "    Input- row\n",
    "    Output- int object specifying the number of guests staying in the room\n",
    "    '''\n",
    "    return sum((row[\"adults\"], row[\"children\"], row[\"babies\"]))"
   ]
  },
  {
   "cell_type": "code",
   "execution_count": 24,
   "id": "7b804000",
   "metadata": {
    "execution": {
     "iopub.execute_input": "2023-03-19T10:01:29.834436Z",
     "iopub.status.busy": "2023-03-19T10:01:29.834010Z",
     "iopub.status.idle": "2023-03-19T10:01:32.719603Z",
     "shell.execute_reply": "2023-03-19T10:01:32.718249Z"
    },
    "papermill": {
     "duration": 2.902508,
     "end_time": "2023-03-19T10:01:32.722524",
     "exception": false,
     "start_time": "2023-03-19T10:01:29.820016",
     "status": "completed"
    },
    "tags": []
   },
   "outputs": [],
   "source": [
    "hotels_df[\"total_guests\"]= hotels_df.apply(lambda row: total_guests(row), axis= 1)"
   ]
  },
  {
   "cell_type": "code",
   "execution_count": 25,
   "id": "45bf81ad",
   "metadata": {
    "execution": {
     "iopub.execute_input": "2023-03-19T10:01:32.750403Z",
     "iopub.status.busy": "2023-03-19T10:01:32.749274Z",
     "iopub.status.idle": "2023-03-19T10:01:32.786563Z",
     "shell.execute_reply": "2023-03-19T10:01:32.785359Z"
    },
    "papermill": {
     "duration": 0.054004,
     "end_time": "2023-03-19T10:01:32.789236",
     "exception": false,
     "start_time": "2023-03-19T10:01:32.735232",
     "status": "completed"
    },
    "tags": []
   },
   "outputs": [
    {
     "data": {
      "text/html": [
       "<div>\n",
       "<style scoped>\n",
       "    .dataframe tbody tr th:only-of-type {\n",
       "        vertical-align: middle;\n",
       "    }\n",
       "\n",
       "    .dataframe tbody tr th {\n",
       "        vertical-align: top;\n",
       "    }\n",
       "\n",
       "    .dataframe thead th {\n",
       "        text-align: right;\n",
       "    }\n",
       "</style>\n",
       "<table border=\"1\" class=\"dataframe\">\n",
       "  <thead>\n",
       "    <tr style=\"text-align: right;\">\n",
       "      <th></th>\n",
       "      <th>hotel</th>\n",
       "      <th>is_canceled</th>\n",
       "      <th>lead_time</th>\n",
       "      <th>arrival_date_year</th>\n",
       "      <th>arrival_date_month</th>\n",
       "      <th>arrival_date_week_number</th>\n",
       "      <th>arrival_date_day_of_month</th>\n",
       "      <th>stays_in_weekend_nights</th>\n",
       "      <th>stays_in_week_nights</th>\n",
       "      <th>adults</th>\n",
       "      <th>children</th>\n",
       "      <th>babies</th>\n",
       "      <th>meal</th>\n",
       "      <th>country</th>\n",
       "      <th>market_segment</th>\n",
       "      <th>distribution_channel</th>\n",
       "      <th>is_repeated_guest</th>\n",
       "      <th>previous_cancellations</th>\n",
       "      <th>previous_bookings_not_canceled</th>\n",
       "      <th>reserved_room_type</th>\n",
       "      <th>assigned_room_type</th>\n",
       "      <th>booking_changes</th>\n",
       "      <th>deposit_type</th>\n",
       "      <th>agent</th>\n",
       "      <th>company</th>\n",
       "      <th>days_in_waiting_list</th>\n",
       "      <th>customer_type</th>\n",
       "      <th>adr</th>\n",
       "      <th>required_car_parking_spaces</th>\n",
       "      <th>total_of_special_requests</th>\n",
       "      <th>reservation_status</th>\n",
       "      <th>reservation_status_date</th>\n",
       "      <th>name</th>\n",
       "      <th>arrival_date</th>\n",
       "      <th>days_spent</th>\n",
       "      <th>total_spending</th>\n",
       "      <th>total_guests</th>\n",
       "    </tr>\n",
       "  </thead>\n",
       "  <tbody>\n",
       "    <tr>\n",
       "      <th>0</th>\n",
       "      <td>Resort Hotel</td>\n",
       "      <td>0</td>\n",
       "      <td>342</td>\n",
       "      <td>2015</td>\n",
       "      <td>July</td>\n",
       "      <td>27</td>\n",
       "      <td>1</td>\n",
       "      <td>0</td>\n",
       "      <td>0</td>\n",
       "      <td>2</td>\n",
       "      <td>0</td>\n",
       "      <td>0</td>\n",
       "      <td>BB</td>\n",
       "      <td>PRT</td>\n",
       "      <td>Direct</td>\n",
       "      <td>Direct</td>\n",
       "      <td>0</td>\n",
       "      <td>0</td>\n",
       "      <td>0</td>\n",
       "      <td>C</td>\n",
       "      <td>C</td>\n",
       "      <td>3</td>\n",
       "      <td>No Deposit</td>\n",
       "      <td>0</td>\n",
       "      <td>0</td>\n",
       "      <td>0</td>\n",
       "      <td>Transient</td>\n",
       "      <td>0.0</td>\n",
       "      <td>0</td>\n",
       "      <td>0</td>\n",
       "      <td>Check-Out</td>\n",
       "      <td>2015-07-01</td>\n",
       "      <td>Ernest Barnes</td>\n",
       "      <td>2015-07-01</td>\n",
       "      <td>0</td>\n",
       "      <td>0.0</td>\n",
       "      <td>2</td>\n",
       "    </tr>\n",
       "    <tr>\n",
       "      <th>1</th>\n",
       "      <td>Resort Hotel</td>\n",
       "      <td>0</td>\n",
       "      <td>737</td>\n",
       "      <td>2015</td>\n",
       "      <td>July</td>\n",
       "      <td>27</td>\n",
       "      <td>1</td>\n",
       "      <td>0</td>\n",
       "      <td>0</td>\n",
       "      <td>2</td>\n",
       "      <td>0</td>\n",
       "      <td>0</td>\n",
       "      <td>BB</td>\n",
       "      <td>PRT</td>\n",
       "      <td>Direct</td>\n",
       "      <td>Direct</td>\n",
       "      <td>0</td>\n",
       "      <td>0</td>\n",
       "      <td>0</td>\n",
       "      <td>C</td>\n",
       "      <td>C</td>\n",
       "      <td>4</td>\n",
       "      <td>No Deposit</td>\n",
       "      <td>0</td>\n",
       "      <td>0</td>\n",
       "      <td>0</td>\n",
       "      <td>Transient</td>\n",
       "      <td>0.0</td>\n",
       "      <td>0</td>\n",
       "      <td>0</td>\n",
       "      <td>Check-Out</td>\n",
       "      <td>2015-07-01</td>\n",
       "      <td>Andrea Baker</td>\n",
       "      <td>2015-07-01</td>\n",
       "      <td>0</td>\n",
       "      <td>0.0</td>\n",
       "      <td>2</td>\n",
       "    </tr>\n",
       "    <tr>\n",
       "      <th>2</th>\n",
       "      <td>Resort Hotel</td>\n",
       "      <td>0</td>\n",
       "      <td>7</td>\n",
       "      <td>2015</td>\n",
       "      <td>July</td>\n",
       "      <td>27</td>\n",
       "      <td>1</td>\n",
       "      <td>0</td>\n",
       "      <td>1</td>\n",
       "      <td>1</td>\n",
       "      <td>0</td>\n",
       "      <td>0</td>\n",
       "      <td>BB</td>\n",
       "      <td>GBR</td>\n",
       "      <td>Direct</td>\n",
       "      <td>Direct</td>\n",
       "      <td>0</td>\n",
       "      <td>0</td>\n",
       "      <td>0</td>\n",
       "      <td>A</td>\n",
       "      <td>C</td>\n",
       "      <td>0</td>\n",
       "      <td>No Deposit</td>\n",
       "      <td>0</td>\n",
       "      <td>0</td>\n",
       "      <td>0</td>\n",
       "      <td>Transient</td>\n",
       "      <td>75.0</td>\n",
       "      <td>0</td>\n",
       "      <td>0</td>\n",
       "      <td>Check-Out</td>\n",
       "      <td>2015-07-02</td>\n",
       "      <td>Rebecca Parker</td>\n",
       "      <td>2015-07-01</td>\n",
       "      <td>1</td>\n",
       "      <td>75.0</td>\n",
       "      <td>1</td>\n",
       "    </tr>\n",
       "    <tr>\n",
       "      <th>3</th>\n",
       "      <td>Resort Hotel</td>\n",
       "      <td>0</td>\n",
       "      <td>13</td>\n",
       "      <td>2015</td>\n",
       "      <td>July</td>\n",
       "      <td>27</td>\n",
       "      <td>1</td>\n",
       "      <td>0</td>\n",
       "      <td>1</td>\n",
       "      <td>1</td>\n",
       "      <td>0</td>\n",
       "      <td>0</td>\n",
       "      <td>BB</td>\n",
       "      <td>GBR</td>\n",
       "      <td>Corporate</td>\n",
       "      <td>Corporate</td>\n",
       "      <td>0</td>\n",
       "      <td>0</td>\n",
       "      <td>0</td>\n",
       "      <td>A</td>\n",
       "      <td>A</td>\n",
       "      <td>0</td>\n",
       "      <td>No Deposit</td>\n",
       "      <td>304</td>\n",
       "      <td>0</td>\n",
       "      <td>0</td>\n",
       "      <td>Transient</td>\n",
       "      <td>75.0</td>\n",
       "      <td>0</td>\n",
       "      <td>0</td>\n",
       "      <td>Check-Out</td>\n",
       "      <td>2015-07-02</td>\n",
       "      <td>Laura Murray</td>\n",
       "      <td>2015-07-01</td>\n",
       "      <td>1</td>\n",
       "      <td>75.0</td>\n",
       "      <td>1</td>\n",
       "    </tr>\n",
       "    <tr>\n",
       "      <th>4</th>\n",
       "      <td>Resort Hotel</td>\n",
       "      <td>0</td>\n",
       "      <td>14</td>\n",
       "      <td>2015</td>\n",
       "      <td>July</td>\n",
       "      <td>27</td>\n",
       "      <td>1</td>\n",
       "      <td>0</td>\n",
       "      <td>2</td>\n",
       "      <td>2</td>\n",
       "      <td>0</td>\n",
       "      <td>0</td>\n",
       "      <td>BB</td>\n",
       "      <td>GBR</td>\n",
       "      <td>Online TA</td>\n",
       "      <td>TA/TO</td>\n",
       "      <td>0</td>\n",
       "      <td>0</td>\n",
       "      <td>0</td>\n",
       "      <td>A</td>\n",
       "      <td>A</td>\n",
       "      <td>0</td>\n",
       "      <td>No Deposit</td>\n",
       "      <td>240</td>\n",
       "      <td>0</td>\n",
       "      <td>0</td>\n",
       "      <td>Transient</td>\n",
       "      <td>98.0</td>\n",
       "      <td>0</td>\n",
       "      <td>1</td>\n",
       "      <td>Check-Out</td>\n",
       "      <td>2015-07-03</td>\n",
       "      <td>Linda Hines</td>\n",
       "      <td>2015-07-01</td>\n",
       "      <td>2</td>\n",
       "      <td>196.0</td>\n",
       "      <td>2</td>\n",
       "    </tr>\n",
       "  </tbody>\n",
       "</table>\n",
       "</div>"
      ],
      "text/plain": [
       "          hotel is_canceled  lead_time  arrival_date_year arrival_date_month  \\\n",
       "0  Resort Hotel           0        342               2015               July   \n",
       "1  Resort Hotel           0        737               2015               July   \n",
       "2  Resort Hotel           0          7               2015               July   \n",
       "3  Resort Hotel           0         13               2015               July   \n",
       "4  Resort Hotel           0         14               2015               July   \n",
       "\n",
       "   arrival_date_week_number  arrival_date_day_of_month  \\\n",
       "0                        27                          1   \n",
       "1                        27                          1   \n",
       "2                        27                          1   \n",
       "3                        27                          1   \n",
       "4                        27                          1   \n",
       "\n",
       "   stays_in_weekend_nights  stays_in_week_nights  adults  children  babies  \\\n",
       "0                        0                     0       2         0       0   \n",
       "1                        0                     0       2         0       0   \n",
       "2                        0                     1       1         0       0   \n",
       "3                        0                     1       1         0       0   \n",
       "4                        0                     2       2         0       0   \n",
       "\n",
       "  meal country market_segment distribution_channel is_repeated_guest  \\\n",
       "0   BB     PRT         Direct               Direct                 0   \n",
       "1   BB     PRT         Direct               Direct                 0   \n",
       "2   BB     GBR         Direct               Direct                 0   \n",
       "3   BB     GBR      Corporate            Corporate                 0   \n",
       "4   BB     GBR      Online TA                TA/TO                 0   \n",
       "\n",
       "   previous_cancellations  previous_bookings_not_canceled reserved_room_type  \\\n",
       "0                       0                               0                  C   \n",
       "1                       0                               0                  C   \n",
       "2                       0                               0                  A   \n",
       "3                       0                               0                  A   \n",
       "4                       0                               0                  A   \n",
       "\n",
       "  assigned_room_type  booking_changes deposit_type agent company  \\\n",
       "0                  C                3   No Deposit     0       0   \n",
       "1                  C                4   No Deposit     0       0   \n",
       "2                  C                0   No Deposit     0       0   \n",
       "3                  A                0   No Deposit   304       0   \n",
       "4                  A                0   No Deposit   240       0   \n",
       "\n",
       "   days_in_waiting_list customer_type   adr  required_car_parking_spaces  \\\n",
       "0                     0     Transient   0.0                            0   \n",
       "1                     0     Transient   0.0                            0   \n",
       "2                     0     Transient  75.0                            0   \n",
       "3                     0     Transient  75.0                            0   \n",
       "4                     0     Transient  98.0                            0   \n",
       "\n",
       "   total_of_special_requests reservation_status reservation_status_date  \\\n",
       "0                          0          Check-Out              2015-07-01   \n",
       "1                          0          Check-Out              2015-07-01   \n",
       "2                          0          Check-Out              2015-07-02   \n",
       "3                          0          Check-Out              2015-07-02   \n",
       "4                          1          Check-Out              2015-07-03   \n",
       "\n",
       "             name arrival_date  days_spent  total_spending  total_guests  \n",
       "0   Ernest Barnes   2015-07-01           0             0.0             2  \n",
       "1    Andrea Baker   2015-07-01           0             0.0             2  \n",
       "2  Rebecca Parker   2015-07-01           1            75.0             1  \n",
       "3    Laura Murray   2015-07-01           1            75.0             1  \n",
       "4     Linda Hines   2015-07-01           2           196.0             2  "
      ]
     },
     "execution_count": 25,
     "metadata": {},
     "output_type": "execute_result"
    }
   ],
   "source": [
    "hotels_df.head()"
   ]
  },
  {
   "cell_type": "markdown",
   "id": "58379214",
   "metadata": {
    "papermill": {
     "duration": 0.012487,
     "end_time": "2023-03-19T10:01:32.814947",
     "exception": false,
     "start_time": "2023-03-19T10:01:32.802460",
     "status": "completed"
    },
    "tags": []
   },
   "source": [
    "# Descriptive Statistics"
   ]
  },
  {
   "cell_type": "code",
   "execution_count": 26,
   "id": "6e50a937",
   "metadata": {
    "execution": {
     "iopub.execute_input": "2023-03-19T10:01:32.842714Z",
     "iopub.status.busy": "2023-03-19T10:01:32.842274Z",
     "iopub.status.idle": "2023-03-19T10:01:32.964981Z",
     "shell.execute_reply": "2023-03-19T10:01:32.963687Z"
    },
    "papermill": {
     "duration": 0.139776,
     "end_time": "2023-03-19T10:01:32.967515",
     "exception": false,
     "start_time": "2023-03-19T10:01:32.827739",
     "status": "completed"
    },
    "tags": []
   },
   "outputs": [
    {
     "data": {
      "text/html": [
       "<div>\n",
       "<style scoped>\n",
       "    .dataframe tbody tr th:only-of-type {\n",
       "        vertical-align: middle;\n",
       "    }\n",
       "\n",
       "    .dataframe tbody tr th {\n",
       "        vertical-align: top;\n",
       "    }\n",
       "\n",
       "    .dataframe thead th {\n",
       "        text-align: right;\n",
       "    }\n",
       "</style>\n",
       "<table border=\"1\" class=\"dataframe\">\n",
       "  <thead>\n",
       "    <tr style=\"text-align: right;\">\n",
       "      <th></th>\n",
       "      <th>lead_time</th>\n",
       "      <th>arrival_date_year</th>\n",
       "      <th>arrival_date_week_number</th>\n",
       "      <th>arrival_date_day_of_month</th>\n",
       "      <th>stays_in_weekend_nights</th>\n",
       "      <th>stays_in_week_nights</th>\n",
       "      <th>adults</th>\n",
       "      <th>children</th>\n",
       "      <th>babies</th>\n",
       "      <th>previous_cancellations</th>\n",
       "      <th>previous_bookings_not_canceled</th>\n",
       "      <th>booking_changes</th>\n",
       "      <th>days_in_waiting_list</th>\n",
       "      <th>adr</th>\n",
       "      <th>required_car_parking_spaces</th>\n",
       "      <th>total_of_special_requests</th>\n",
       "      <th>days_spent</th>\n",
       "      <th>total_spending</th>\n",
       "      <th>total_guests</th>\n",
       "    </tr>\n",
       "  </thead>\n",
       "  <tbody>\n",
       "    <tr>\n",
       "      <th>count</th>\n",
       "      <td>119390.000000</td>\n",
       "      <td>119390.000000</td>\n",
       "      <td>119390.000000</td>\n",
       "      <td>119390.000000</td>\n",
       "      <td>119390.000000</td>\n",
       "      <td>119390.000000</td>\n",
       "      <td>119390.000000</td>\n",
       "      <td>119390.000000</td>\n",
       "      <td>119390.000000</td>\n",
       "      <td>119390.000000</td>\n",
       "      <td>119390.000000</td>\n",
       "      <td>119390.000000</td>\n",
       "      <td>119390.000000</td>\n",
       "      <td>119390.000000</td>\n",
       "      <td>119390.000000</td>\n",
       "      <td>119390.000000</td>\n",
       "      <td>119390.000000</td>\n",
       "      <td>119390.000000</td>\n",
       "      <td>119390.000000</td>\n",
       "    </tr>\n",
       "    <tr>\n",
       "      <th>mean</th>\n",
       "      <td>104.011416</td>\n",
       "      <td>2016.156554</td>\n",
       "      <td>27.165173</td>\n",
       "      <td>15.798241</td>\n",
       "      <td>0.927599</td>\n",
       "      <td>2.500302</td>\n",
       "      <td>1.856403</td>\n",
       "      <td>0.103886</td>\n",
       "      <td>0.007949</td>\n",
       "      <td>0.087118</td>\n",
       "      <td>0.137097</td>\n",
       "      <td>0.221124</td>\n",
       "      <td>2.321149</td>\n",
       "      <td>101.831122</td>\n",
       "      <td>0.062518</td>\n",
       "      <td>0.571363</td>\n",
       "      <td>3.427900</td>\n",
       "      <td>357.848208</td>\n",
       "      <td>1.968239</td>\n",
       "    </tr>\n",
       "    <tr>\n",
       "      <th>std</th>\n",
       "      <td>106.863097</td>\n",
       "      <td>0.707476</td>\n",
       "      <td>13.605138</td>\n",
       "      <td>8.780829</td>\n",
       "      <td>0.998613</td>\n",
       "      <td>1.908286</td>\n",
       "      <td>0.579261</td>\n",
       "      <td>0.398555</td>\n",
       "      <td>0.097436</td>\n",
       "      <td>0.844336</td>\n",
       "      <td>1.497437</td>\n",
       "      <td>0.652306</td>\n",
       "      <td>17.594721</td>\n",
       "      <td>50.535790</td>\n",
       "      <td>0.245291</td>\n",
       "      <td>0.792798</td>\n",
       "      <td>2.557439</td>\n",
       "      <td>335.910109</td>\n",
       "      <td>0.722394</td>\n",
       "    </tr>\n",
       "    <tr>\n",
       "      <th>min</th>\n",
       "      <td>0.000000</td>\n",
       "      <td>2015.000000</td>\n",
       "      <td>1.000000</td>\n",
       "      <td>1.000000</td>\n",
       "      <td>0.000000</td>\n",
       "      <td>0.000000</td>\n",
       "      <td>0.000000</td>\n",
       "      <td>0.000000</td>\n",
       "      <td>0.000000</td>\n",
       "      <td>0.000000</td>\n",
       "      <td>0.000000</td>\n",
       "      <td>0.000000</td>\n",
       "      <td>0.000000</td>\n",
       "      <td>-6.380000</td>\n",
       "      <td>0.000000</td>\n",
       "      <td>0.000000</td>\n",
       "      <td>0.000000</td>\n",
       "      <td>-63.800000</td>\n",
       "      <td>0.000000</td>\n",
       "    </tr>\n",
       "    <tr>\n",
       "      <th>25%</th>\n",
       "      <td>18.000000</td>\n",
       "      <td>2016.000000</td>\n",
       "      <td>16.000000</td>\n",
       "      <td>8.000000</td>\n",
       "      <td>0.000000</td>\n",
       "      <td>1.000000</td>\n",
       "      <td>2.000000</td>\n",
       "      <td>0.000000</td>\n",
       "      <td>0.000000</td>\n",
       "      <td>0.000000</td>\n",
       "      <td>0.000000</td>\n",
       "      <td>0.000000</td>\n",
       "      <td>0.000000</td>\n",
       "      <td>69.290000</td>\n",
       "      <td>0.000000</td>\n",
       "      <td>0.000000</td>\n",
       "      <td>2.000000</td>\n",
       "      <td>146.000000</td>\n",
       "      <td>2.000000</td>\n",
       "    </tr>\n",
       "    <tr>\n",
       "      <th>50%</th>\n",
       "      <td>69.000000</td>\n",
       "      <td>2016.000000</td>\n",
       "      <td>28.000000</td>\n",
       "      <td>16.000000</td>\n",
       "      <td>1.000000</td>\n",
       "      <td>2.000000</td>\n",
       "      <td>2.000000</td>\n",
       "      <td>0.000000</td>\n",
       "      <td>0.000000</td>\n",
       "      <td>0.000000</td>\n",
       "      <td>0.000000</td>\n",
       "      <td>0.000000</td>\n",
       "      <td>0.000000</td>\n",
       "      <td>94.575000</td>\n",
       "      <td>0.000000</td>\n",
       "      <td>0.000000</td>\n",
       "      <td>3.000000</td>\n",
       "      <td>267.000000</td>\n",
       "      <td>2.000000</td>\n",
       "    </tr>\n",
       "    <tr>\n",
       "      <th>75%</th>\n",
       "      <td>160.000000</td>\n",
       "      <td>2017.000000</td>\n",
       "      <td>38.000000</td>\n",
       "      <td>23.000000</td>\n",
       "      <td>2.000000</td>\n",
       "      <td>3.000000</td>\n",
       "      <td>2.000000</td>\n",
       "      <td>0.000000</td>\n",
       "      <td>0.000000</td>\n",
       "      <td>0.000000</td>\n",
       "      <td>0.000000</td>\n",
       "      <td>0.000000</td>\n",
       "      <td>0.000000</td>\n",
       "      <td>126.000000</td>\n",
       "      <td>0.000000</td>\n",
       "      <td>1.000000</td>\n",
       "      <td>4.000000</td>\n",
       "      <td>446.250000</td>\n",
       "      <td>2.000000</td>\n",
       "    </tr>\n",
       "    <tr>\n",
       "      <th>max</th>\n",
       "      <td>737.000000</td>\n",
       "      <td>2017.000000</td>\n",
       "      <td>53.000000</td>\n",
       "      <td>31.000000</td>\n",
       "      <td>19.000000</td>\n",
       "      <td>50.000000</td>\n",
       "      <td>55.000000</td>\n",
       "      <td>10.000000</td>\n",
       "      <td>10.000000</td>\n",
       "      <td>26.000000</td>\n",
       "      <td>72.000000</td>\n",
       "      <td>21.000000</td>\n",
       "      <td>391.000000</td>\n",
       "      <td>5400.000000</td>\n",
       "      <td>8.000000</td>\n",
       "      <td>5.000000</td>\n",
       "      <td>69.000000</td>\n",
       "      <td>7590.000000</td>\n",
       "      <td>55.000000</td>\n",
       "    </tr>\n",
       "  </tbody>\n",
       "</table>\n",
       "</div>"
      ],
      "text/plain": [
       "           lead_time  arrival_date_year  arrival_date_week_number  \\\n",
       "count  119390.000000      119390.000000             119390.000000   \n",
       "mean      104.011416        2016.156554                 27.165173   \n",
       "std       106.863097           0.707476                 13.605138   \n",
       "min         0.000000        2015.000000                  1.000000   \n",
       "25%        18.000000        2016.000000                 16.000000   \n",
       "50%        69.000000        2016.000000                 28.000000   \n",
       "75%       160.000000        2017.000000                 38.000000   \n",
       "max       737.000000        2017.000000                 53.000000   \n",
       "\n",
       "       arrival_date_day_of_month  stays_in_weekend_nights  \\\n",
       "count              119390.000000            119390.000000   \n",
       "mean                   15.798241                 0.927599   \n",
       "std                     8.780829                 0.998613   \n",
       "min                     1.000000                 0.000000   \n",
       "25%                     8.000000                 0.000000   \n",
       "50%                    16.000000                 1.000000   \n",
       "75%                    23.000000                 2.000000   \n",
       "max                    31.000000                19.000000   \n",
       "\n",
       "       stays_in_week_nights         adults       children         babies  \\\n",
       "count         119390.000000  119390.000000  119390.000000  119390.000000   \n",
       "mean               2.500302       1.856403       0.103886       0.007949   \n",
       "std                1.908286       0.579261       0.398555       0.097436   \n",
       "min                0.000000       0.000000       0.000000       0.000000   \n",
       "25%                1.000000       2.000000       0.000000       0.000000   \n",
       "50%                2.000000       2.000000       0.000000       0.000000   \n",
       "75%                3.000000       2.000000       0.000000       0.000000   \n",
       "max               50.000000      55.000000      10.000000      10.000000   \n",
       "\n",
       "       previous_cancellations  previous_bookings_not_canceled  \\\n",
       "count           119390.000000                   119390.000000   \n",
       "mean                 0.087118                        0.137097   \n",
       "std                  0.844336                        1.497437   \n",
       "min                  0.000000                        0.000000   \n",
       "25%                  0.000000                        0.000000   \n",
       "50%                  0.000000                        0.000000   \n",
       "75%                  0.000000                        0.000000   \n",
       "max                 26.000000                       72.000000   \n",
       "\n",
       "       booking_changes  days_in_waiting_list            adr  \\\n",
       "count    119390.000000         119390.000000  119390.000000   \n",
       "mean          0.221124              2.321149     101.831122   \n",
       "std           0.652306             17.594721      50.535790   \n",
       "min           0.000000              0.000000      -6.380000   \n",
       "25%           0.000000              0.000000      69.290000   \n",
       "50%           0.000000              0.000000      94.575000   \n",
       "75%           0.000000              0.000000     126.000000   \n",
       "max          21.000000            391.000000    5400.000000   \n",
       "\n",
       "       required_car_parking_spaces  total_of_special_requests     days_spent  \\\n",
       "count                119390.000000              119390.000000  119390.000000   \n",
       "mean                      0.062518                   0.571363       3.427900   \n",
       "std                       0.245291                   0.792798       2.557439   \n",
       "min                       0.000000                   0.000000       0.000000   \n",
       "25%                       0.000000                   0.000000       2.000000   \n",
       "50%                       0.000000                   0.000000       3.000000   \n",
       "75%                       0.000000                   1.000000       4.000000   \n",
       "max                       8.000000                   5.000000      69.000000   \n",
       "\n",
       "       total_spending   total_guests  \n",
       "count   119390.000000  119390.000000  \n",
       "mean       357.848208       1.968239  \n",
       "std        335.910109       0.722394  \n",
       "min        -63.800000       0.000000  \n",
       "25%        146.000000       2.000000  \n",
       "50%        267.000000       2.000000  \n",
       "75%        446.250000       2.000000  \n",
       "max       7590.000000      55.000000  "
      ]
     },
     "execution_count": 26,
     "metadata": {},
     "output_type": "execute_result"
    }
   ],
   "source": [
    "#numerical variables\n",
    "hotels_df.describe()"
   ]
  },
  {
   "cell_type": "code",
   "execution_count": 27,
   "id": "4d126877",
   "metadata": {
    "execution": {
     "iopub.execute_input": "2023-03-19T10:01:32.996951Z",
     "iopub.status.busy": "2023-03-19T10:01:32.995858Z",
     "iopub.status.idle": "2023-03-19T10:01:33.048225Z",
     "shell.execute_reply": "2023-03-19T10:01:33.047102Z"
    },
    "papermill": {
     "duration": 0.0702,
     "end_time": "2023-03-19T10:01:33.051211",
     "exception": false,
     "start_time": "2023-03-19T10:01:32.981011",
     "status": "completed"
    },
    "tags": []
   },
   "outputs": [
    {
     "data": {
      "text/html": [
       "<div>\n",
       "<style scoped>\n",
       "    .dataframe tbody tr th:only-of-type {\n",
       "        vertical-align: middle;\n",
       "    }\n",
       "\n",
       "    .dataframe tbody tr th {\n",
       "        vertical-align: top;\n",
       "    }\n",
       "\n",
       "    .dataframe thead th {\n",
       "        text-align: right;\n",
       "    }\n",
       "</style>\n",
       "<table border=\"1\" class=\"dataframe\">\n",
       "  <thead>\n",
       "    <tr style=\"text-align: right;\">\n",
       "      <th></th>\n",
       "      <th>is_canceled</th>\n",
       "      <th>arrival_date_month</th>\n",
       "      <th>meal</th>\n",
       "      <th>country</th>\n",
       "      <th>market_segment</th>\n",
       "      <th>distribution_channel</th>\n",
       "      <th>is_repeated_guest</th>\n",
       "      <th>reserved_room_type</th>\n",
       "      <th>assigned_room_type</th>\n",
       "      <th>deposit_type</th>\n",
       "      <th>agent</th>\n",
       "      <th>company</th>\n",
       "      <th>customer_type</th>\n",
       "      <th>reservation_status</th>\n",
       "    </tr>\n",
       "  </thead>\n",
       "  <tbody>\n",
       "    <tr>\n",
       "      <th>count</th>\n",
       "      <td>119390</td>\n",
       "      <td>119390</td>\n",
       "      <td>119390</td>\n",
       "      <td>119390</td>\n",
       "      <td>119390</td>\n",
       "      <td>119390</td>\n",
       "      <td>119390</td>\n",
       "      <td>119390</td>\n",
       "      <td>119390</td>\n",
       "      <td>119390</td>\n",
       "      <td>119390</td>\n",
       "      <td>119390</td>\n",
       "      <td>119390</td>\n",
       "      <td>119390</td>\n",
       "    </tr>\n",
       "    <tr>\n",
       "      <th>unique</th>\n",
       "      <td>2</td>\n",
       "      <td>12</td>\n",
       "      <td>5</td>\n",
       "      <td>177</td>\n",
       "      <td>8</td>\n",
       "      <td>5</td>\n",
       "      <td>2</td>\n",
       "      <td>10</td>\n",
       "      <td>12</td>\n",
       "      <td>3</td>\n",
       "      <td>334</td>\n",
       "      <td>353</td>\n",
       "      <td>4</td>\n",
       "      <td>3</td>\n",
       "    </tr>\n",
       "    <tr>\n",
       "      <th>top</th>\n",
       "      <td>0</td>\n",
       "      <td>August</td>\n",
       "      <td>BB</td>\n",
       "      <td>PRT</td>\n",
       "      <td>Online TA</td>\n",
       "      <td>TA/TO</td>\n",
       "      <td>0</td>\n",
       "      <td>A</td>\n",
       "      <td>A</td>\n",
       "      <td>No Deposit</td>\n",
       "      <td>9</td>\n",
       "      <td>0</td>\n",
       "      <td>Transient</td>\n",
       "      <td>Check-Out</td>\n",
       "    </tr>\n",
       "    <tr>\n",
       "      <th>freq</th>\n",
       "      <td>75166</td>\n",
       "      <td>13877</td>\n",
       "      <td>92310</td>\n",
       "      <td>49078</td>\n",
       "      <td>56477</td>\n",
       "      <td>97870</td>\n",
       "      <td>115580</td>\n",
       "      <td>85994</td>\n",
       "      <td>74053</td>\n",
       "      <td>104641</td>\n",
       "      <td>31961</td>\n",
       "      <td>112593</td>\n",
       "      <td>89613</td>\n",
       "      <td>75166</td>\n",
       "    </tr>\n",
       "  </tbody>\n",
       "</table>\n",
       "</div>"
      ],
      "text/plain": [
       "        is_canceled arrival_date_month    meal country market_segment  \\\n",
       "count        119390             119390  119390  119390         119390   \n",
       "unique            2                 12       5     177              8   \n",
       "top               0             August      BB     PRT      Online TA   \n",
       "freq          75166              13877   92310   49078          56477   \n",
       "\n",
       "       distribution_channel  is_repeated_guest reserved_room_type  \\\n",
       "count                119390             119390             119390   \n",
       "unique                    5                  2                 10   \n",
       "top                   TA/TO                  0                  A   \n",
       "freq                  97870             115580              85994   \n",
       "\n",
       "       assigned_room_type deposit_type   agent  company customer_type  \\\n",
       "count              119390       119390  119390   119390        119390   \n",
       "unique                 12            3     334      353             4   \n",
       "top                     A   No Deposit       9        0     Transient   \n",
       "freq                74053       104641   31961   112593         89613   \n",
       "\n",
       "       reservation_status  \n",
       "count              119390  \n",
       "unique                  3  \n",
       "top             Check-Out  \n",
       "freq                75166  "
      ]
     },
     "execution_count": 27,
     "metadata": {},
     "output_type": "execute_result"
    }
   ],
   "source": [
    "#categorical variables\n",
    "hotels_df.describe(include= \"category\")"
   ]
  },
  {
   "cell_type": "code",
   "execution_count": 28,
   "id": "6eca70bc",
   "metadata": {
    "execution": {
     "iopub.execute_input": "2023-03-19T10:01:33.080599Z",
     "iopub.status.busy": "2023-03-19T10:01:33.080107Z",
     "iopub.status.idle": "2023-03-19T10:01:33.132821Z",
     "shell.execute_reply": "2023-03-19T10:01:33.131623Z"
    },
    "papermill": {
     "duration": 0.070399,
     "end_time": "2023-03-19T10:01:33.135266",
     "exception": false,
     "start_time": "2023-03-19T10:01:33.064867",
     "status": "completed"
    },
    "tags": []
   },
   "outputs": [
    {
     "data": {
      "text/html": [
       "<div>\n",
       "<style scoped>\n",
       "    .dataframe tbody tr th:only-of-type {\n",
       "        vertical-align: middle;\n",
       "    }\n",
       "\n",
       "    .dataframe tbody tr th {\n",
       "        vertical-align: top;\n",
       "    }\n",
       "\n",
       "    .dataframe thead th {\n",
       "        text-align: right;\n",
       "    }\n",
       "</style>\n",
       "<table border=\"1\" class=\"dataframe\">\n",
       "  <thead>\n",
       "    <tr style=\"text-align: right;\">\n",
       "      <th></th>\n",
       "      <th>hotel</th>\n",
       "      <th>is_canceled</th>\n",
       "      <th>lead_time</th>\n",
       "      <th>arrival_date_year</th>\n",
       "      <th>arrival_date_month</th>\n",
       "      <th>arrival_date_week_number</th>\n",
       "      <th>arrival_date_day_of_month</th>\n",
       "      <th>stays_in_weekend_nights</th>\n",
       "      <th>stays_in_week_nights</th>\n",
       "      <th>adults</th>\n",
       "      <th>children</th>\n",
       "      <th>babies</th>\n",
       "      <th>meal</th>\n",
       "      <th>country</th>\n",
       "      <th>market_segment</th>\n",
       "      <th>distribution_channel</th>\n",
       "      <th>is_repeated_guest</th>\n",
       "      <th>previous_cancellations</th>\n",
       "      <th>previous_bookings_not_canceled</th>\n",
       "      <th>reserved_room_type</th>\n",
       "      <th>assigned_room_type</th>\n",
       "      <th>booking_changes</th>\n",
       "      <th>deposit_type</th>\n",
       "      <th>agent</th>\n",
       "      <th>company</th>\n",
       "      <th>days_in_waiting_list</th>\n",
       "      <th>customer_type</th>\n",
       "      <th>adr</th>\n",
       "      <th>required_car_parking_spaces</th>\n",
       "      <th>total_of_special_requests</th>\n",
       "      <th>reservation_status</th>\n",
       "      <th>reservation_status_date</th>\n",
       "      <th>name</th>\n",
       "      <th>arrival_date</th>\n",
       "      <th>days_spent</th>\n",
       "      <th>total_spending</th>\n",
       "      <th>total_guests</th>\n",
       "    </tr>\n",
       "  </thead>\n",
       "  <tbody>\n",
       "    <tr>\n",
       "      <th>0</th>\n",
       "      <td>Resort Hotel</td>\n",
       "      <td>0</td>\n",
       "      <td>342</td>\n",
       "      <td>2015</td>\n",
       "      <td>July</td>\n",
       "      <td>27</td>\n",
       "      <td>1</td>\n",
       "      <td>0</td>\n",
       "      <td>0</td>\n",
       "      <td>2</td>\n",
       "      <td>0</td>\n",
       "      <td>0</td>\n",
       "      <td>BB</td>\n",
       "      <td>PRT</td>\n",
       "      <td>Direct</td>\n",
       "      <td>Direct</td>\n",
       "      <td>0</td>\n",
       "      <td>0</td>\n",
       "      <td>0</td>\n",
       "      <td>C</td>\n",
       "      <td>C</td>\n",
       "      <td>3</td>\n",
       "      <td>No Deposit</td>\n",
       "      <td>0</td>\n",
       "      <td>0</td>\n",
       "      <td>0</td>\n",
       "      <td>Transient</td>\n",
       "      <td>0.0</td>\n",
       "      <td>0</td>\n",
       "      <td>0</td>\n",
       "      <td>Check-Out</td>\n",
       "      <td>2015-07-01</td>\n",
       "      <td>Ernest Barnes</td>\n",
       "      <td>2015-07-01</td>\n",
       "      <td>0</td>\n",
       "      <td>0.0</td>\n",
       "      <td>2</td>\n",
       "    </tr>\n",
       "    <tr>\n",
       "      <th>1</th>\n",
       "      <td>Resort Hotel</td>\n",
       "      <td>0</td>\n",
       "      <td>737</td>\n",
       "      <td>2015</td>\n",
       "      <td>July</td>\n",
       "      <td>27</td>\n",
       "      <td>1</td>\n",
       "      <td>0</td>\n",
       "      <td>0</td>\n",
       "      <td>2</td>\n",
       "      <td>0</td>\n",
       "      <td>0</td>\n",
       "      <td>BB</td>\n",
       "      <td>PRT</td>\n",
       "      <td>Direct</td>\n",
       "      <td>Direct</td>\n",
       "      <td>0</td>\n",
       "      <td>0</td>\n",
       "      <td>0</td>\n",
       "      <td>C</td>\n",
       "      <td>C</td>\n",
       "      <td>4</td>\n",
       "      <td>No Deposit</td>\n",
       "      <td>0</td>\n",
       "      <td>0</td>\n",
       "      <td>0</td>\n",
       "      <td>Transient</td>\n",
       "      <td>0.0</td>\n",
       "      <td>0</td>\n",
       "      <td>0</td>\n",
       "      <td>Check-Out</td>\n",
       "      <td>2015-07-01</td>\n",
       "      <td>Andrea Baker</td>\n",
       "      <td>2015-07-01</td>\n",
       "      <td>0</td>\n",
       "      <td>0.0</td>\n",
       "      <td>2</td>\n",
       "    </tr>\n",
       "    <tr>\n",
       "      <th>2</th>\n",
       "      <td>Resort Hotel</td>\n",
       "      <td>0</td>\n",
       "      <td>7</td>\n",
       "      <td>2015</td>\n",
       "      <td>July</td>\n",
       "      <td>27</td>\n",
       "      <td>1</td>\n",
       "      <td>0</td>\n",
       "      <td>1</td>\n",
       "      <td>1</td>\n",
       "      <td>0</td>\n",
       "      <td>0</td>\n",
       "      <td>BB</td>\n",
       "      <td>GBR</td>\n",
       "      <td>Direct</td>\n",
       "      <td>Direct</td>\n",
       "      <td>0</td>\n",
       "      <td>0</td>\n",
       "      <td>0</td>\n",
       "      <td>A</td>\n",
       "      <td>C</td>\n",
       "      <td>0</td>\n",
       "      <td>No Deposit</td>\n",
       "      <td>0</td>\n",
       "      <td>0</td>\n",
       "      <td>0</td>\n",
       "      <td>Transient</td>\n",
       "      <td>75.0</td>\n",
       "      <td>0</td>\n",
       "      <td>0</td>\n",
       "      <td>Check-Out</td>\n",
       "      <td>2015-07-02</td>\n",
       "      <td>Rebecca Parker</td>\n",
       "      <td>2015-07-01</td>\n",
       "      <td>1</td>\n",
       "      <td>75.0</td>\n",
       "      <td>1</td>\n",
       "    </tr>\n",
       "    <tr>\n",
       "      <th>3</th>\n",
       "      <td>Resort Hotel</td>\n",
       "      <td>0</td>\n",
       "      <td>13</td>\n",
       "      <td>2015</td>\n",
       "      <td>July</td>\n",
       "      <td>27</td>\n",
       "      <td>1</td>\n",
       "      <td>0</td>\n",
       "      <td>1</td>\n",
       "      <td>1</td>\n",
       "      <td>0</td>\n",
       "      <td>0</td>\n",
       "      <td>BB</td>\n",
       "      <td>GBR</td>\n",
       "      <td>Corporate</td>\n",
       "      <td>Corporate</td>\n",
       "      <td>0</td>\n",
       "      <td>0</td>\n",
       "      <td>0</td>\n",
       "      <td>A</td>\n",
       "      <td>A</td>\n",
       "      <td>0</td>\n",
       "      <td>No Deposit</td>\n",
       "      <td>304</td>\n",
       "      <td>0</td>\n",
       "      <td>0</td>\n",
       "      <td>Transient</td>\n",
       "      <td>75.0</td>\n",
       "      <td>0</td>\n",
       "      <td>0</td>\n",
       "      <td>Check-Out</td>\n",
       "      <td>2015-07-02</td>\n",
       "      <td>Laura Murray</td>\n",
       "      <td>2015-07-01</td>\n",
       "      <td>1</td>\n",
       "      <td>75.0</td>\n",
       "      <td>1</td>\n",
       "    </tr>\n",
       "    <tr>\n",
       "      <th>4</th>\n",
       "      <td>Resort Hotel</td>\n",
       "      <td>0</td>\n",
       "      <td>14</td>\n",
       "      <td>2015</td>\n",
       "      <td>July</td>\n",
       "      <td>27</td>\n",
       "      <td>1</td>\n",
       "      <td>0</td>\n",
       "      <td>2</td>\n",
       "      <td>2</td>\n",
       "      <td>0</td>\n",
       "      <td>0</td>\n",
       "      <td>BB</td>\n",
       "      <td>GBR</td>\n",
       "      <td>Online TA</td>\n",
       "      <td>TA/TO</td>\n",
       "      <td>0</td>\n",
       "      <td>0</td>\n",
       "      <td>0</td>\n",
       "      <td>A</td>\n",
       "      <td>A</td>\n",
       "      <td>0</td>\n",
       "      <td>No Deposit</td>\n",
       "      <td>240</td>\n",
       "      <td>0</td>\n",
       "      <td>0</td>\n",
       "      <td>Transient</td>\n",
       "      <td>98.0</td>\n",
       "      <td>0</td>\n",
       "      <td>1</td>\n",
       "      <td>Check-Out</td>\n",
       "      <td>2015-07-03</td>\n",
       "      <td>Linda Hines</td>\n",
       "      <td>2015-07-01</td>\n",
       "      <td>2</td>\n",
       "      <td>196.0</td>\n",
       "      <td>2</td>\n",
       "    </tr>\n",
       "  </tbody>\n",
       "</table>\n",
       "</div>"
      ],
      "text/plain": [
       "          hotel is_canceled  lead_time  arrival_date_year arrival_date_month  \\\n",
       "0  Resort Hotel           0        342               2015               July   \n",
       "1  Resort Hotel           0        737               2015               July   \n",
       "2  Resort Hotel           0          7               2015               July   \n",
       "3  Resort Hotel           0         13               2015               July   \n",
       "4  Resort Hotel           0         14               2015               July   \n",
       "\n",
       "   arrival_date_week_number  arrival_date_day_of_month  \\\n",
       "0                        27                          1   \n",
       "1                        27                          1   \n",
       "2                        27                          1   \n",
       "3                        27                          1   \n",
       "4                        27                          1   \n",
       "\n",
       "   stays_in_weekend_nights  stays_in_week_nights  adults  children  babies  \\\n",
       "0                        0                     0       2         0       0   \n",
       "1                        0                     0       2         0       0   \n",
       "2                        0                     1       1         0       0   \n",
       "3                        0                     1       1         0       0   \n",
       "4                        0                     2       2         0       0   \n",
       "\n",
       "  meal country market_segment distribution_channel is_repeated_guest  \\\n",
       "0   BB     PRT         Direct               Direct                 0   \n",
       "1   BB     PRT         Direct               Direct                 0   \n",
       "2   BB     GBR         Direct               Direct                 0   \n",
       "3   BB     GBR      Corporate            Corporate                 0   \n",
       "4   BB     GBR      Online TA                TA/TO                 0   \n",
       "\n",
       "   previous_cancellations  previous_bookings_not_canceled reserved_room_type  \\\n",
       "0                       0                               0                  C   \n",
       "1                       0                               0                  C   \n",
       "2                       0                               0                  A   \n",
       "3                       0                               0                  A   \n",
       "4                       0                               0                  A   \n",
       "\n",
       "  assigned_room_type  booking_changes deposit_type agent company  \\\n",
       "0                  C                3   No Deposit     0       0   \n",
       "1                  C                4   No Deposit     0       0   \n",
       "2                  C                0   No Deposit     0       0   \n",
       "3                  A                0   No Deposit   304       0   \n",
       "4                  A                0   No Deposit   240       0   \n",
       "\n",
       "   days_in_waiting_list customer_type   adr  required_car_parking_spaces  \\\n",
       "0                     0     Transient   0.0                            0   \n",
       "1                     0     Transient   0.0                            0   \n",
       "2                     0     Transient  75.0                            0   \n",
       "3                     0     Transient  75.0                            0   \n",
       "4                     0     Transient  98.0                            0   \n",
       "\n",
       "   total_of_special_requests reservation_status reservation_status_date  \\\n",
       "0                          0          Check-Out              2015-07-01   \n",
       "1                          0          Check-Out              2015-07-01   \n",
       "2                          0          Check-Out              2015-07-02   \n",
       "3                          0          Check-Out              2015-07-02   \n",
       "4                          1          Check-Out              2015-07-03   \n",
       "\n",
       "             name arrival_date  days_spent  total_spending  total_guests  \n",
       "0   Ernest Barnes   2015-07-01           0             0.0             2  \n",
       "1    Andrea Baker   2015-07-01           0             0.0             2  \n",
       "2  Rebecca Parker   2015-07-01           1            75.0             1  \n",
       "3    Laura Murray   2015-07-01           1            75.0             1  \n",
       "4     Linda Hines   2015-07-01           2           196.0             2  "
      ]
     },
     "execution_count": 28,
     "metadata": {},
     "output_type": "execute_result"
    }
   ],
   "source": [
    "#creating to seprate datasets for the two different hotels\n",
    "#resort hotel\n",
    "resort_df= hotels_df.loc[hotels_df[\"hotel\"]== \"Resort Hotel\"].reset_index(drop= True)\n",
    "resort_df.head()"
   ]
  },
  {
   "cell_type": "code",
   "execution_count": 29,
   "id": "c198a24b",
   "metadata": {
    "execution": {
     "iopub.execute_input": "2023-03-19T10:01:33.165126Z",
     "iopub.status.busy": "2023-03-19T10:01:33.164702Z",
     "iopub.status.idle": "2023-03-19T10:01:33.228820Z",
     "shell.execute_reply": "2023-03-19T10:01:33.227637Z"
    },
    "papermill": {
     "duration": 0.081664,
     "end_time": "2023-03-19T10:01:33.231085",
     "exception": false,
     "start_time": "2023-03-19T10:01:33.149421",
     "status": "completed"
    },
    "tags": []
   },
   "outputs": [
    {
     "data": {
      "text/html": [
       "<div>\n",
       "<style scoped>\n",
       "    .dataframe tbody tr th:only-of-type {\n",
       "        vertical-align: middle;\n",
       "    }\n",
       "\n",
       "    .dataframe tbody tr th {\n",
       "        vertical-align: top;\n",
       "    }\n",
       "\n",
       "    .dataframe thead th {\n",
       "        text-align: right;\n",
       "    }\n",
       "</style>\n",
       "<table border=\"1\" class=\"dataframe\">\n",
       "  <thead>\n",
       "    <tr style=\"text-align: right;\">\n",
       "      <th></th>\n",
       "      <th>hotel</th>\n",
       "      <th>is_canceled</th>\n",
       "      <th>lead_time</th>\n",
       "      <th>arrival_date_year</th>\n",
       "      <th>arrival_date_month</th>\n",
       "      <th>arrival_date_week_number</th>\n",
       "      <th>arrival_date_day_of_month</th>\n",
       "      <th>stays_in_weekend_nights</th>\n",
       "      <th>stays_in_week_nights</th>\n",
       "      <th>adults</th>\n",
       "      <th>children</th>\n",
       "      <th>babies</th>\n",
       "      <th>meal</th>\n",
       "      <th>country</th>\n",
       "      <th>market_segment</th>\n",
       "      <th>distribution_channel</th>\n",
       "      <th>is_repeated_guest</th>\n",
       "      <th>previous_cancellations</th>\n",
       "      <th>previous_bookings_not_canceled</th>\n",
       "      <th>reserved_room_type</th>\n",
       "      <th>assigned_room_type</th>\n",
       "      <th>booking_changes</th>\n",
       "      <th>deposit_type</th>\n",
       "      <th>agent</th>\n",
       "      <th>company</th>\n",
       "      <th>days_in_waiting_list</th>\n",
       "      <th>customer_type</th>\n",
       "      <th>adr</th>\n",
       "      <th>required_car_parking_spaces</th>\n",
       "      <th>total_of_special_requests</th>\n",
       "      <th>reservation_status</th>\n",
       "      <th>reservation_status_date</th>\n",
       "      <th>name</th>\n",
       "      <th>arrival_date</th>\n",
       "      <th>days_spent</th>\n",
       "      <th>total_spending</th>\n",
       "      <th>total_guests</th>\n",
       "    </tr>\n",
       "  </thead>\n",
       "  <tbody>\n",
       "    <tr>\n",
       "      <th>0</th>\n",
       "      <td>City Hotel</td>\n",
       "      <td>0</td>\n",
       "      <td>6</td>\n",
       "      <td>2015</td>\n",
       "      <td>July</td>\n",
       "      <td>27</td>\n",
       "      <td>1</td>\n",
       "      <td>0</td>\n",
       "      <td>2</td>\n",
       "      <td>1</td>\n",
       "      <td>0</td>\n",
       "      <td>0</td>\n",
       "      <td>HB</td>\n",
       "      <td>PRT</td>\n",
       "      <td>Offline TA/TO</td>\n",
       "      <td>TA/TO</td>\n",
       "      <td>0</td>\n",
       "      <td>0</td>\n",
       "      <td>0</td>\n",
       "      <td>A</td>\n",
       "      <td>A</td>\n",
       "      <td>0</td>\n",
       "      <td>No Deposit</td>\n",
       "      <td>6</td>\n",
       "      <td>0</td>\n",
       "      <td>0</td>\n",
       "      <td>Transient</td>\n",
       "      <td>0.0</td>\n",
       "      <td>0</td>\n",
       "      <td>0</td>\n",
       "      <td>Check-Out</td>\n",
       "      <td>2015-07-03</td>\n",
       "      <td>Elizabeth Ross</td>\n",
       "      <td>2015-07-01</td>\n",
       "      <td>2</td>\n",
       "      <td>0.0</td>\n",
       "      <td>1</td>\n",
       "    </tr>\n",
       "    <tr>\n",
       "      <th>1</th>\n",
       "      <td>City Hotel</td>\n",
       "      <td>1</td>\n",
       "      <td>88</td>\n",
       "      <td>2015</td>\n",
       "      <td>July</td>\n",
       "      <td>27</td>\n",
       "      <td>1</td>\n",
       "      <td>0</td>\n",
       "      <td>4</td>\n",
       "      <td>2</td>\n",
       "      <td>0</td>\n",
       "      <td>0</td>\n",
       "      <td>BB</td>\n",
       "      <td>PRT</td>\n",
       "      <td>Online TA</td>\n",
       "      <td>TA/TO</td>\n",
       "      <td>0</td>\n",
       "      <td>0</td>\n",
       "      <td>0</td>\n",
       "      <td>A</td>\n",
       "      <td>A</td>\n",
       "      <td>0</td>\n",
       "      <td>No Deposit</td>\n",
       "      <td>9</td>\n",
       "      <td>0</td>\n",
       "      <td>0</td>\n",
       "      <td>Transient</td>\n",
       "      <td>76.5</td>\n",
       "      <td>0</td>\n",
       "      <td>1</td>\n",
       "      <td>Canceled</td>\n",
       "      <td>2015-07-01</td>\n",
       "      <td>Adam Aguilar</td>\n",
       "      <td>2015-07-01</td>\n",
       "      <td>4</td>\n",
       "      <td>306.0</td>\n",
       "      <td>2</td>\n",
       "    </tr>\n",
       "    <tr>\n",
       "      <th>2</th>\n",
       "      <td>City Hotel</td>\n",
       "      <td>1</td>\n",
       "      <td>65</td>\n",
       "      <td>2015</td>\n",
       "      <td>July</td>\n",
       "      <td>27</td>\n",
       "      <td>1</td>\n",
       "      <td>0</td>\n",
       "      <td>4</td>\n",
       "      <td>1</td>\n",
       "      <td>0</td>\n",
       "      <td>0</td>\n",
       "      <td>BB</td>\n",
       "      <td>PRT</td>\n",
       "      <td>Online TA</td>\n",
       "      <td>TA/TO</td>\n",
       "      <td>0</td>\n",
       "      <td>0</td>\n",
       "      <td>0</td>\n",
       "      <td>A</td>\n",
       "      <td>A</td>\n",
       "      <td>0</td>\n",
       "      <td>No Deposit</td>\n",
       "      <td>9</td>\n",
       "      <td>0</td>\n",
       "      <td>0</td>\n",
       "      <td>Transient</td>\n",
       "      <td>68.0</td>\n",
       "      <td>0</td>\n",
       "      <td>1</td>\n",
       "      <td>Canceled</td>\n",
       "      <td>2015-04-30</td>\n",
       "      <td>Mark Keller</td>\n",
       "      <td>2015-07-01</td>\n",
       "      <td>4</td>\n",
       "      <td>272.0</td>\n",
       "      <td>1</td>\n",
       "    </tr>\n",
       "    <tr>\n",
       "      <th>3</th>\n",
       "      <td>City Hotel</td>\n",
       "      <td>1</td>\n",
       "      <td>92</td>\n",
       "      <td>2015</td>\n",
       "      <td>July</td>\n",
       "      <td>27</td>\n",
       "      <td>1</td>\n",
       "      <td>2</td>\n",
       "      <td>4</td>\n",
       "      <td>2</td>\n",
       "      <td>0</td>\n",
       "      <td>0</td>\n",
       "      <td>BB</td>\n",
       "      <td>PRT</td>\n",
       "      <td>Online TA</td>\n",
       "      <td>TA/TO</td>\n",
       "      <td>0</td>\n",
       "      <td>0</td>\n",
       "      <td>0</td>\n",
       "      <td>A</td>\n",
       "      <td>A</td>\n",
       "      <td>0</td>\n",
       "      <td>No Deposit</td>\n",
       "      <td>9</td>\n",
       "      <td>0</td>\n",
       "      <td>0</td>\n",
       "      <td>Transient</td>\n",
       "      <td>76.5</td>\n",
       "      <td>0</td>\n",
       "      <td>2</td>\n",
       "      <td>Canceled</td>\n",
       "      <td>2015-06-23</td>\n",
       "      <td>Sarah Scott</td>\n",
       "      <td>2015-07-01</td>\n",
       "      <td>6</td>\n",
       "      <td>459.0</td>\n",
       "      <td>2</td>\n",
       "    </tr>\n",
       "    <tr>\n",
       "      <th>4</th>\n",
       "      <td>City Hotel</td>\n",
       "      <td>1</td>\n",
       "      <td>100</td>\n",
       "      <td>2015</td>\n",
       "      <td>July</td>\n",
       "      <td>27</td>\n",
       "      <td>2</td>\n",
       "      <td>0</td>\n",
       "      <td>2</td>\n",
       "      <td>2</td>\n",
       "      <td>0</td>\n",
       "      <td>0</td>\n",
       "      <td>BB</td>\n",
       "      <td>PRT</td>\n",
       "      <td>Online TA</td>\n",
       "      <td>TA/TO</td>\n",
       "      <td>0</td>\n",
       "      <td>0</td>\n",
       "      <td>0</td>\n",
       "      <td>A</td>\n",
       "      <td>A</td>\n",
       "      <td>0</td>\n",
       "      <td>No Deposit</td>\n",
       "      <td>9</td>\n",
       "      <td>0</td>\n",
       "      <td>0</td>\n",
       "      <td>Transient</td>\n",
       "      <td>76.5</td>\n",
       "      <td>0</td>\n",
       "      <td>1</td>\n",
       "      <td>Canceled</td>\n",
       "      <td>2015-04-02</td>\n",
       "      <td>Misty Perry</td>\n",
       "      <td>2015-07-02</td>\n",
       "      <td>2</td>\n",
       "      <td>153.0</td>\n",
       "      <td>2</td>\n",
       "    </tr>\n",
       "  </tbody>\n",
       "</table>\n",
       "</div>"
      ],
      "text/plain": [
       "        hotel is_canceled  lead_time  arrival_date_year arrival_date_month  \\\n",
       "0  City Hotel           0          6               2015               July   \n",
       "1  City Hotel           1         88               2015               July   \n",
       "2  City Hotel           1         65               2015               July   \n",
       "3  City Hotel           1         92               2015               July   \n",
       "4  City Hotel           1        100               2015               July   \n",
       "\n",
       "   arrival_date_week_number  arrival_date_day_of_month  \\\n",
       "0                        27                          1   \n",
       "1                        27                          1   \n",
       "2                        27                          1   \n",
       "3                        27                          1   \n",
       "4                        27                          2   \n",
       "\n",
       "   stays_in_weekend_nights  stays_in_week_nights  adults  children  babies  \\\n",
       "0                        0                     2       1         0       0   \n",
       "1                        0                     4       2         0       0   \n",
       "2                        0                     4       1         0       0   \n",
       "3                        2                     4       2         0       0   \n",
       "4                        0                     2       2         0       0   \n",
       "\n",
       "  meal country market_segment distribution_channel is_repeated_guest  \\\n",
       "0   HB     PRT  Offline TA/TO                TA/TO                 0   \n",
       "1   BB     PRT      Online TA                TA/TO                 0   \n",
       "2   BB     PRT      Online TA                TA/TO                 0   \n",
       "3   BB     PRT      Online TA                TA/TO                 0   \n",
       "4   BB     PRT      Online TA                TA/TO                 0   \n",
       "\n",
       "   previous_cancellations  previous_bookings_not_canceled reserved_room_type  \\\n",
       "0                       0                               0                  A   \n",
       "1                       0                               0                  A   \n",
       "2                       0                               0                  A   \n",
       "3                       0                               0                  A   \n",
       "4                       0                               0                  A   \n",
       "\n",
       "  assigned_room_type  booking_changes deposit_type agent company  \\\n",
       "0                  A                0   No Deposit     6       0   \n",
       "1                  A                0   No Deposit     9       0   \n",
       "2                  A                0   No Deposit     9       0   \n",
       "3                  A                0   No Deposit     9       0   \n",
       "4                  A                0   No Deposit     9       0   \n",
       "\n",
       "   days_in_waiting_list customer_type   adr  required_car_parking_spaces  \\\n",
       "0                     0     Transient   0.0                            0   \n",
       "1                     0     Transient  76.5                            0   \n",
       "2                     0     Transient  68.0                            0   \n",
       "3                     0     Transient  76.5                            0   \n",
       "4                     0     Transient  76.5                            0   \n",
       "\n",
       "   total_of_special_requests reservation_status reservation_status_date  \\\n",
       "0                          0          Check-Out              2015-07-03   \n",
       "1                          1           Canceled              2015-07-01   \n",
       "2                          1           Canceled              2015-04-30   \n",
       "3                          2           Canceled              2015-06-23   \n",
       "4                          1           Canceled              2015-04-02   \n",
       "\n",
       "             name arrival_date  days_spent  total_spending  total_guests  \n",
       "0  Elizabeth Ross   2015-07-01           2             0.0             1  \n",
       "1    Adam Aguilar   2015-07-01           4           306.0             2  \n",
       "2     Mark Keller   2015-07-01           4           272.0             1  \n",
       "3     Sarah Scott   2015-07-01           6           459.0             2  \n",
       "4     Misty Perry   2015-07-02           2           153.0             2  "
      ]
     },
     "execution_count": 29,
     "metadata": {},
     "output_type": "execute_result"
    }
   ],
   "source": [
    "#city hotel\n",
    "city_df= hotels_df.loc[hotels_df[\"hotel\"]== \"City Hotel\"].reset_index(drop= True)\n",
    "city_df.head()"
   ]
  },
  {
   "cell_type": "markdown",
   "id": "0e728daf",
   "metadata": {
    "papermill": {
     "duration": 0.014039,
     "end_time": "2023-03-19T10:01:33.259813",
     "exception": false,
     "start_time": "2023-03-19T10:01:33.245774",
     "status": "completed"
    },
    "tags": []
   },
   "source": [
    "Assumptions-\n",
    "\n",
    "1.80% of the business came from 20% of agents/companies\n",
    "    \n",
    "    1.1. find the top 10 agents\n",
    "    1.2. find the top 10 companies (based on total spending by the guests)\n",
    "\n",
    "2.Bookings are more on weekends compared to weekdays\n",
    "\n",
    "3.City hotels are more prone to canclellations compared to resort hotels\n",
    "\n",
    "4.Corporate clients are more prone to cancel their stays\n",
    "\n",
    "5.Resort Hotels see higher business during holiday seasons, whereas for City Hotels, the clientele is pretty much same thru out the year\n",
    "\n",
    "6.Most Profiatble Guests(as per ADR * total no.of nights spent)\n",
    "\n",
    "7.Most preferred meal plan\n",
    "\n",
    "8.Relation b/w meal plan and ADR\n",
    "\n",
    "9.In which month do both of the hotels have the least/highest occupancy\n",
    "\n",
    "10.Count of guests based on countries(Map Visualization)\n",
    "\n",
    "\n",
    "\n",
    "Visualizations-\n",
    "\n",
    "1.Calendar based Heat Map\n",
    "\n",
    "2.Calendar based Heat Map to check when their are least transient/transient-party guests\n",
    "Incentivize contract bookings at this time of the year\n",
    "\n",
    "3."
   ]
  },
  {
   "cell_type": "code",
   "execution_count": 30,
   "id": "8496d6c5",
   "metadata": {
    "execution": {
     "iopub.execute_input": "2023-03-19T10:01:33.290097Z",
     "iopub.status.busy": "2023-03-19T10:01:33.289704Z",
     "iopub.status.idle": "2023-03-19T10:01:33.301037Z",
     "shell.execute_reply": "2023-03-19T10:01:33.299945Z"
    },
    "papermill": {
     "duration": 0.029537,
     "end_time": "2023-03-19T10:01:33.303500",
     "exception": false,
     "start_time": "2023-03-19T10:01:33.273963",
     "status": "completed"
    },
    "tags": []
   },
   "outputs": [
    {
     "data": {
      "text/plain": [
       "['Transient', 'Contract', 'Transient-Party', 'Group']\n",
       "Categories (4, object): ['Contract', 'Group', 'Transient', 'Transient-Party']"
      ]
     },
     "execution_count": 30,
     "metadata": {},
     "output_type": "execute_result"
    }
   ],
   "source": [
    "hotels_df[\"customer_type\"].unique()"
   ]
  },
  {
   "cell_type": "markdown",
   "id": "b28a01ef",
   "metadata": {
    "papermill": {
     "duration": 0.014264,
     "end_time": "2023-03-19T10:01:33.332464",
     "exception": false,
     "start_time": "2023-03-19T10:01:33.318200",
     "status": "completed"
    },
    "tags": []
   },
   "source": [
    "https://www.xotels.com/en/glossary/displacement-analysis\n",
    "\n",
    "use displacement analysis to check which is more profitable for the two groups of hotels(resort/city). take into account the month/season."
   ]
  },
  {
   "cell_type": "code",
   "execution_count": 31,
   "id": "f00088c4",
   "metadata": {
    "execution": {
     "iopub.execute_input": "2023-03-19T10:01:33.365338Z",
     "iopub.status.busy": "2023-03-19T10:01:33.364656Z",
     "iopub.status.idle": "2023-03-19T10:01:33.466164Z",
     "shell.execute_reply": "2023-03-19T10:01:33.464982Z"
    },
    "papermill": {
     "duration": 0.121488,
     "end_time": "2023-03-19T10:01:33.468676",
     "exception": false,
     "start_time": "2023-03-19T10:01:33.347188",
     "status": "completed"
    },
    "tags": []
   },
   "outputs": [
    {
     "name": "stdout",
     "output_type": "stream",
     "text": [
      "Resort Hotel\n",
      "weekend\n",
      "1.1898152770843735\n",
      "weekday\n",
      "3.1287319021467797\n",
      "City Hotel\n",
      "weekend\n",
      "0.7951846716248582\n",
      "weekday\n",
      "2.1829572671120636\n"
     ]
    }
   ],
   "source": [
    "for hotel_type in hotels_df[\"hotel\"].unique():\n",
    "    print(hotel_type)\n",
    "    print(\"weekend\")\n",
    "    print(hotels_df[hotels_df[\"hotel\"]== hotel_type][\"stays_in_weekend_nights\"].mean())\n",
    "    print(\"weekday\")\n",
    "    print(hotels_df[hotels_df[\"hotel\"]== hotel_type][\"stays_in_week_nights\"].mean())"
   ]
  },
  {
   "cell_type": "code",
   "execution_count": 32,
   "id": "75955318",
   "metadata": {
    "execution": {
     "iopub.execute_input": "2023-03-19T10:01:33.500134Z",
     "iopub.status.busy": "2023-03-19T10:01:33.499703Z",
     "iopub.status.idle": "2023-03-19T10:01:33.509329Z",
     "shell.execute_reply": "2023-03-19T10:01:33.508508Z"
    },
    "papermill": {
     "duration": 0.027838,
     "end_time": "2023-03-19T10:01:33.511392",
     "exception": false,
     "start_time": "2023-03-19T10:01:33.483554",
     "status": "completed"
    },
    "tags": []
   },
   "outputs": [
    {
     "data": {
      "text/plain": [
       "2300"
      ]
     },
     "execution_count": 32,
     "metadata": {},
     "output_type": "execute_result"
    }
   ],
   "source": [
    "len(city_df[city_df[\"customer_type\"]== \"Contract\"])"
   ]
  },
  {
   "cell_type": "code",
   "execution_count": 33,
   "id": "03c00a2d",
   "metadata": {
    "execution": {
     "iopub.execute_input": "2023-03-19T10:01:33.543200Z",
     "iopub.status.busy": "2023-03-19T10:01:33.542452Z",
     "iopub.status.idle": "2023-03-19T10:01:33.552417Z",
     "shell.execute_reply": "2023-03-19T10:01:33.551203Z"
    },
    "papermill": {
     "duration": 0.029334,
     "end_time": "2023-03-19T10:01:33.555398",
     "exception": false,
     "start_time": "2023-03-19T10:01:33.526064",
     "status": "completed"
    },
    "tags": []
   },
   "outputs": [
    {
     "data": {
      "text/plain": [
       "1776"
      ]
     },
     "execution_count": 33,
     "metadata": {},
     "output_type": "execute_result"
    }
   ],
   "source": [
    "len(resort_df[resort_df[\"customer_type\"]== \"Contract\"])"
   ]
  },
  {
   "cell_type": "code",
   "execution_count": 34,
   "id": "847bf976",
   "metadata": {
    "execution": {
     "iopub.execute_input": "2023-03-19T10:01:33.588330Z",
     "iopub.status.busy": "2023-03-19T10:01:33.587915Z",
     "iopub.status.idle": "2023-03-19T10:01:33.594394Z",
     "shell.execute_reply": "2023-03-19T10:01:33.593518Z"
    },
    "papermill": {
     "duration": 0.025578,
     "end_time": "2023-03-19T10:01:33.596456",
     "exception": false,
     "start_time": "2023-03-19T10:01:33.570878",
     "status": "completed"
    },
    "tags": []
   },
   "outputs": [
    {
     "data": {
      "text/plain": [
       "Index(['hotel', 'is_canceled', 'lead_time', 'arrival_date_year',\n",
       "       'arrival_date_month', 'arrival_date_week_number',\n",
       "       'arrival_date_day_of_month', 'stays_in_weekend_nights',\n",
       "       'stays_in_week_nights', 'adults', 'children', 'babies', 'meal',\n",
       "       'country', 'market_segment', 'distribution_channel',\n",
       "       'is_repeated_guest', 'previous_cancellations',\n",
       "       'previous_bookings_not_canceled', 'reserved_room_type',\n",
       "       'assigned_room_type', 'booking_changes', 'deposit_type', 'agent',\n",
       "       'company', 'days_in_waiting_list', 'customer_type', 'adr',\n",
       "       'required_car_parking_spaces', 'total_of_special_requests',\n",
       "       'reservation_status', 'reservation_status_date', 'name', 'arrival_date',\n",
       "       'days_spent', 'total_spending', 'total_guests'],\n",
       "      dtype='object')"
      ]
     },
     "execution_count": 34,
     "metadata": {},
     "output_type": "execute_result"
    }
   ],
   "source": [
    "hotels_df.columns"
   ]
  },
  {
   "cell_type": "code",
   "execution_count": 35,
   "id": "32658e75",
   "metadata": {
    "execution": {
     "iopub.execute_input": "2023-03-19T10:01:33.628561Z",
     "iopub.status.busy": "2023-03-19T10:01:33.627820Z",
     "iopub.status.idle": "2023-03-19T10:01:33.658062Z",
     "shell.execute_reply": "2023-03-19T10:01:33.656843Z"
    },
    "papermill": {
     "duration": 0.049499,
     "end_time": "2023-03-19T10:01:33.660859",
     "exception": false,
     "start_time": "2023-03-19T10:01:33.611360",
     "status": "completed"
    },
    "tags": []
   },
   "outputs": [
    {
     "data": {
      "text/html": [
       "<div>\n",
       "<style scoped>\n",
       "    .dataframe tbody tr th:only-of-type {\n",
       "        vertical-align: middle;\n",
       "    }\n",
       "\n",
       "    .dataframe tbody tr th {\n",
       "        vertical-align: top;\n",
       "    }\n",
       "\n",
       "    .dataframe thead th {\n",
       "        text-align: right;\n",
       "    }\n",
       "</style>\n",
       "<table border=\"1\" class=\"dataframe\">\n",
       "  <thead>\n",
       "    <tr style=\"text-align: right;\">\n",
       "      <th></th>\n",
       "      <th>hotel</th>\n",
       "      <th>is_canceled</th>\n",
       "      <th>lead_time</th>\n",
       "      <th>arrival_date_year</th>\n",
       "      <th>arrival_date_month</th>\n",
       "      <th>arrival_date_week_number</th>\n",
       "      <th>arrival_date_day_of_month</th>\n",
       "      <th>stays_in_weekend_nights</th>\n",
       "      <th>stays_in_week_nights</th>\n",
       "      <th>adults</th>\n",
       "      <th>children</th>\n",
       "      <th>babies</th>\n",
       "      <th>meal</th>\n",
       "      <th>country</th>\n",
       "      <th>market_segment</th>\n",
       "      <th>distribution_channel</th>\n",
       "      <th>is_repeated_guest</th>\n",
       "      <th>previous_cancellations</th>\n",
       "      <th>previous_bookings_not_canceled</th>\n",
       "      <th>reserved_room_type</th>\n",
       "      <th>assigned_room_type</th>\n",
       "      <th>booking_changes</th>\n",
       "      <th>deposit_type</th>\n",
       "      <th>agent</th>\n",
       "      <th>company</th>\n",
       "      <th>days_in_waiting_list</th>\n",
       "      <th>customer_type</th>\n",
       "      <th>adr</th>\n",
       "      <th>required_car_parking_spaces</th>\n",
       "      <th>total_of_special_requests</th>\n",
       "      <th>reservation_status</th>\n",
       "      <th>reservation_status_date</th>\n",
       "      <th>name</th>\n",
       "      <th>arrival_date</th>\n",
       "      <th>days_spent</th>\n",
       "      <th>total_spending</th>\n",
       "      <th>total_guests</th>\n",
       "    </tr>\n",
       "  </thead>\n",
       "  <tbody>\n",
       "    <tr>\n",
       "      <th>14969</th>\n",
       "      <td>Resort Hotel</td>\n",
       "      <td>0</td>\n",
       "      <td>195</td>\n",
       "      <td>2017</td>\n",
       "      <td>March</td>\n",
       "      <td>10</td>\n",
       "      <td>5</td>\n",
       "      <td>4</td>\n",
       "      <td>6</td>\n",
       "      <td>2</td>\n",
       "      <td>0</td>\n",
       "      <td>0</td>\n",
       "      <td>BB</td>\n",
       "      <td>GBR</td>\n",
       "      <td>Groups</td>\n",
       "      <td>Direct</td>\n",
       "      <td>1</td>\n",
       "      <td>0</td>\n",
       "      <td>2</td>\n",
       "      <td>A</td>\n",
       "      <td>H</td>\n",
       "      <td>2</td>\n",
       "      <td>No Deposit</td>\n",
       "      <td>273</td>\n",
       "      <td>0</td>\n",
       "      <td>0</td>\n",
       "      <td>Transient-Party</td>\n",
       "      <td>-6.38</td>\n",
       "      <td>0</td>\n",
       "      <td>0</td>\n",
       "      <td>Check-Out</td>\n",
       "      <td>2017-03-15</td>\n",
       "      <td>Chase Santos</td>\n",
       "      <td>2017-03-05</td>\n",
       "      <td>10</td>\n",
       "      <td>-63.8</td>\n",
       "      <td>2</td>\n",
       "    </tr>\n",
       "  </tbody>\n",
       "</table>\n",
       "</div>"
      ],
      "text/plain": [
       "              hotel is_canceled  lead_time  arrival_date_year  \\\n",
       "14969  Resort Hotel           0        195               2017   \n",
       "\n",
       "      arrival_date_month  arrival_date_week_number  arrival_date_day_of_month  \\\n",
       "14969              March                        10                          5   \n",
       "\n",
       "       stays_in_weekend_nights  stays_in_week_nights  adults  children  \\\n",
       "14969                        4                     6       2         0   \n",
       "\n",
       "       babies meal country market_segment distribution_channel  \\\n",
       "14969       0   BB     GBR         Groups               Direct   \n",
       "\n",
       "      is_repeated_guest  previous_cancellations  \\\n",
       "14969                 1                       0   \n",
       "\n",
       "       previous_bookings_not_canceled reserved_room_type assigned_room_type  \\\n",
       "14969                               2                  A                  H   \n",
       "\n",
       "       booking_changes deposit_type agent company  days_in_waiting_list  \\\n",
       "14969                2   No Deposit   273       0                     0   \n",
       "\n",
       "         customer_type   adr  required_car_parking_spaces  \\\n",
       "14969  Transient-Party -6.38                            0   \n",
       "\n",
       "       total_of_special_requests reservation_status reservation_status_date  \\\n",
       "14969                          0          Check-Out              2017-03-15   \n",
       "\n",
       "               name arrival_date  days_spent  total_spending  total_guests  \n",
       "14969  Chase Santos   2017-03-05          10           -63.8             2  "
      ]
     },
     "execution_count": 35,
     "metadata": {},
     "output_type": "execute_result"
    }
   ],
   "source": [
    "hotels_df.loc[hotels_df[\"total_spending\"]<0]"
   ]
  },
  {
   "cell_type": "code",
   "execution_count": 36,
   "id": "a96efc0a",
   "metadata": {
    "execution": {
     "iopub.execute_input": "2023-03-19T10:01:33.694564Z",
     "iopub.status.busy": "2023-03-19T10:01:33.693246Z",
     "iopub.status.idle": "2023-03-19T10:01:33.706181Z",
     "shell.execute_reply": "2023-03-19T10:01:33.705026Z"
    },
    "papermill": {
     "duration": 0.032238,
     "end_time": "2023-03-19T10:01:33.708579",
     "exception": false,
     "start_time": "2023-03-19T10:01:33.676341",
     "status": "completed"
    },
    "tags": []
   },
   "outputs": [
    {
     "data": {
      "text/plain": [
       "31765     10\n",
       "47444      6\n",
       "50701      6\n",
       "50702      6\n",
       "55809      8\n",
       "78586      3\n",
       "85931      8\n",
       "88439      6\n",
       "92814      7\n",
       "92962      2\n",
       "94769      4\n",
       "95544      4\n",
       "96648      9\n",
       "98492     13\n",
       "101399     2\n",
       "101401     4\n",
       "101794    57\n",
       "101957     4\n",
       "102008     3\n",
       "102185    11\n",
       "103714     3\n",
       "104145     7\n",
       "104516    14\n",
       "106562    15\n",
       "106833     3\n",
       "107594    11\n",
       "111406     1\n",
       "114583     5\n",
       "115029     3\n",
       "116251     2\n",
       "116534     7\n",
       "Name: days_spent, dtype: int64"
      ]
     },
     "execution_count": 36,
     "metadata": {},
     "output_type": "execute_result"
    }
   ],
   "source": [
    "xyz= hotels_df.loc[hotels_df[\"total_guests\"]==0]\n",
    "xyz.loc[xyz[\"total_spending\"]!=0][\"days_spent\"]"
   ]
  },
  {
   "cell_type": "code",
   "execution_count": 37,
   "id": "f75f6f18",
   "metadata": {
    "execution": {
     "iopub.execute_input": "2023-03-19T10:01:33.741062Z",
     "iopub.status.busy": "2023-03-19T10:01:33.740633Z",
     "iopub.status.idle": "2023-03-19T10:01:33.751016Z",
     "shell.execute_reply": "2023-03-19T10:01:33.749822Z"
    },
    "papermill": {
     "duration": 0.029575,
     "end_time": "2023-03-19T10:01:33.753377",
     "exception": false,
     "start_time": "2023-03-19T10:01:33.723802",
     "status": "completed"
    },
    "tags": []
   },
   "outputs": [
    {
     "data": {
      "text/plain": [
       "0         False\n",
       "1         False\n",
       "2         False\n",
       "3          True\n",
       "4          True\n",
       "          ...  \n",
       "119385     True\n",
       "119386     True\n",
       "119387     True\n",
       "119388     True\n",
       "119389     True\n",
       "Name: agent, Length: 119390, dtype: bool"
      ]
     },
     "execution_count": 37,
     "metadata": {},
     "output_type": "execute_result"
    }
   ],
   "source": [
    "hotels_df[\"agent\"]!= 0"
   ]
  },
  {
   "cell_type": "code",
   "execution_count": 38,
   "id": "5e10510b",
   "metadata": {
    "execution": {
     "iopub.execute_input": "2023-03-19T10:01:33.786210Z",
     "iopub.status.busy": "2023-03-19T10:01:33.785776Z",
     "iopub.status.idle": "2023-03-19T10:01:33.811370Z",
     "shell.execute_reply": "2023-03-19T10:01:33.810081Z"
    },
    "papermill": {
     "duration": 0.044905,
     "end_time": "2023-03-19T10:01:33.813752",
     "exception": false,
     "start_time": "2023-03-19T10:01:33.768847",
     "status": "completed"
    },
    "tags": []
   },
   "outputs": [
    {
     "data": {
      "text/plain": [
       "(103050, 37)"
      ]
     },
     "execution_count": 38,
     "metadata": {},
     "output_type": "execute_result"
    }
   ],
   "source": [
    "#find the top 10 agents\n",
    "\n",
    "agents_df= hotels_df.loc[hotels_df[\"agent\"]!= 0]\n",
    "\n",
    "agents_df.shape"
   ]
  },
  {
   "cell_type": "code",
   "execution_count": 39,
   "id": "c9ab2026",
   "metadata": {
    "execution": {
     "iopub.execute_input": "2023-03-19T10:01:33.846990Z",
     "iopub.status.busy": "2023-03-19T10:01:33.846552Z",
     "iopub.status.idle": "2023-03-19T10:01:33.899493Z",
     "shell.execute_reply": "2023-03-19T10:01:33.898181Z"
    },
    "papermill": {
     "duration": 0.072819,
     "end_time": "2023-03-19T10:01:33.902172",
     "exception": false,
     "start_time": "2023-03-19T10:01:33.829353",
     "status": "completed"
    },
    "tags": []
   },
   "outputs": [
    {
     "data": {
      "text/html": [
       "<div>\n",
       "<style scoped>\n",
       "    .dataframe tbody tr th:only-of-type {\n",
       "        vertical-align: middle;\n",
       "    }\n",
       "\n",
       "    .dataframe tbody tr th {\n",
       "        vertical-align: top;\n",
       "    }\n",
       "\n",
       "    .dataframe thead th {\n",
       "        text-align: right;\n",
       "    }\n",
       "</style>\n",
       "<table border=\"1\" class=\"dataframe\">\n",
       "  <thead>\n",
       "    <tr style=\"text-align: right;\">\n",
       "      <th></th>\n",
       "      <th>hotel</th>\n",
       "      <th>is_canceled</th>\n",
       "      <th>lead_time</th>\n",
       "      <th>arrival_date_year</th>\n",
       "      <th>arrival_date_month</th>\n",
       "      <th>arrival_date_week_number</th>\n",
       "      <th>arrival_date_day_of_month</th>\n",
       "      <th>stays_in_weekend_nights</th>\n",
       "      <th>stays_in_week_nights</th>\n",
       "      <th>adults</th>\n",
       "      <th>children</th>\n",
       "      <th>babies</th>\n",
       "      <th>meal</th>\n",
       "      <th>country</th>\n",
       "      <th>market_segment</th>\n",
       "      <th>distribution_channel</th>\n",
       "      <th>is_repeated_guest</th>\n",
       "      <th>previous_cancellations</th>\n",
       "      <th>previous_bookings_not_canceled</th>\n",
       "      <th>reserved_room_type</th>\n",
       "      <th>assigned_room_type</th>\n",
       "      <th>booking_changes</th>\n",
       "      <th>deposit_type</th>\n",
       "      <th>agent</th>\n",
       "      <th>company</th>\n",
       "      <th>days_in_waiting_list</th>\n",
       "      <th>customer_type</th>\n",
       "      <th>adr</th>\n",
       "      <th>required_car_parking_spaces</th>\n",
       "      <th>total_of_special_requests</th>\n",
       "      <th>reservation_status</th>\n",
       "      <th>reservation_status_date</th>\n",
       "      <th>name</th>\n",
       "      <th>arrival_date</th>\n",
       "      <th>days_spent</th>\n",
       "      <th>total_spending</th>\n",
       "      <th>total_guests</th>\n",
       "    </tr>\n",
       "  </thead>\n",
       "  <tbody>\n",
       "    <tr>\n",
       "      <th>3</th>\n",
       "      <td>Resort Hotel</td>\n",
       "      <td>0</td>\n",
       "      <td>13</td>\n",
       "      <td>2015</td>\n",
       "      <td>July</td>\n",
       "      <td>27</td>\n",
       "      <td>1</td>\n",
       "      <td>0</td>\n",
       "      <td>1</td>\n",
       "      <td>1</td>\n",
       "      <td>0</td>\n",
       "      <td>0</td>\n",
       "      <td>BB</td>\n",
       "      <td>GBR</td>\n",
       "      <td>Corporate</td>\n",
       "      <td>Corporate</td>\n",
       "      <td>0</td>\n",
       "      <td>0</td>\n",
       "      <td>0</td>\n",
       "      <td>A</td>\n",
       "      <td>A</td>\n",
       "      <td>0</td>\n",
       "      <td>No Deposit</td>\n",
       "      <td>304</td>\n",
       "      <td>0</td>\n",
       "      <td>0</td>\n",
       "      <td>Transient</td>\n",
       "      <td>75.00</td>\n",
       "      <td>0</td>\n",
       "      <td>0</td>\n",
       "      <td>Check-Out</td>\n",
       "      <td>2015-07-02</td>\n",
       "      <td>Laura Murray</td>\n",
       "      <td>2015-07-01</td>\n",
       "      <td>1</td>\n",
       "      <td>75.00</td>\n",
       "      <td>1</td>\n",
       "    </tr>\n",
       "    <tr>\n",
       "      <th>4</th>\n",
       "      <td>Resort Hotel</td>\n",
       "      <td>0</td>\n",
       "      <td>14</td>\n",
       "      <td>2015</td>\n",
       "      <td>July</td>\n",
       "      <td>27</td>\n",
       "      <td>1</td>\n",
       "      <td>0</td>\n",
       "      <td>2</td>\n",
       "      <td>2</td>\n",
       "      <td>0</td>\n",
       "      <td>0</td>\n",
       "      <td>BB</td>\n",
       "      <td>GBR</td>\n",
       "      <td>Online TA</td>\n",
       "      <td>TA/TO</td>\n",
       "      <td>0</td>\n",
       "      <td>0</td>\n",
       "      <td>0</td>\n",
       "      <td>A</td>\n",
       "      <td>A</td>\n",
       "      <td>0</td>\n",
       "      <td>No Deposit</td>\n",
       "      <td>240</td>\n",
       "      <td>0</td>\n",
       "      <td>0</td>\n",
       "      <td>Transient</td>\n",
       "      <td>98.00</td>\n",
       "      <td>0</td>\n",
       "      <td>1</td>\n",
       "      <td>Check-Out</td>\n",
       "      <td>2015-07-03</td>\n",
       "      <td>Linda Hines</td>\n",
       "      <td>2015-07-01</td>\n",
       "      <td>2</td>\n",
       "      <td>196.00</td>\n",
       "      <td>2</td>\n",
       "    </tr>\n",
       "    <tr>\n",
       "      <th>5</th>\n",
       "      <td>Resort Hotel</td>\n",
       "      <td>0</td>\n",
       "      <td>14</td>\n",
       "      <td>2015</td>\n",
       "      <td>July</td>\n",
       "      <td>27</td>\n",
       "      <td>1</td>\n",
       "      <td>0</td>\n",
       "      <td>2</td>\n",
       "      <td>2</td>\n",
       "      <td>0</td>\n",
       "      <td>0</td>\n",
       "      <td>BB</td>\n",
       "      <td>GBR</td>\n",
       "      <td>Online TA</td>\n",
       "      <td>TA/TO</td>\n",
       "      <td>0</td>\n",
       "      <td>0</td>\n",
       "      <td>0</td>\n",
       "      <td>A</td>\n",
       "      <td>A</td>\n",
       "      <td>0</td>\n",
       "      <td>No Deposit</td>\n",
       "      <td>240</td>\n",
       "      <td>0</td>\n",
       "      <td>0</td>\n",
       "      <td>Transient</td>\n",
       "      <td>98.00</td>\n",
       "      <td>0</td>\n",
       "      <td>1</td>\n",
       "      <td>Check-Out</td>\n",
       "      <td>2015-07-03</td>\n",
       "      <td>Jasmine Fletcher</td>\n",
       "      <td>2015-07-01</td>\n",
       "      <td>2</td>\n",
       "      <td>196.00</td>\n",
       "      <td>2</td>\n",
       "    </tr>\n",
       "    <tr>\n",
       "      <th>7</th>\n",
       "      <td>Resort Hotel</td>\n",
       "      <td>0</td>\n",
       "      <td>9</td>\n",
       "      <td>2015</td>\n",
       "      <td>July</td>\n",
       "      <td>27</td>\n",
       "      <td>1</td>\n",
       "      <td>0</td>\n",
       "      <td>2</td>\n",
       "      <td>2</td>\n",
       "      <td>0</td>\n",
       "      <td>0</td>\n",
       "      <td>FB</td>\n",
       "      <td>PRT</td>\n",
       "      <td>Direct</td>\n",
       "      <td>Direct</td>\n",
       "      <td>0</td>\n",
       "      <td>0</td>\n",
       "      <td>0</td>\n",
       "      <td>C</td>\n",
       "      <td>C</td>\n",
       "      <td>0</td>\n",
       "      <td>No Deposit</td>\n",
       "      <td>303</td>\n",
       "      <td>0</td>\n",
       "      <td>0</td>\n",
       "      <td>Transient</td>\n",
       "      <td>103.00</td>\n",
       "      <td>0</td>\n",
       "      <td>1</td>\n",
       "      <td>Check-Out</td>\n",
       "      <td>2015-07-03</td>\n",
       "      <td>William Velez</td>\n",
       "      <td>2015-07-01</td>\n",
       "      <td>2</td>\n",
       "      <td>206.00</td>\n",
       "      <td>2</td>\n",
       "    </tr>\n",
       "    <tr>\n",
       "      <th>8</th>\n",
       "      <td>Resort Hotel</td>\n",
       "      <td>1</td>\n",
       "      <td>85</td>\n",
       "      <td>2015</td>\n",
       "      <td>July</td>\n",
       "      <td>27</td>\n",
       "      <td>1</td>\n",
       "      <td>0</td>\n",
       "      <td>3</td>\n",
       "      <td>2</td>\n",
       "      <td>0</td>\n",
       "      <td>0</td>\n",
       "      <td>BB</td>\n",
       "      <td>PRT</td>\n",
       "      <td>Online TA</td>\n",
       "      <td>TA/TO</td>\n",
       "      <td>0</td>\n",
       "      <td>0</td>\n",
       "      <td>0</td>\n",
       "      <td>A</td>\n",
       "      <td>A</td>\n",
       "      <td>0</td>\n",
       "      <td>No Deposit</td>\n",
       "      <td>240</td>\n",
       "      <td>0</td>\n",
       "      <td>0</td>\n",
       "      <td>Transient</td>\n",
       "      <td>82.00</td>\n",
       "      <td>0</td>\n",
       "      <td>1</td>\n",
       "      <td>Canceled</td>\n",
       "      <td>2015-05-06</td>\n",
       "      <td>Steven Murphy</td>\n",
       "      <td>2015-07-01</td>\n",
       "      <td>3</td>\n",
       "      <td>246.00</td>\n",
       "      <td>2</td>\n",
       "    </tr>\n",
       "    <tr>\n",
       "      <th>...</th>\n",
       "      <td>...</td>\n",
       "      <td>...</td>\n",
       "      <td>...</td>\n",
       "      <td>...</td>\n",
       "      <td>...</td>\n",
       "      <td>...</td>\n",
       "      <td>...</td>\n",
       "      <td>...</td>\n",
       "      <td>...</td>\n",
       "      <td>...</td>\n",
       "      <td>...</td>\n",
       "      <td>...</td>\n",
       "      <td>...</td>\n",
       "      <td>...</td>\n",
       "      <td>...</td>\n",
       "      <td>...</td>\n",
       "      <td>...</td>\n",
       "      <td>...</td>\n",
       "      <td>...</td>\n",
       "      <td>...</td>\n",
       "      <td>...</td>\n",
       "      <td>...</td>\n",
       "      <td>...</td>\n",
       "      <td>...</td>\n",
       "      <td>...</td>\n",
       "      <td>...</td>\n",
       "      <td>...</td>\n",
       "      <td>...</td>\n",
       "      <td>...</td>\n",
       "      <td>...</td>\n",
       "      <td>...</td>\n",
       "      <td>...</td>\n",
       "      <td>...</td>\n",
       "      <td>...</td>\n",
       "      <td>...</td>\n",
       "      <td>...</td>\n",
       "      <td>...</td>\n",
       "    </tr>\n",
       "    <tr>\n",
       "      <th>119385</th>\n",
       "      <td>City Hotel</td>\n",
       "      <td>0</td>\n",
       "      <td>23</td>\n",
       "      <td>2017</td>\n",
       "      <td>August</td>\n",
       "      <td>35</td>\n",
       "      <td>30</td>\n",
       "      <td>2</td>\n",
       "      <td>5</td>\n",
       "      <td>2</td>\n",
       "      <td>0</td>\n",
       "      <td>0</td>\n",
       "      <td>BB</td>\n",
       "      <td>BEL</td>\n",
       "      <td>Offline TA/TO</td>\n",
       "      <td>TA/TO</td>\n",
       "      <td>0</td>\n",
       "      <td>0</td>\n",
       "      <td>0</td>\n",
       "      <td>A</td>\n",
       "      <td>A</td>\n",
       "      <td>0</td>\n",
       "      <td>No Deposit</td>\n",
       "      <td>394</td>\n",
       "      <td>0</td>\n",
       "      <td>0</td>\n",
       "      <td>Transient</td>\n",
       "      <td>96.14</td>\n",
       "      <td>0</td>\n",
       "      <td>0</td>\n",
       "      <td>Check-Out</td>\n",
       "      <td>2017-09-06</td>\n",
       "      <td>Claudia Johnson</td>\n",
       "      <td>2017-08-30</td>\n",
       "      <td>7</td>\n",
       "      <td>672.98</td>\n",
       "      <td>2</td>\n",
       "    </tr>\n",
       "    <tr>\n",
       "      <th>119386</th>\n",
       "      <td>City Hotel</td>\n",
       "      <td>0</td>\n",
       "      <td>102</td>\n",
       "      <td>2017</td>\n",
       "      <td>August</td>\n",
       "      <td>35</td>\n",
       "      <td>31</td>\n",
       "      <td>2</td>\n",
       "      <td>5</td>\n",
       "      <td>3</td>\n",
       "      <td>0</td>\n",
       "      <td>0</td>\n",
       "      <td>BB</td>\n",
       "      <td>FRA</td>\n",
       "      <td>Online TA</td>\n",
       "      <td>TA/TO</td>\n",
       "      <td>0</td>\n",
       "      <td>0</td>\n",
       "      <td>0</td>\n",
       "      <td>E</td>\n",
       "      <td>E</td>\n",
       "      <td>0</td>\n",
       "      <td>No Deposit</td>\n",
       "      <td>9</td>\n",
       "      <td>0</td>\n",
       "      <td>0</td>\n",
       "      <td>Transient</td>\n",
       "      <td>225.43</td>\n",
       "      <td>0</td>\n",
       "      <td>2</td>\n",
       "      <td>Check-Out</td>\n",
       "      <td>2017-09-07</td>\n",
       "      <td>Wesley Aguilar</td>\n",
       "      <td>2017-08-31</td>\n",
       "      <td>7</td>\n",
       "      <td>1578.01</td>\n",
       "      <td>3</td>\n",
       "    </tr>\n",
       "    <tr>\n",
       "      <th>119387</th>\n",
       "      <td>City Hotel</td>\n",
       "      <td>0</td>\n",
       "      <td>34</td>\n",
       "      <td>2017</td>\n",
       "      <td>August</td>\n",
       "      <td>35</td>\n",
       "      <td>31</td>\n",
       "      <td>2</td>\n",
       "      <td>5</td>\n",
       "      <td>2</td>\n",
       "      <td>0</td>\n",
       "      <td>0</td>\n",
       "      <td>BB</td>\n",
       "      <td>DEU</td>\n",
       "      <td>Online TA</td>\n",
       "      <td>TA/TO</td>\n",
       "      <td>0</td>\n",
       "      <td>0</td>\n",
       "      <td>0</td>\n",
       "      <td>D</td>\n",
       "      <td>D</td>\n",
       "      <td>0</td>\n",
       "      <td>No Deposit</td>\n",
       "      <td>9</td>\n",
       "      <td>0</td>\n",
       "      <td>0</td>\n",
       "      <td>Transient</td>\n",
       "      <td>157.71</td>\n",
       "      <td>0</td>\n",
       "      <td>4</td>\n",
       "      <td>Check-Out</td>\n",
       "      <td>2017-09-07</td>\n",
       "      <td>Mary Morales</td>\n",
       "      <td>2017-08-31</td>\n",
       "      <td>7</td>\n",
       "      <td>1103.97</td>\n",
       "      <td>2</td>\n",
       "    </tr>\n",
       "    <tr>\n",
       "      <th>119388</th>\n",
       "      <td>City Hotel</td>\n",
       "      <td>0</td>\n",
       "      <td>109</td>\n",
       "      <td>2017</td>\n",
       "      <td>August</td>\n",
       "      <td>35</td>\n",
       "      <td>31</td>\n",
       "      <td>2</td>\n",
       "      <td>5</td>\n",
       "      <td>2</td>\n",
       "      <td>0</td>\n",
       "      <td>0</td>\n",
       "      <td>BB</td>\n",
       "      <td>GBR</td>\n",
       "      <td>Online TA</td>\n",
       "      <td>TA/TO</td>\n",
       "      <td>0</td>\n",
       "      <td>0</td>\n",
       "      <td>0</td>\n",
       "      <td>A</td>\n",
       "      <td>A</td>\n",
       "      <td>0</td>\n",
       "      <td>No Deposit</td>\n",
       "      <td>89</td>\n",
       "      <td>0</td>\n",
       "      <td>0</td>\n",
       "      <td>Transient</td>\n",
       "      <td>104.40</td>\n",
       "      <td>0</td>\n",
       "      <td>0</td>\n",
       "      <td>Check-Out</td>\n",
       "      <td>2017-09-07</td>\n",
       "      <td>Caroline Conley MD</td>\n",
       "      <td>2017-08-31</td>\n",
       "      <td>7</td>\n",
       "      <td>730.80</td>\n",
       "      <td>2</td>\n",
       "    </tr>\n",
       "    <tr>\n",
       "      <th>119389</th>\n",
       "      <td>City Hotel</td>\n",
       "      <td>0</td>\n",
       "      <td>205</td>\n",
       "      <td>2017</td>\n",
       "      <td>August</td>\n",
       "      <td>35</td>\n",
       "      <td>29</td>\n",
       "      <td>2</td>\n",
       "      <td>7</td>\n",
       "      <td>2</td>\n",
       "      <td>0</td>\n",
       "      <td>0</td>\n",
       "      <td>HB</td>\n",
       "      <td>DEU</td>\n",
       "      <td>Online TA</td>\n",
       "      <td>TA/TO</td>\n",
       "      <td>0</td>\n",
       "      <td>0</td>\n",
       "      <td>0</td>\n",
       "      <td>A</td>\n",
       "      <td>A</td>\n",
       "      <td>0</td>\n",
       "      <td>No Deposit</td>\n",
       "      <td>9</td>\n",
       "      <td>0</td>\n",
       "      <td>0</td>\n",
       "      <td>Transient</td>\n",
       "      <td>151.20</td>\n",
       "      <td>0</td>\n",
       "      <td>2</td>\n",
       "      <td>Check-Out</td>\n",
       "      <td>2017-09-07</td>\n",
       "      <td>Ariana Michael</td>\n",
       "      <td>2017-08-29</td>\n",
       "      <td>9</td>\n",
       "      <td>1360.80</td>\n",
       "      <td>2</td>\n",
       "    </tr>\n",
       "  </tbody>\n",
       "</table>\n",
       "<p>103050 rows × 37 columns</p>\n",
       "</div>"
      ],
      "text/plain": [
       "               hotel is_canceled  lead_time  arrival_date_year  \\\n",
       "3       Resort Hotel           0         13               2015   \n",
       "4       Resort Hotel           0         14               2015   \n",
       "5       Resort Hotel           0         14               2015   \n",
       "7       Resort Hotel           0          9               2015   \n",
       "8       Resort Hotel           1         85               2015   \n",
       "...              ...         ...        ...                ...   \n",
       "119385    City Hotel           0         23               2017   \n",
       "119386    City Hotel           0        102               2017   \n",
       "119387    City Hotel           0         34               2017   \n",
       "119388    City Hotel           0        109               2017   \n",
       "119389    City Hotel           0        205               2017   \n",
       "\n",
       "       arrival_date_month  arrival_date_week_number  \\\n",
       "3                    July                        27   \n",
       "4                    July                        27   \n",
       "5                    July                        27   \n",
       "7                    July                        27   \n",
       "8                    July                        27   \n",
       "...                   ...                       ...   \n",
       "119385             August                        35   \n",
       "119386             August                        35   \n",
       "119387             August                        35   \n",
       "119388             August                        35   \n",
       "119389             August                        35   \n",
       "\n",
       "        arrival_date_day_of_month  stays_in_weekend_nights  \\\n",
       "3                               1                        0   \n",
       "4                               1                        0   \n",
       "5                               1                        0   \n",
       "7                               1                        0   \n",
       "8                               1                        0   \n",
       "...                           ...                      ...   \n",
       "119385                         30                        2   \n",
       "119386                         31                        2   \n",
       "119387                         31                        2   \n",
       "119388                         31                        2   \n",
       "119389                         29                        2   \n",
       "\n",
       "        stays_in_week_nights  adults  children  babies meal country  \\\n",
       "3                          1       1         0       0   BB     GBR   \n",
       "4                          2       2         0       0   BB     GBR   \n",
       "5                          2       2         0       0   BB     GBR   \n",
       "7                          2       2         0       0   FB     PRT   \n",
       "8                          3       2         0       0   BB     PRT   \n",
       "...                      ...     ...       ...     ...  ...     ...   \n",
       "119385                     5       2         0       0   BB     BEL   \n",
       "119386                     5       3         0       0   BB     FRA   \n",
       "119387                     5       2         0       0   BB     DEU   \n",
       "119388                     5       2         0       0   BB     GBR   \n",
       "119389                     7       2         0       0   HB     DEU   \n",
       "\n",
       "       market_segment distribution_channel is_repeated_guest  \\\n",
       "3           Corporate            Corporate                 0   \n",
       "4           Online TA                TA/TO                 0   \n",
       "5           Online TA                TA/TO                 0   \n",
       "7              Direct               Direct                 0   \n",
       "8           Online TA                TA/TO                 0   \n",
       "...               ...                  ...               ...   \n",
       "119385  Offline TA/TO                TA/TO                 0   \n",
       "119386      Online TA                TA/TO                 0   \n",
       "119387      Online TA                TA/TO                 0   \n",
       "119388      Online TA                TA/TO                 0   \n",
       "119389      Online TA                TA/TO                 0   \n",
       "\n",
       "        previous_cancellations  previous_bookings_not_canceled  \\\n",
       "3                            0                               0   \n",
       "4                            0                               0   \n",
       "5                            0                               0   \n",
       "7                            0                               0   \n",
       "8                            0                               0   \n",
       "...                        ...                             ...   \n",
       "119385                       0                               0   \n",
       "119386                       0                               0   \n",
       "119387                       0                               0   \n",
       "119388                       0                               0   \n",
       "119389                       0                               0   \n",
       "\n",
       "       reserved_room_type assigned_room_type  booking_changes deposit_type  \\\n",
       "3                       A                  A                0   No Deposit   \n",
       "4                       A                  A                0   No Deposit   \n",
       "5                       A                  A                0   No Deposit   \n",
       "7                       C                  C                0   No Deposit   \n",
       "8                       A                  A                0   No Deposit   \n",
       "...                   ...                ...              ...          ...   \n",
       "119385                  A                  A                0   No Deposit   \n",
       "119386                  E                  E                0   No Deposit   \n",
       "119387                  D                  D                0   No Deposit   \n",
       "119388                  A                  A                0   No Deposit   \n",
       "119389                  A                  A                0   No Deposit   \n",
       "\n",
       "       agent company  days_in_waiting_list customer_type     adr  \\\n",
       "3        304       0                     0     Transient   75.00   \n",
       "4        240       0                     0     Transient   98.00   \n",
       "5        240       0                     0     Transient   98.00   \n",
       "7        303       0                     0     Transient  103.00   \n",
       "8        240       0                     0     Transient   82.00   \n",
       "...      ...     ...                   ...           ...     ...   \n",
       "119385   394       0                     0     Transient   96.14   \n",
       "119386     9       0                     0     Transient  225.43   \n",
       "119387     9       0                     0     Transient  157.71   \n",
       "119388    89       0                     0     Transient  104.40   \n",
       "119389     9       0                     0     Transient  151.20   \n",
       "\n",
       "        required_car_parking_spaces  total_of_special_requests  \\\n",
       "3                                 0                          0   \n",
       "4                                 0                          1   \n",
       "5                                 0                          1   \n",
       "7                                 0                          1   \n",
       "8                                 0                          1   \n",
       "...                             ...                        ...   \n",
       "119385                            0                          0   \n",
       "119386                            0                          2   \n",
       "119387                            0                          4   \n",
       "119388                            0                          0   \n",
       "119389                            0                          2   \n",
       "\n",
       "       reservation_status reservation_status_date                name  \\\n",
       "3               Check-Out              2015-07-02        Laura Murray   \n",
       "4               Check-Out              2015-07-03         Linda Hines   \n",
       "5               Check-Out              2015-07-03    Jasmine Fletcher   \n",
       "7               Check-Out              2015-07-03       William Velez   \n",
       "8                Canceled              2015-05-06       Steven Murphy   \n",
       "...                   ...                     ...                 ...   \n",
       "119385          Check-Out              2017-09-06     Claudia Johnson   \n",
       "119386          Check-Out              2017-09-07      Wesley Aguilar   \n",
       "119387          Check-Out              2017-09-07        Mary Morales   \n",
       "119388          Check-Out              2017-09-07  Caroline Conley MD   \n",
       "119389          Check-Out              2017-09-07      Ariana Michael   \n",
       "\n",
       "       arrival_date  days_spent  total_spending  total_guests  \n",
       "3        2015-07-01           1           75.00             1  \n",
       "4        2015-07-01           2          196.00             2  \n",
       "5        2015-07-01           2          196.00             2  \n",
       "7        2015-07-01           2          206.00             2  \n",
       "8        2015-07-01           3          246.00             2  \n",
       "...             ...         ...             ...           ...  \n",
       "119385   2017-08-30           7          672.98             2  \n",
       "119386   2017-08-31           7         1578.01             3  \n",
       "119387   2017-08-31           7         1103.97             2  \n",
       "119388   2017-08-31           7          730.80             2  \n",
       "119389   2017-08-29           9         1360.80             2  \n",
       "\n",
       "[103050 rows x 37 columns]"
      ]
     },
     "execution_count": 39,
     "metadata": {},
     "output_type": "execute_result"
    }
   ],
   "source": [
    "agents_df"
   ]
  },
  {
   "cell_type": "code",
   "execution_count": null,
   "id": "b62f1eaa",
   "metadata": {
    "papermill": {
     "duration": 0.016317,
     "end_time": "2023-03-19T10:01:33.935764",
     "exception": false,
     "start_time": "2023-03-19T10:01:33.919447",
     "status": "completed"
    },
    "tags": []
   },
   "outputs": [],
   "source": []
  },
  {
   "cell_type": "markdown",
   "id": "1dc4536e",
   "metadata": {
    "papermill": {
     "duration": 0.016054,
     "end_time": "2023-03-19T10:01:33.968571",
     "exception": false,
     "start_time": "2023-03-19T10:01:33.952517",
     "status": "completed"
    },
    "tags": []
   },
   "source": []
  },
  {
   "cell_type": "code",
   "execution_count": 40,
   "id": "691c7191",
   "metadata": {
    "execution": {
     "iopub.execute_input": "2023-03-19T10:01:34.003506Z",
     "iopub.status.busy": "2023-03-19T10:01:34.003072Z",
     "iopub.status.idle": "2023-03-19T10:01:34.024541Z",
     "shell.execute_reply": "2023-03-19T10:01:34.023360Z"
    },
    "papermill": {
     "duration": 0.041967,
     "end_time": "2023-03-19T10:01:34.026977",
     "exception": false,
     "start_time": "2023-03-19T10:01:33.985010",
     "status": "completed"
    },
    "tags": []
   },
   "outputs": [
    {
     "data": {
      "text/html": [
       "<div>\n",
       "<style scoped>\n",
       "    .dataframe tbody tr th:only-of-type {\n",
       "        vertical-align: middle;\n",
       "    }\n",
       "\n",
       "    .dataframe tbody tr th {\n",
       "        vertical-align: top;\n",
       "    }\n",
       "\n",
       "    .dataframe thead th {\n",
       "        text-align: right;\n",
       "    }\n",
       "</style>\n",
       "<table border=\"1\" class=\"dataframe\">\n",
       "  <thead>\n",
       "    <tr style=\"text-align: right;\">\n",
       "      <th></th>\n",
       "      <th>arrival_date_month</th>\n",
       "      <th>hotel</th>\n",
       "    </tr>\n",
       "  </thead>\n",
       "  <tbody>\n",
       "    <tr>\n",
       "      <th>0</th>\n",
       "      <td>January</td>\n",
       "      <td>5929</td>\n",
       "    </tr>\n",
       "    <tr>\n",
       "      <th>1</th>\n",
       "      <td>February</td>\n",
       "      <td>8068</td>\n",
       "    </tr>\n",
       "    <tr>\n",
       "      <th>2</th>\n",
       "      <td>March</td>\n",
       "      <td>9794</td>\n",
       "    </tr>\n",
       "    <tr>\n",
       "      <th>3</th>\n",
       "      <td>April</td>\n",
       "      <td>11089</td>\n",
       "    </tr>\n",
       "    <tr>\n",
       "      <th>4</th>\n",
       "      <td>May</td>\n",
       "      <td>11791</td>\n",
       "    </tr>\n",
       "    <tr>\n",
       "      <th>5</th>\n",
       "      <td>June</td>\n",
       "      <td>10939</td>\n",
       "    </tr>\n",
       "    <tr>\n",
       "      <th>6</th>\n",
       "      <td>July</td>\n",
       "      <td>12661</td>\n",
       "    </tr>\n",
       "    <tr>\n",
       "      <th>7</th>\n",
       "      <td>August</td>\n",
       "      <td>13877</td>\n",
       "    </tr>\n",
       "    <tr>\n",
       "      <th>8</th>\n",
       "      <td>September</td>\n",
       "      <td>10508</td>\n",
       "    </tr>\n",
       "    <tr>\n",
       "      <th>9</th>\n",
       "      <td>October</td>\n",
       "      <td>11160</td>\n",
       "    </tr>\n",
       "    <tr>\n",
       "      <th>10</th>\n",
       "      <td>November</td>\n",
       "      <td>6794</td>\n",
       "    </tr>\n",
       "    <tr>\n",
       "      <th>11</th>\n",
       "      <td>December</td>\n",
       "      <td>6780</td>\n",
       "    </tr>\n",
       "  </tbody>\n",
       "</table>\n",
       "</div>"
      ],
      "text/plain": [
       "   arrival_date_month  hotel\n",
       "0             January   5929\n",
       "1            February   8068\n",
       "2               March   9794\n",
       "3               April  11089\n",
       "4                 May  11791\n",
       "5                June  10939\n",
       "6                July  12661\n",
       "7              August  13877\n",
       "8           September  10508\n",
       "9             October  11160\n",
       "10           November   6794\n",
       "11           December   6780"
      ]
     },
     "execution_count": 40,
     "metadata": {},
     "output_type": "execute_result"
    }
   ],
   "source": [
    "#booking by month\n",
    "booking_by_month = hotels_df.groupby('arrival_date_month',as_index=False)[['hotel']].count()\n",
    "booking_by_month"
   ]
  },
  {
   "cell_type": "code",
   "execution_count": 41,
   "id": "6613b372",
   "metadata": {
    "execution": {
     "iopub.execute_input": "2023-03-19T10:01:34.062467Z",
     "iopub.status.busy": "2023-03-19T10:01:34.061645Z",
     "iopub.status.idle": "2023-03-19T10:01:34.073488Z",
     "shell.execute_reply": "2023-03-19T10:01:34.072366Z"
    },
    "papermill": {
     "duration": 0.032304,
     "end_time": "2023-03-19T10:01:34.076007",
     "exception": false,
     "start_time": "2023-03-19T10:01:34.043703",
     "status": "completed"
    },
    "tags": []
   },
   "outputs": [
    {
     "data": {
      "text/html": [
       "<div>\n",
       "<style scoped>\n",
       "    .dataframe tbody tr th:only-of-type {\n",
       "        vertical-align: middle;\n",
       "    }\n",
       "\n",
       "    .dataframe tbody tr th {\n",
       "        vertical-align: top;\n",
       "    }\n",
       "\n",
       "    .dataframe thead th {\n",
       "        text-align: right;\n",
       "    }\n",
       "</style>\n",
       "<table border=\"1\" class=\"dataframe\">\n",
       "  <thead>\n",
       "    <tr style=\"text-align: right;\">\n",
       "      <th></th>\n",
       "      <th>arrival_date_month</th>\n",
       "      <th>no_of_booking</th>\n",
       "    </tr>\n",
       "  </thead>\n",
       "  <tbody>\n",
       "    <tr>\n",
       "      <th>0</th>\n",
       "      <td>January</td>\n",
       "      <td>5929</td>\n",
       "    </tr>\n",
       "    <tr>\n",
       "      <th>1</th>\n",
       "      <td>February</td>\n",
       "      <td>8068</td>\n",
       "    </tr>\n",
       "    <tr>\n",
       "      <th>2</th>\n",
       "      <td>March</td>\n",
       "      <td>9794</td>\n",
       "    </tr>\n",
       "    <tr>\n",
       "      <th>3</th>\n",
       "      <td>April</td>\n",
       "      <td>11089</td>\n",
       "    </tr>\n",
       "    <tr>\n",
       "      <th>4</th>\n",
       "      <td>May</td>\n",
       "      <td>11791</td>\n",
       "    </tr>\n",
       "    <tr>\n",
       "      <th>5</th>\n",
       "      <td>June</td>\n",
       "      <td>10939</td>\n",
       "    </tr>\n",
       "    <tr>\n",
       "      <th>6</th>\n",
       "      <td>July</td>\n",
       "      <td>12661</td>\n",
       "    </tr>\n",
       "    <tr>\n",
       "      <th>7</th>\n",
       "      <td>August</td>\n",
       "      <td>13877</td>\n",
       "    </tr>\n",
       "    <tr>\n",
       "      <th>8</th>\n",
       "      <td>September</td>\n",
       "      <td>10508</td>\n",
       "    </tr>\n",
       "    <tr>\n",
       "      <th>9</th>\n",
       "      <td>October</td>\n",
       "      <td>11160</td>\n",
       "    </tr>\n",
       "    <tr>\n",
       "      <th>10</th>\n",
       "      <td>November</td>\n",
       "      <td>6794</td>\n",
       "    </tr>\n",
       "    <tr>\n",
       "      <th>11</th>\n",
       "      <td>December</td>\n",
       "      <td>6780</td>\n",
       "    </tr>\n",
       "  </tbody>\n",
       "</table>\n",
       "</div>"
      ],
      "text/plain": [
       "   arrival_date_month  no_of_booking\n",
       "0             January           5929\n",
       "1            February           8068\n",
       "2               March           9794\n",
       "3               April          11089\n",
       "4                 May          11791\n",
       "5                June          10939\n",
       "6                July          12661\n",
       "7              August          13877\n",
       "8           September          10508\n",
       "9             October          11160\n",
       "10           November           6794\n",
       "11           December           6780"
      ]
     },
     "execution_count": 41,
     "metadata": {},
     "output_type": "execute_result"
    }
   ],
   "source": [
    "booking_by_month.rename(columns={\"hotel\":\"no_of_booking\"})"
   ]
  },
  {
   "cell_type": "code",
   "execution_count": 42,
   "id": "a393719b",
   "metadata": {
    "execution": {
     "iopub.execute_input": "2023-03-19T10:01:34.112510Z",
     "iopub.status.busy": "2023-03-19T10:01:34.112090Z",
     "iopub.status.idle": "2023-03-19T10:01:35.928140Z",
     "shell.execute_reply": "2023-03-19T10:01:35.926873Z"
    },
    "papermill": {
     "duration": 1.837822,
     "end_time": "2023-03-19T10:01:35.931241",
     "exception": false,
     "start_time": "2023-03-19T10:01:34.093419",
     "status": "completed"
    },
    "tags": []
   },
   "outputs": [
    {
     "data": {
      "text/html": [
       "        <script type=\"text/javascript\">\n",
       "        window.PlotlyConfig = {MathJaxConfig: 'local'};\n",
       "        if (window.MathJax && window.MathJax.Hub && window.MathJax.Hub.Config) {window.MathJax.Hub.Config({SVG: {font: \"STIX-Web\"}});}\n",
       "        if (typeof require !== 'undefined') {\n",
       "        require.undef(\"plotly\");\n",
       "        requirejs.config({\n",
       "            paths: {\n",
       "                'plotly': ['https://cdn.plot.ly/plotly-2.18.0.min']\n",
       "            }\n",
       "        });\n",
       "        require(['plotly'], function(Plotly) {\n",
       "            window._Plotly = Plotly;\n",
       "        });\n",
       "        }\n",
       "        </script>\n",
       "        "
      ]
     },
     "metadata": {},
     "output_type": "display_data"
    },
    {
     "data": {
      "application/vnd.plotly.v1+json": {
       "config": {
        "displayModeBar": true,
        "plotlyServerURL": "https://plot.ly"
       },
       "data": [
        {
         "alignmentgroup": "True",
         "hovertemplate": "arrival_date_month=%{x}<br>no_of_booking=%{y}<extra></extra>",
         "legendgroup": "January",
         "marker": {
          "color": "#636efa",
          "pattern": {
           "shape": ""
          }
         },
         "name": "January",
         "offsetgroup": "January",
         "orientation": "v",
         "showlegend": true,
         "textposition": "auto",
         "type": "bar",
         "x": [
          "January"
         ],
         "xaxis": "x",
         "y": [
          5929
         ],
         "yaxis": "y"
        },
        {
         "alignmentgroup": "True",
         "hovertemplate": "arrival_date_month=%{x}<br>no_of_booking=%{y}<extra></extra>",
         "legendgroup": "February",
         "marker": {
          "color": "#EF553B",
          "pattern": {
           "shape": ""
          }
         },
         "name": "February",
         "offsetgroup": "February",
         "orientation": "v",
         "showlegend": true,
         "textposition": "auto",
         "type": "bar",
         "x": [
          "February"
         ],
         "xaxis": "x",
         "y": [
          8068
         ],
         "yaxis": "y"
        },
        {
         "alignmentgroup": "True",
         "hovertemplate": "arrival_date_month=%{x}<br>no_of_booking=%{y}<extra></extra>",
         "legendgroup": "March",
         "marker": {
          "color": "#00cc96",
          "pattern": {
           "shape": ""
          }
         },
         "name": "March",
         "offsetgroup": "March",
         "orientation": "v",
         "showlegend": true,
         "textposition": "auto",
         "type": "bar",
         "x": [
          "March"
         ],
         "xaxis": "x",
         "y": [
          9794
         ],
         "yaxis": "y"
        },
        {
         "alignmentgroup": "True",
         "hovertemplate": "arrival_date_month=%{x}<br>no_of_booking=%{y}<extra></extra>",
         "legendgroup": "April",
         "marker": {
          "color": "#ab63fa",
          "pattern": {
           "shape": ""
          }
         },
         "name": "April",
         "offsetgroup": "April",
         "orientation": "v",
         "showlegend": true,
         "textposition": "auto",
         "type": "bar",
         "x": [
          "April"
         ],
         "xaxis": "x",
         "y": [
          11089
         ],
         "yaxis": "y"
        },
        {
         "alignmentgroup": "True",
         "hovertemplate": "arrival_date_month=%{x}<br>no_of_booking=%{y}<extra></extra>",
         "legendgroup": "May",
         "marker": {
          "color": "#FFA15A",
          "pattern": {
           "shape": ""
          }
         },
         "name": "May",
         "offsetgroup": "May",
         "orientation": "v",
         "showlegend": true,
         "textposition": "auto",
         "type": "bar",
         "x": [
          "May"
         ],
         "xaxis": "x",
         "y": [
          11791
         ],
         "yaxis": "y"
        },
        {
         "alignmentgroup": "True",
         "hovertemplate": "arrival_date_month=%{x}<br>no_of_booking=%{y}<extra></extra>",
         "legendgroup": "June",
         "marker": {
          "color": "#19d3f3",
          "pattern": {
           "shape": ""
          }
         },
         "name": "June",
         "offsetgroup": "June",
         "orientation": "v",
         "showlegend": true,
         "textposition": "auto",
         "type": "bar",
         "x": [
          "June"
         ],
         "xaxis": "x",
         "y": [
          10939
         ],
         "yaxis": "y"
        },
        {
         "alignmentgroup": "True",
         "hovertemplate": "arrival_date_month=%{x}<br>no_of_booking=%{y}<extra></extra>",
         "legendgroup": "July",
         "marker": {
          "color": "#FF6692",
          "pattern": {
           "shape": ""
          }
         },
         "name": "July",
         "offsetgroup": "July",
         "orientation": "v",
         "showlegend": true,
         "textposition": "auto",
         "type": "bar",
         "x": [
          "July"
         ],
         "xaxis": "x",
         "y": [
          12661
         ],
         "yaxis": "y"
        },
        {
         "alignmentgroup": "True",
         "hovertemplate": "arrival_date_month=%{x}<br>no_of_booking=%{y}<extra></extra>",
         "legendgroup": "August",
         "marker": {
          "color": "#B6E880",
          "pattern": {
           "shape": ""
          }
         },
         "name": "August",
         "offsetgroup": "August",
         "orientation": "v",
         "showlegend": true,
         "textposition": "auto",
         "type": "bar",
         "x": [
          "August"
         ],
         "xaxis": "x",
         "y": [
          13877
         ],
         "yaxis": "y"
        },
        {
         "alignmentgroup": "True",
         "hovertemplate": "arrival_date_month=%{x}<br>no_of_booking=%{y}<extra></extra>",
         "legendgroup": "September",
         "marker": {
          "color": "#FF97FF",
          "pattern": {
           "shape": ""
          }
         },
         "name": "September",
         "offsetgroup": "September",
         "orientation": "v",
         "showlegend": true,
         "textposition": "auto",
         "type": "bar",
         "x": [
          "September"
         ],
         "xaxis": "x",
         "y": [
          10508
         ],
         "yaxis": "y"
        },
        {
         "alignmentgroup": "True",
         "hovertemplate": "arrival_date_month=%{x}<br>no_of_booking=%{y}<extra></extra>",
         "legendgroup": "October",
         "marker": {
          "color": "#FECB52",
          "pattern": {
           "shape": ""
          }
         },
         "name": "October",
         "offsetgroup": "October",
         "orientation": "v",
         "showlegend": true,
         "textposition": "auto",
         "type": "bar",
         "x": [
          "October"
         ],
         "xaxis": "x",
         "y": [
          11160
         ],
         "yaxis": "y"
        },
        {
         "alignmentgroup": "True",
         "hovertemplate": "arrival_date_month=%{x}<br>no_of_booking=%{y}<extra></extra>",
         "legendgroup": "November",
         "marker": {
          "color": "#636efa",
          "pattern": {
           "shape": ""
          }
         },
         "name": "November",
         "offsetgroup": "November",
         "orientation": "v",
         "showlegend": true,
         "textposition": "auto",
         "type": "bar",
         "x": [
          "November"
         ],
         "xaxis": "x",
         "y": [
          6794
         ],
         "yaxis": "y"
        },
        {
         "alignmentgroup": "True",
         "hovertemplate": "arrival_date_month=%{x}<br>no_of_booking=%{y}<extra></extra>",
         "legendgroup": "December",
         "marker": {
          "color": "#EF553B",
          "pattern": {
           "shape": ""
          }
         },
         "name": "December",
         "offsetgroup": "December",
         "orientation": "v",
         "showlegend": true,
         "textposition": "auto",
         "type": "bar",
         "x": [
          "December"
         ],
         "xaxis": "x",
         "y": [
          6780
         ],
         "yaxis": "y"
        }
       ],
       "layout": {
        "barmode": "relative",
        "legend": {
         "title": {
          "text": "arrival_date_month"
         },
         "tracegroupgap": 0
        },
        "template": {
         "data": {
          "bar": [
           {
            "error_x": {
             "color": "#2a3f5f"
            },
            "error_y": {
             "color": "#2a3f5f"
            },
            "marker": {
             "line": {
              "color": "#E5ECF6",
              "width": 0.5
             },
             "pattern": {
              "fillmode": "overlay",
              "size": 10,
              "solidity": 0.2
             }
            },
            "type": "bar"
           }
          ],
          "barpolar": [
           {
            "marker": {
             "line": {
              "color": "#E5ECF6",
              "width": 0.5
             },
             "pattern": {
              "fillmode": "overlay",
              "size": 10,
              "solidity": 0.2
             }
            },
            "type": "barpolar"
           }
          ],
          "carpet": [
           {
            "aaxis": {
             "endlinecolor": "#2a3f5f",
             "gridcolor": "white",
             "linecolor": "white",
             "minorgridcolor": "white",
             "startlinecolor": "#2a3f5f"
            },
            "baxis": {
             "endlinecolor": "#2a3f5f",
             "gridcolor": "white",
             "linecolor": "white",
             "minorgridcolor": "white",
             "startlinecolor": "#2a3f5f"
            },
            "type": "carpet"
           }
          ],
          "choropleth": [
           {
            "colorbar": {
             "outlinewidth": 0,
             "ticks": ""
            },
            "type": "choropleth"
           }
          ],
          "contour": [
           {
            "colorbar": {
             "outlinewidth": 0,
             "ticks": ""
            },
            "colorscale": [
             [
              0.0,
              "#0d0887"
             ],
             [
              0.1111111111111111,
              "#46039f"
             ],
             [
              0.2222222222222222,
              "#7201a8"
             ],
             [
              0.3333333333333333,
              "#9c179e"
             ],
             [
              0.4444444444444444,
              "#bd3786"
             ],
             [
              0.5555555555555556,
              "#d8576b"
             ],
             [
              0.6666666666666666,
              "#ed7953"
             ],
             [
              0.7777777777777778,
              "#fb9f3a"
             ],
             [
              0.8888888888888888,
              "#fdca26"
             ],
             [
              1.0,
              "#f0f921"
             ]
            ],
            "type": "contour"
           }
          ],
          "contourcarpet": [
           {
            "colorbar": {
             "outlinewidth": 0,
             "ticks": ""
            },
            "type": "contourcarpet"
           }
          ],
          "heatmap": [
           {
            "colorbar": {
             "outlinewidth": 0,
             "ticks": ""
            },
            "colorscale": [
             [
              0.0,
              "#0d0887"
             ],
             [
              0.1111111111111111,
              "#46039f"
             ],
             [
              0.2222222222222222,
              "#7201a8"
             ],
             [
              0.3333333333333333,
              "#9c179e"
             ],
             [
              0.4444444444444444,
              "#bd3786"
             ],
             [
              0.5555555555555556,
              "#d8576b"
             ],
             [
              0.6666666666666666,
              "#ed7953"
             ],
             [
              0.7777777777777778,
              "#fb9f3a"
             ],
             [
              0.8888888888888888,
              "#fdca26"
             ],
             [
              1.0,
              "#f0f921"
             ]
            ],
            "type": "heatmap"
           }
          ],
          "heatmapgl": [
           {
            "colorbar": {
             "outlinewidth": 0,
             "ticks": ""
            },
            "colorscale": [
             [
              0.0,
              "#0d0887"
             ],
             [
              0.1111111111111111,
              "#46039f"
             ],
             [
              0.2222222222222222,
              "#7201a8"
             ],
             [
              0.3333333333333333,
              "#9c179e"
             ],
             [
              0.4444444444444444,
              "#bd3786"
             ],
             [
              0.5555555555555556,
              "#d8576b"
             ],
             [
              0.6666666666666666,
              "#ed7953"
             ],
             [
              0.7777777777777778,
              "#fb9f3a"
             ],
             [
              0.8888888888888888,
              "#fdca26"
             ],
             [
              1.0,
              "#f0f921"
             ]
            ],
            "type": "heatmapgl"
           }
          ],
          "histogram": [
           {
            "marker": {
             "pattern": {
              "fillmode": "overlay",
              "size": 10,
              "solidity": 0.2
             }
            },
            "type": "histogram"
           }
          ],
          "histogram2d": [
           {
            "colorbar": {
             "outlinewidth": 0,
             "ticks": ""
            },
            "colorscale": [
             [
              0.0,
              "#0d0887"
             ],
             [
              0.1111111111111111,
              "#46039f"
             ],
             [
              0.2222222222222222,
              "#7201a8"
             ],
             [
              0.3333333333333333,
              "#9c179e"
             ],
             [
              0.4444444444444444,
              "#bd3786"
             ],
             [
              0.5555555555555556,
              "#d8576b"
             ],
             [
              0.6666666666666666,
              "#ed7953"
             ],
             [
              0.7777777777777778,
              "#fb9f3a"
             ],
             [
              0.8888888888888888,
              "#fdca26"
             ],
             [
              1.0,
              "#f0f921"
             ]
            ],
            "type": "histogram2d"
           }
          ],
          "histogram2dcontour": [
           {
            "colorbar": {
             "outlinewidth": 0,
             "ticks": ""
            },
            "colorscale": [
             [
              0.0,
              "#0d0887"
             ],
             [
              0.1111111111111111,
              "#46039f"
             ],
             [
              0.2222222222222222,
              "#7201a8"
             ],
             [
              0.3333333333333333,
              "#9c179e"
             ],
             [
              0.4444444444444444,
              "#bd3786"
             ],
             [
              0.5555555555555556,
              "#d8576b"
             ],
             [
              0.6666666666666666,
              "#ed7953"
             ],
             [
              0.7777777777777778,
              "#fb9f3a"
             ],
             [
              0.8888888888888888,
              "#fdca26"
             ],
             [
              1.0,
              "#f0f921"
             ]
            ],
            "type": "histogram2dcontour"
           }
          ],
          "mesh3d": [
           {
            "colorbar": {
             "outlinewidth": 0,
             "ticks": ""
            },
            "type": "mesh3d"
           }
          ],
          "parcoords": [
           {
            "line": {
             "colorbar": {
              "outlinewidth": 0,
              "ticks": ""
             }
            },
            "type": "parcoords"
           }
          ],
          "pie": [
           {
            "automargin": true,
            "type": "pie"
           }
          ],
          "scatter": [
           {
            "fillpattern": {
             "fillmode": "overlay",
             "size": 10,
             "solidity": 0.2
            },
            "type": "scatter"
           }
          ],
          "scatter3d": [
           {
            "line": {
             "colorbar": {
              "outlinewidth": 0,
              "ticks": ""
             }
            },
            "marker": {
             "colorbar": {
              "outlinewidth": 0,
              "ticks": ""
             }
            },
            "type": "scatter3d"
           }
          ],
          "scattercarpet": [
           {
            "marker": {
             "colorbar": {
              "outlinewidth": 0,
              "ticks": ""
             }
            },
            "type": "scattercarpet"
           }
          ],
          "scattergeo": [
           {
            "marker": {
             "colorbar": {
              "outlinewidth": 0,
              "ticks": ""
             }
            },
            "type": "scattergeo"
           }
          ],
          "scattergl": [
           {
            "marker": {
             "colorbar": {
              "outlinewidth": 0,
              "ticks": ""
             }
            },
            "type": "scattergl"
           }
          ],
          "scattermapbox": [
           {
            "marker": {
             "colorbar": {
              "outlinewidth": 0,
              "ticks": ""
             }
            },
            "type": "scattermapbox"
           }
          ],
          "scatterpolar": [
           {
            "marker": {
             "colorbar": {
              "outlinewidth": 0,
              "ticks": ""
             }
            },
            "type": "scatterpolar"
           }
          ],
          "scatterpolargl": [
           {
            "marker": {
             "colorbar": {
              "outlinewidth": 0,
              "ticks": ""
             }
            },
            "type": "scatterpolargl"
           }
          ],
          "scatterternary": [
           {
            "marker": {
             "colorbar": {
              "outlinewidth": 0,
              "ticks": ""
             }
            },
            "type": "scatterternary"
           }
          ],
          "surface": [
           {
            "colorbar": {
             "outlinewidth": 0,
             "ticks": ""
            },
            "colorscale": [
             [
              0.0,
              "#0d0887"
             ],
             [
              0.1111111111111111,
              "#46039f"
             ],
             [
              0.2222222222222222,
              "#7201a8"
             ],
             [
              0.3333333333333333,
              "#9c179e"
             ],
             [
              0.4444444444444444,
              "#bd3786"
             ],
             [
              0.5555555555555556,
              "#d8576b"
             ],
             [
              0.6666666666666666,
              "#ed7953"
             ],
             [
              0.7777777777777778,
              "#fb9f3a"
             ],
             [
              0.8888888888888888,
              "#fdca26"
             ],
             [
              1.0,
              "#f0f921"
             ]
            ],
            "type": "surface"
           }
          ],
          "table": [
           {
            "cells": {
             "fill": {
              "color": "#EBF0F8"
             },
             "line": {
              "color": "white"
             }
            },
            "header": {
             "fill": {
              "color": "#C8D4E3"
             },
             "line": {
              "color": "white"
             }
            },
            "type": "table"
           }
          ]
         },
         "layout": {
          "annotationdefaults": {
           "arrowcolor": "#2a3f5f",
           "arrowhead": 0,
           "arrowwidth": 1
          },
          "autotypenumbers": "strict",
          "coloraxis": {
           "colorbar": {
            "outlinewidth": 0,
            "ticks": ""
           }
          },
          "colorscale": {
           "diverging": [
            [
             0,
             "#8e0152"
            ],
            [
             0.1,
             "#c51b7d"
            ],
            [
             0.2,
             "#de77ae"
            ],
            [
             0.3,
             "#f1b6da"
            ],
            [
             0.4,
             "#fde0ef"
            ],
            [
             0.5,
             "#f7f7f7"
            ],
            [
             0.6,
             "#e6f5d0"
            ],
            [
             0.7,
             "#b8e186"
            ],
            [
             0.8,
             "#7fbc41"
            ],
            [
             0.9,
             "#4d9221"
            ],
            [
             1,
             "#276419"
            ]
           ],
           "sequential": [
            [
             0.0,
             "#0d0887"
            ],
            [
             0.1111111111111111,
             "#46039f"
            ],
            [
             0.2222222222222222,
             "#7201a8"
            ],
            [
             0.3333333333333333,
             "#9c179e"
            ],
            [
             0.4444444444444444,
             "#bd3786"
            ],
            [
             0.5555555555555556,
             "#d8576b"
            ],
            [
             0.6666666666666666,
             "#ed7953"
            ],
            [
             0.7777777777777778,
             "#fb9f3a"
            ],
            [
             0.8888888888888888,
             "#fdca26"
            ],
            [
             1.0,
             "#f0f921"
            ]
           ],
           "sequentialminus": [
            [
             0.0,
             "#0d0887"
            ],
            [
             0.1111111111111111,
             "#46039f"
            ],
            [
             0.2222222222222222,
             "#7201a8"
            ],
            [
             0.3333333333333333,
             "#9c179e"
            ],
            [
             0.4444444444444444,
             "#bd3786"
            ],
            [
             0.5555555555555556,
             "#d8576b"
            ],
            [
             0.6666666666666666,
             "#ed7953"
            ],
            [
             0.7777777777777778,
             "#fb9f3a"
            ],
            [
             0.8888888888888888,
             "#fdca26"
            ],
            [
             1.0,
             "#f0f921"
            ]
           ]
          },
          "colorway": [
           "#636efa",
           "#EF553B",
           "#00cc96",
           "#ab63fa",
           "#FFA15A",
           "#19d3f3",
           "#FF6692",
           "#B6E880",
           "#FF97FF",
           "#FECB52"
          ],
          "font": {
           "color": "#2a3f5f"
          },
          "geo": {
           "bgcolor": "white",
           "lakecolor": "white",
           "landcolor": "#E5ECF6",
           "showlakes": true,
           "showland": true,
           "subunitcolor": "white"
          },
          "hoverlabel": {
           "align": "left"
          },
          "hovermode": "closest",
          "mapbox": {
           "style": "light"
          },
          "paper_bgcolor": "white",
          "plot_bgcolor": "#E5ECF6",
          "polar": {
           "angularaxis": {
            "gridcolor": "white",
            "linecolor": "white",
            "ticks": ""
           },
           "bgcolor": "#E5ECF6",
           "radialaxis": {
            "gridcolor": "white",
            "linecolor": "white",
            "ticks": ""
           }
          },
          "scene": {
           "xaxis": {
            "backgroundcolor": "#E5ECF6",
            "gridcolor": "white",
            "gridwidth": 2,
            "linecolor": "white",
            "showbackground": true,
            "ticks": "",
            "zerolinecolor": "white"
           },
           "yaxis": {
            "backgroundcolor": "#E5ECF6",
            "gridcolor": "white",
            "gridwidth": 2,
            "linecolor": "white",
            "showbackground": true,
            "ticks": "",
            "zerolinecolor": "white"
           },
           "zaxis": {
            "backgroundcolor": "#E5ECF6",
            "gridcolor": "white",
            "gridwidth": 2,
            "linecolor": "white",
            "showbackground": true,
            "ticks": "",
            "zerolinecolor": "white"
           }
          },
          "shapedefaults": {
           "line": {
            "color": "#2a3f5f"
           }
          },
          "ternary": {
           "aaxis": {
            "gridcolor": "white",
            "linecolor": "white",
            "ticks": ""
           },
           "baxis": {
            "gridcolor": "white",
            "linecolor": "white",
            "ticks": ""
           },
           "bgcolor": "#E5ECF6",
           "caxis": {
            "gridcolor": "white",
            "linecolor": "white",
            "ticks": ""
           }
          },
          "title": {
           "x": 0.05
          },
          "xaxis": {
           "automargin": true,
           "gridcolor": "white",
           "linecolor": "white",
           "ticks": "",
           "title": {
            "standoff": 15
           },
           "zerolinecolor": "white",
           "zerolinewidth": 2
          },
          "yaxis": {
           "automargin": true,
           "gridcolor": "white",
           "linecolor": "white",
           "ticks": "",
           "title": {
            "standoff": 15
           },
           "zerolinecolor": "white",
           "zerolinewidth": 2
          }
         }
        },
        "title": {
         "text": "BOOKINGS BY MONTHS"
        },
        "xaxis": {
         "anchor": "y",
         "categoryarray": [
          "January",
          "February",
          "March",
          "April",
          "May",
          "June",
          "July",
          "August",
          "September",
          "October",
          "November",
          "December"
         ],
         "categoryorder": "array",
         "domain": [
          0.0,
          1.0
         ],
         "title": {
          "text": "arrival_date_month"
         }
        },
        "yaxis": {
         "anchor": "x",
         "domain": [
          0.0,
          1.0
         ],
         "title": {
          "text": "no_of_booking"
         }
        }
       }
      },
      "text/html": [
       "<div>                            <div id=\"e6873e97-f175-4d12-823f-0791a74bc1d5\" class=\"plotly-graph-div\" style=\"height:525px; width:100%;\"></div>            <script type=\"text/javascript\">                require([\"plotly\"], function(Plotly) {                    window.PLOTLYENV=window.PLOTLYENV || {};                                    if (document.getElementById(\"e6873e97-f175-4d12-823f-0791a74bc1d5\")) {                    Plotly.newPlot(                        \"e6873e97-f175-4d12-823f-0791a74bc1d5\",                        [{\"alignmentgroup\":\"True\",\"hovertemplate\":\"arrival_date_month=%{x}<br>no_of_booking=%{y}<extra></extra>\",\"legendgroup\":\"January\",\"marker\":{\"color\":\"#636efa\",\"pattern\":{\"shape\":\"\"}},\"name\":\"January\",\"offsetgroup\":\"January\",\"orientation\":\"v\",\"showlegend\":true,\"textposition\":\"auto\",\"x\":[\"January\"],\"xaxis\":\"x\",\"y\":[5929],\"yaxis\":\"y\",\"type\":\"bar\"},{\"alignmentgroup\":\"True\",\"hovertemplate\":\"arrival_date_month=%{x}<br>no_of_booking=%{y}<extra></extra>\",\"legendgroup\":\"February\",\"marker\":{\"color\":\"#EF553B\",\"pattern\":{\"shape\":\"\"}},\"name\":\"February\",\"offsetgroup\":\"February\",\"orientation\":\"v\",\"showlegend\":true,\"textposition\":\"auto\",\"x\":[\"February\"],\"xaxis\":\"x\",\"y\":[8068],\"yaxis\":\"y\",\"type\":\"bar\"},{\"alignmentgroup\":\"True\",\"hovertemplate\":\"arrival_date_month=%{x}<br>no_of_booking=%{y}<extra></extra>\",\"legendgroup\":\"March\",\"marker\":{\"color\":\"#00cc96\",\"pattern\":{\"shape\":\"\"}},\"name\":\"March\",\"offsetgroup\":\"March\",\"orientation\":\"v\",\"showlegend\":true,\"textposition\":\"auto\",\"x\":[\"March\"],\"xaxis\":\"x\",\"y\":[9794],\"yaxis\":\"y\",\"type\":\"bar\"},{\"alignmentgroup\":\"True\",\"hovertemplate\":\"arrival_date_month=%{x}<br>no_of_booking=%{y}<extra></extra>\",\"legendgroup\":\"April\",\"marker\":{\"color\":\"#ab63fa\",\"pattern\":{\"shape\":\"\"}},\"name\":\"April\",\"offsetgroup\":\"April\",\"orientation\":\"v\",\"showlegend\":true,\"textposition\":\"auto\",\"x\":[\"April\"],\"xaxis\":\"x\",\"y\":[11089],\"yaxis\":\"y\",\"type\":\"bar\"},{\"alignmentgroup\":\"True\",\"hovertemplate\":\"arrival_date_month=%{x}<br>no_of_booking=%{y}<extra></extra>\",\"legendgroup\":\"May\",\"marker\":{\"color\":\"#FFA15A\",\"pattern\":{\"shape\":\"\"}},\"name\":\"May\",\"offsetgroup\":\"May\",\"orientation\":\"v\",\"showlegend\":true,\"textposition\":\"auto\",\"x\":[\"May\"],\"xaxis\":\"x\",\"y\":[11791],\"yaxis\":\"y\",\"type\":\"bar\"},{\"alignmentgroup\":\"True\",\"hovertemplate\":\"arrival_date_month=%{x}<br>no_of_booking=%{y}<extra></extra>\",\"legendgroup\":\"June\",\"marker\":{\"color\":\"#19d3f3\",\"pattern\":{\"shape\":\"\"}},\"name\":\"June\",\"offsetgroup\":\"June\",\"orientation\":\"v\",\"showlegend\":true,\"textposition\":\"auto\",\"x\":[\"June\"],\"xaxis\":\"x\",\"y\":[10939],\"yaxis\":\"y\",\"type\":\"bar\"},{\"alignmentgroup\":\"True\",\"hovertemplate\":\"arrival_date_month=%{x}<br>no_of_booking=%{y}<extra></extra>\",\"legendgroup\":\"July\",\"marker\":{\"color\":\"#FF6692\",\"pattern\":{\"shape\":\"\"}},\"name\":\"July\",\"offsetgroup\":\"July\",\"orientation\":\"v\",\"showlegend\":true,\"textposition\":\"auto\",\"x\":[\"July\"],\"xaxis\":\"x\",\"y\":[12661],\"yaxis\":\"y\",\"type\":\"bar\"},{\"alignmentgroup\":\"True\",\"hovertemplate\":\"arrival_date_month=%{x}<br>no_of_booking=%{y}<extra></extra>\",\"legendgroup\":\"August\",\"marker\":{\"color\":\"#B6E880\",\"pattern\":{\"shape\":\"\"}},\"name\":\"August\",\"offsetgroup\":\"August\",\"orientation\":\"v\",\"showlegend\":true,\"textposition\":\"auto\",\"x\":[\"August\"],\"xaxis\":\"x\",\"y\":[13877],\"yaxis\":\"y\",\"type\":\"bar\"},{\"alignmentgroup\":\"True\",\"hovertemplate\":\"arrival_date_month=%{x}<br>no_of_booking=%{y}<extra></extra>\",\"legendgroup\":\"September\",\"marker\":{\"color\":\"#FF97FF\",\"pattern\":{\"shape\":\"\"}},\"name\":\"September\",\"offsetgroup\":\"September\",\"orientation\":\"v\",\"showlegend\":true,\"textposition\":\"auto\",\"x\":[\"September\"],\"xaxis\":\"x\",\"y\":[10508],\"yaxis\":\"y\",\"type\":\"bar\"},{\"alignmentgroup\":\"True\",\"hovertemplate\":\"arrival_date_month=%{x}<br>no_of_booking=%{y}<extra></extra>\",\"legendgroup\":\"October\",\"marker\":{\"color\":\"#FECB52\",\"pattern\":{\"shape\":\"\"}},\"name\":\"October\",\"offsetgroup\":\"October\",\"orientation\":\"v\",\"showlegend\":true,\"textposition\":\"auto\",\"x\":[\"October\"],\"xaxis\":\"x\",\"y\":[11160],\"yaxis\":\"y\",\"type\":\"bar\"},{\"alignmentgroup\":\"True\",\"hovertemplate\":\"arrival_date_month=%{x}<br>no_of_booking=%{y}<extra></extra>\",\"legendgroup\":\"November\",\"marker\":{\"color\":\"#636efa\",\"pattern\":{\"shape\":\"\"}},\"name\":\"November\",\"offsetgroup\":\"November\",\"orientation\":\"v\",\"showlegend\":true,\"textposition\":\"auto\",\"x\":[\"November\"],\"xaxis\":\"x\",\"y\":[6794],\"yaxis\":\"y\",\"type\":\"bar\"},{\"alignmentgroup\":\"True\",\"hovertemplate\":\"arrival_date_month=%{x}<br>no_of_booking=%{y}<extra></extra>\",\"legendgroup\":\"December\",\"marker\":{\"color\":\"#EF553B\",\"pattern\":{\"shape\":\"\"}},\"name\":\"December\",\"offsetgroup\":\"December\",\"orientation\":\"v\",\"showlegend\":true,\"textposition\":\"auto\",\"x\":[\"December\"],\"xaxis\":\"x\",\"y\":[6780],\"yaxis\":\"y\",\"type\":\"bar\"}],                        {\"template\":{\"data\":{\"histogram2dcontour\":[{\"type\":\"histogram2dcontour\",\"colorbar\":{\"outlinewidth\":0,\"ticks\":\"\"},\"colorscale\":[[0.0,\"#0d0887\"],[0.1111111111111111,\"#46039f\"],[0.2222222222222222,\"#7201a8\"],[0.3333333333333333,\"#9c179e\"],[0.4444444444444444,\"#bd3786\"],[0.5555555555555556,\"#d8576b\"],[0.6666666666666666,\"#ed7953\"],[0.7777777777777778,\"#fb9f3a\"],[0.8888888888888888,\"#fdca26\"],[1.0,\"#f0f921\"]]}],\"choropleth\":[{\"type\":\"choropleth\",\"colorbar\":{\"outlinewidth\":0,\"ticks\":\"\"}}],\"histogram2d\":[{\"type\":\"histogram2d\",\"colorbar\":{\"outlinewidth\":0,\"ticks\":\"\"},\"colorscale\":[[0.0,\"#0d0887\"],[0.1111111111111111,\"#46039f\"],[0.2222222222222222,\"#7201a8\"],[0.3333333333333333,\"#9c179e\"],[0.4444444444444444,\"#bd3786\"],[0.5555555555555556,\"#d8576b\"],[0.6666666666666666,\"#ed7953\"],[0.7777777777777778,\"#fb9f3a\"],[0.8888888888888888,\"#fdca26\"],[1.0,\"#f0f921\"]]}],\"heatmap\":[{\"type\":\"heatmap\",\"colorbar\":{\"outlinewidth\":0,\"ticks\":\"\"},\"colorscale\":[[0.0,\"#0d0887\"],[0.1111111111111111,\"#46039f\"],[0.2222222222222222,\"#7201a8\"],[0.3333333333333333,\"#9c179e\"],[0.4444444444444444,\"#bd3786\"],[0.5555555555555556,\"#d8576b\"],[0.6666666666666666,\"#ed7953\"],[0.7777777777777778,\"#fb9f3a\"],[0.8888888888888888,\"#fdca26\"],[1.0,\"#f0f921\"]]}],\"heatmapgl\":[{\"type\":\"heatmapgl\",\"colorbar\":{\"outlinewidth\":0,\"ticks\":\"\"},\"colorscale\":[[0.0,\"#0d0887\"],[0.1111111111111111,\"#46039f\"],[0.2222222222222222,\"#7201a8\"],[0.3333333333333333,\"#9c179e\"],[0.4444444444444444,\"#bd3786\"],[0.5555555555555556,\"#d8576b\"],[0.6666666666666666,\"#ed7953\"],[0.7777777777777778,\"#fb9f3a\"],[0.8888888888888888,\"#fdca26\"],[1.0,\"#f0f921\"]]}],\"contourcarpet\":[{\"type\":\"contourcarpet\",\"colorbar\":{\"outlinewidth\":0,\"ticks\":\"\"}}],\"contour\":[{\"type\":\"contour\",\"colorbar\":{\"outlinewidth\":0,\"ticks\":\"\"},\"colorscale\":[[0.0,\"#0d0887\"],[0.1111111111111111,\"#46039f\"],[0.2222222222222222,\"#7201a8\"],[0.3333333333333333,\"#9c179e\"],[0.4444444444444444,\"#bd3786\"],[0.5555555555555556,\"#d8576b\"],[0.6666666666666666,\"#ed7953\"],[0.7777777777777778,\"#fb9f3a\"],[0.8888888888888888,\"#fdca26\"],[1.0,\"#f0f921\"]]}],\"surface\":[{\"type\":\"surface\",\"colorbar\":{\"outlinewidth\":0,\"ticks\":\"\"},\"colorscale\":[[0.0,\"#0d0887\"],[0.1111111111111111,\"#46039f\"],[0.2222222222222222,\"#7201a8\"],[0.3333333333333333,\"#9c179e\"],[0.4444444444444444,\"#bd3786\"],[0.5555555555555556,\"#d8576b\"],[0.6666666666666666,\"#ed7953\"],[0.7777777777777778,\"#fb9f3a\"],[0.8888888888888888,\"#fdca26\"],[1.0,\"#f0f921\"]]}],\"mesh3d\":[{\"type\":\"mesh3d\",\"colorbar\":{\"outlinewidth\":0,\"ticks\":\"\"}}],\"scatter\":[{\"fillpattern\":{\"fillmode\":\"overlay\",\"size\":10,\"solidity\":0.2},\"type\":\"scatter\"}],\"parcoords\":[{\"type\":\"parcoords\",\"line\":{\"colorbar\":{\"outlinewidth\":0,\"ticks\":\"\"}}}],\"scatterpolargl\":[{\"type\":\"scatterpolargl\",\"marker\":{\"colorbar\":{\"outlinewidth\":0,\"ticks\":\"\"}}}],\"bar\":[{\"error_x\":{\"color\":\"#2a3f5f\"},\"error_y\":{\"color\":\"#2a3f5f\"},\"marker\":{\"line\":{\"color\":\"#E5ECF6\",\"width\":0.5},\"pattern\":{\"fillmode\":\"overlay\",\"size\":10,\"solidity\":0.2}},\"type\":\"bar\"}],\"scattergeo\":[{\"type\":\"scattergeo\",\"marker\":{\"colorbar\":{\"outlinewidth\":0,\"ticks\":\"\"}}}],\"scatterpolar\":[{\"type\":\"scatterpolar\",\"marker\":{\"colorbar\":{\"outlinewidth\":0,\"ticks\":\"\"}}}],\"histogram\":[{\"marker\":{\"pattern\":{\"fillmode\":\"overlay\",\"size\":10,\"solidity\":0.2}},\"type\":\"histogram\"}],\"scattergl\":[{\"type\":\"scattergl\",\"marker\":{\"colorbar\":{\"outlinewidth\":0,\"ticks\":\"\"}}}],\"scatter3d\":[{\"type\":\"scatter3d\",\"line\":{\"colorbar\":{\"outlinewidth\":0,\"ticks\":\"\"}},\"marker\":{\"colorbar\":{\"outlinewidth\":0,\"ticks\":\"\"}}}],\"scattermapbox\":[{\"type\":\"scattermapbox\",\"marker\":{\"colorbar\":{\"outlinewidth\":0,\"ticks\":\"\"}}}],\"scatterternary\":[{\"type\":\"scatterternary\",\"marker\":{\"colorbar\":{\"outlinewidth\":0,\"ticks\":\"\"}}}],\"scattercarpet\":[{\"type\":\"scattercarpet\",\"marker\":{\"colorbar\":{\"outlinewidth\":0,\"ticks\":\"\"}}}],\"carpet\":[{\"aaxis\":{\"endlinecolor\":\"#2a3f5f\",\"gridcolor\":\"white\",\"linecolor\":\"white\",\"minorgridcolor\":\"white\",\"startlinecolor\":\"#2a3f5f\"},\"baxis\":{\"endlinecolor\":\"#2a3f5f\",\"gridcolor\":\"white\",\"linecolor\":\"white\",\"minorgridcolor\":\"white\",\"startlinecolor\":\"#2a3f5f\"},\"type\":\"carpet\"}],\"table\":[{\"cells\":{\"fill\":{\"color\":\"#EBF0F8\"},\"line\":{\"color\":\"white\"}},\"header\":{\"fill\":{\"color\":\"#C8D4E3\"},\"line\":{\"color\":\"white\"}},\"type\":\"table\"}],\"barpolar\":[{\"marker\":{\"line\":{\"color\":\"#E5ECF6\",\"width\":0.5},\"pattern\":{\"fillmode\":\"overlay\",\"size\":10,\"solidity\":0.2}},\"type\":\"barpolar\"}],\"pie\":[{\"automargin\":true,\"type\":\"pie\"}]},\"layout\":{\"autotypenumbers\":\"strict\",\"colorway\":[\"#636efa\",\"#EF553B\",\"#00cc96\",\"#ab63fa\",\"#FFA15A\",\"#19d3f3\",\"#FF6692\",\"#B6E880\",\"#FF97FF\",\"#FECB52\"],\"font\":{\"color\":\"#2a3f5f\"},\"hovermode\":\"closest\",\"hoverlabel\":{\"align\":\"left\"},\"paper_bgcolor\":\"white\",\"plot_bgcolor\":\"#E5ECF6\",\"polar\":{\"bgcolor\":\"#E5ECF6\",\"angularaxis\":{\"gridcolor\":\"white\",\"linecolor\":\"white\",\"ticks\":\"\"},\"radialaxis\":{\"gridcolor\":\"white\",\"linecolor\":\"white\",\"ticks\":\"\"}},\"ternary\":{\"bgcolor\":\"#E5ECF6\",\"aaxis\":{\"gridcolor\":\"white\",\"linecolor\":\"white\",\"ticks\":\"\"},\"baxis\":{\"gridcolor\":\"white\",\"linecolor\":\"white\",\"ticks\":\"\"},\"caxis\":{\"gridcolor\":\"white\",\"linecolor\":\"white\",\"ticks\":\"\"}},\"coloraxis\":{\"colorbar\":{\"outlinewidth\":0,\"ticks\":\"\"}},\"colorscale\":{\"sequential\":[[0.0,\"#0d0887\"],[0.1111111111111111,\"#46039f\"],[0.2222222222222222,\"#7201a8\"],[0.3333333333333333,\"#9c179e\"],[0.4444444444444444,\"#bd3786\"],[0.5555555555555556,\"#d8576b\"],[0.6666666666666666,\"#ed7953\"],[0.7777777777777778,\"#fb9f3a\"],[0.8888888888888888,\"#fdca26\"],[1.0,\"#f0f921\"]],\"sequentialminus\":[[0.0,\"#0d0887\"],[0.1111111111111111,\"#46039f\"],[0.2222222222222222,\"#7201a8\"],[0.3333333333333333,\"#9c179e\"],[0.4444444444444444,\"#bd3786\"],[0.5555555555555556,\"#d8576b\"],[0.6666666666666666,\"#ed7953\"],[0.7777777777777778,\"#fb9f3a\"],[0.8888888888888888,\"#fdca26\"],[1.0,\"#f0f921\"]],\"diverging\":[[0,\"#8e0152\"],[0.1,\"#c51b7d\"],[0.2,\"#de77ae\"],[0.3,\"#f1b6da\"],[0.4,\"#fde0ef\"],[0.5,\"#f7f7f7\"],[0.6,\"#e6f5d0\"],[0.7,\"#b8e186\"],[0.8,\"#7fbc41\"],[0.9,\"#4d9221\"],[1,\"#276419\"]]},\"xaxis\":{\"gridcolor\":\"white\",\"linecolor\":\"white\",\"ticks\":\"\",\"title\":{\"standoff\":15},\"zerolinecolor\":\"white\",\"automargin\":true,\"zerolinewidth\":2},\"yaxis\":{\"gridcolor\":\"white\",\"linecolor\":\"white\",\"ticks\":\"\",\"title\":{\"standoff\":15},\"zerolinecolor\":\"white\",\"automargin\":true,\"zerolinewidth\":2},\"scene\":{\"xaxis\":{\"backgroundcolor\":\"#E5ECF6\",\"gridcolor\":\"white\",\"linecolor\":\"white\",\"showbackground\":true,\"ticks\":\"\",\"zerolinecolor\":\"white\",\"gridwidth\":2},\"yaxis\":{\"backgroundcolor\":\"#E5ECF6\",\"gridcolor\":\"white\",\"linecolor\":\"white\",\"showbackground\":true,\"ticks\":\"\",\"zerolinecolor\":\"white\",\"gridwidth\":2},\"zaxis\":{\"backgroundcolor\":\"#E5ECF6\",\"gridcolor\":\"white\",\"linecolor\":\"white\",\"showbackground\":true,\"ticks\":\"\",\"zerolinecolor\":\"white\",\"gridwidth\":2}},\"shapedefaults\":{\"line\":{\"color\":\"#2a3f5f\"}},\"annotationdefaults\":{\"arrowcolor\":\"#2a3f5f\",\"arrowhead\":0,\"arrowwidth\":1},\"geo\":{\"bgcolor\":\"white\",\"landcolor\":\"#E5ECF6\",\"subunitcolor\":\"white\",\"showland\":true,\"showlakes\":true,\"lakecolor\":\"white\"},\"title\":{\"x\":0.05},\"mapbox\":{\"style\":\"light\"}}},\"xaxis\":{\"anchor\":\"y\",\"domain\":[0.0,1.0],\"title\":{\"text\":\"arrival_date_month\"},\"categoryorder\":\"array\",\"categoryarray\":[\"January\",\"February\",\"March\",\"April\",\"May\",\"June\",\"July\",\"August\",\"September\",\"October\",\"November\",\"December\"]},\"yaxis\":{\"anchor\":\"x\",\"domain\":[0.0,1.0],\"title\":{\"text\":\"no_of_booking\"}},\"legend\":{\"title\":{\"text\":\"arrival_date_month\"},\"tracegroupgap\":0},\"title\":{\"text\":\"BOOKINGS BY MONTHS\"},\"barmode\":\"relative\"},                        {\"displayModeBar\": true, \"responsive\": true}                    ).then(function(){\n",
       "                            \n",
       "var gd = document.getElementById('e6873e97-f175-4d12-823f-0791a74bc1d5');\n",
       "var x = new MutationObserver(function (mutations, observer) {{\n",
       "        var display = window.getComputedStyle(gd).display;\n",
       "        if (!display || display === 'none') {{\n",
       "            console.log([gd, 'removed!']);\n",
       "            Plotly.purge(gd);\n",
       "            observer.disconnect();\n",
       "        }}\n",
       "}});\n",
       "\n",
       "// Listen for the removal of the full notebook cells\n",
       "var notebookContainer = gd.closest('#notebook-container');\n",
       "if (notebookContainer) {{\n",
       "    x.observe(notebookContainer, {childList: true});\n",
       "}}\n",
       "\n",
       "// Listen for the clearing of the current output cell\n",
       "var outputEl = gd.closest('.output');\n",
       "if (outputEl) {{\n",
       "    x.observe(outputEl, {childList: true});\n",
       "}}\n",
       "\n",
       "                        })                };                });            </script>        </div>"
      ]
     },
     "metadata": {},
     "output_type": "display_data"
    }
   ],
   "source": [
    "import plotly.offline as py\n",
    "py.init_notebook_mode(connected=True)\n",
    "booking_by_month = hotels_df.groupby('arrival_date_month',as_index=False)[['hotel']].count().rename(columns={\"hotel\":\"no_of_booking\"})\n",
    "\n",
    "\n",
    "fig=px.bar(booking_by_month,\n",
    "          x='arrival_date_month',\n",
    "          y='no_of_booking',color='arrival_date_month',orientation='v',\n",
    "          title='BOOKINGS BY MONTHS'\n",
    "          )\n",
    "fig.show(config={\"displayModeBar\":True})"
   ]
  },
  {
   "cell_type": "code",
   "execution_count": null,
   "id": "af80a24d",
   "metadata": {
    "papermill": {
     "duration": 0.023675,
     "end_time": "2023-03-19T10:01:35.979189",
     "exception": false,
     "start_time": "2023-03-19T10:01:35.955514",
     "status": "completed"
    },
    "tags": []
   },
   "outputs": [],
   "source": []
  },
  {
   "cell_type": "code",
   "execution_count": null,
   "id": "984677cf",
   "metadata": {
    "papermill": {
     "duration": 0.023625,
     "end_time": "2023-03-19T10:01:36.027082",
     "exception": false,
     "start_time": "2023-03-19T10:01:36.003457",
     "status": "completed"
    },
    "tags": []
   },
   "outputs": [],
   "source": []
  },
  {
   "cell_type": "code",
   "execution_count": null,
   "id": "5aec4ba2",
   "metadata": {
    "papermill": {
     "duration": 0.023614,
     "end_time": "2023-03-19T10:01:36.074536",
     "exception": false,
     "start_time": "2023-03-19T10:01:36.050922",
     "status": "completed"
    },
    "tags": []
   },
   "outputs": [],
   "source": []
  }
 ],
 "metadata": {
  "kernelspec": {
   "display_name": "Python 3",
   "language": "python",
   "name": "python3"
  },
  "language_info": {
   "codemirror_mode": {
    "name": "ipython",
    "version": 3
   },
   "file_extension": ".py",
   "mimetype": "text/x-python",
   "name": "python",
   "nbconvert_exporter": "python",
   "pygments_lexer": "ipython3",
   "version": "3.7.12"
  },
  "papermill": {
   "default_parameters": {},
   "duration": 33.542436,
   "end_time": "2023-03-19T10:01:37.021223",
   "environment_variables": {},
   "exception": null,
   "input_path": "__notebook__.ipynb",
   "output_path": "__notebook__.ipynb",
   "parameters": {},
   "start_time": "2023-03-19T10:01:03.478787",
   "version": "2.4.0"
  }
 },
 "nbformat": 4,
 "nbformat_minor": 5
}
